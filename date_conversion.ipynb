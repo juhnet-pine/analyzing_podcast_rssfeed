{
 "cells": [
  {
   "cell_type": "markdown",
   "metadata": {},
   "source": [
    "# Converting the Publication Date to Year and Month in separate columns "
   ]
  },
  {
   "cell_type": "code",
   "execution_count": 3,
   "metadata": {},
   "outputs": [],
   "source": [
    "#import from standard Python Library \n",
    "from datetime import datetime"
   ]
  },
  {
   "cell_type": "code",
   "execution_count": 2,
   "metadata": {},
   "outputs": [],
   "source": [
    "# Create a temporary dictionary to mimic unprepared data on RSS feed. \n",
    "date_temp = [{'title':'SYMHC Classics:The Tussaud Test of Popularity','pubDate':'Sat, 23 Oct 2021 13:00:00 +0000'} ,  \n",
    "             {'title':'Julio Tello, Peru’s Archaeological Trail Blazer', 'pubDate': 'Mon, 01 Feb 2021 14:00:00 +0000'},\n",
    "             {'title':'Grand Central Terminal', 'pubDate':'Mon, 01 Mar 2021 15:18:44 +0000'},\n",
    "             {'title':'Behind the Scenes Minis: Crowley and Cagliostro', 'pubDate':'Fri, 08 Oct 2021 13:00:00 +0000'},\n",
    "             {'title':'Behind the Scenes Minis: Tod Browning', 'pubDate': 'Fri, 01 Oct 2021 13:00:00 +0000'},\n",
    "             {'title':'Unearthed! Year-end 2020, Part 2','pubDate':'Wed, 13 Jan 2021 14:30:00 +0000'}]"
   ]
  },
  {
   "cell_type": "code",
   "execution_count": 4,
   "metadata": {},
   "outputs": [
    {
     "name": "stdout",
     "output_type": "stream",
     "text": [
      "2021-10-23 13:00:00+00:00\n"
     ]
    }
   ],
   "source": [
    "#testing my code. \n",
    "my_string = 'Sat, 23 Oct 2021 13:00:00 +0000'\n",
    "\n",
    "my_date = datetime.strptime(my_string, \"%a, %d %b %Y %H:%M:%S %z\") \n",
    "#https://strftime.org--cheatsheet \n",
    "print(my_date)"
   ]
  },
  {
   "cell_type": "code",
   "execution_count": 5,
   "metadata": {},
   "outputs": [
    {
     "data": {
      "text/plain": [
       "10"
      ]
     },
     "execution_count": 5,
     "metadata": {},
     "output_type": "execute_result"
    }
   ],
   "source": [
    "my_date.month"
   ]
  },
  {
   "cell_type": "code",
   "execution_count": 6,
   "metadata": {},
   "outputs": [
    {
     "data": {
      "text/plain": [
       "2021"
      ]
     },
     "execution_count": 6,
     "metadata": {},
     "output_type": "execute_result"
    }
   ],
   "source": [
    "my_date.year"
   ]
  },
  {
   "cell_type": "code",
   "execution_count": 7,
   "metadata": {},
   "outputs": [],
   "source": [
    "def convert_date(date_string): \n",
    "    date = datetime.strptime(date_string, \"%a, %d %b %Y %H:%M:%S %z\") \n",
    "    return date"
   ]
  },
  {
   "cell_type": "code",
   "execution_count": 8,
   "metadata": {},
   "outputs": [
    {
     "name": "stdout",
     "output_type": "stream",
     "text": [
      "2021-10-23 13:00:00+00:00\n",
      "2021-02-01 14:00:00+00:00\n",
      "2021-03-01 15:18:44+00:00\n",
      "2021-10-08 13:00:00+00:00\n",
      "2021-10-01 13:00:00+00:00\n",
      "2021-01-13 14:30:00+00:00\n"
     ]
    }
   ],
   "source": [
    "for ep in date_temp:\n",
    "    print(convert_date(ep['pubDate']))"
   ]
  },
  {
   "cell_type": "code",
   "execution_count": 9,
   "metadata": {},
   "outputs": [
    {
     "name": "stdout",
     "output_type": "stream",
     "text": [
      "10\n",
      "2\n",
      "3\n",
      "10\n",
      "10\n",
      "1\n"
     ]
    }
   ],
   "source": [
    "for ep in date_temp:\n",
    "    print(convert_date(ep['pubDate']).month)"
   ]
  },
  {
   "cell_type": "code",
   "execution_count": 10,
   "metadata": {},
   "outputs": [
    {
     "name": "stdout",
     "output_type": "stream",
     "text": [
      "2021\n",
      "2021\n",
      "2021\n",
      "2021\n",
      "2021\n",
      "2021\n"
     ]
    }
   ],
   "source": [
    "for ep in date_temp: \n",
    "    print(convert_date(ep['pubDate']).year)"
   ]
  },
  {
   "cell_type": "code",
   "execution_count": null,
   "metadata": {},
   "outputs": [],
   "source": []
  }
 ],
 "metadata": {
  "kernelspec": {
   "display_name": "Python 3",
   "language": "python",
   "name": "python3"
  },
  "language_info": {
   "codemirror_mode": {
    "name": "ipython",
    "version": 3
   },
   "file_extension": ".py",
   "mimetype": "text/x-python",
   "name": "python",
   "nbconvert_exporter": "python",
   "pygments_lexer": "ipython3",
   "version": "3.8.5"
  }
 },
 "nbformat": 4,
 "nbformat_minor": 4
}
