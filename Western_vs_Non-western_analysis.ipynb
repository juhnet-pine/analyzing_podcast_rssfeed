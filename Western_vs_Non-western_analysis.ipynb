{
 "cells": [
  {
   "cell_type": "markdown",
   "metadata": {},
   "source": [
    "# Western vs. Non-western Country Representation in Episode Descriptions"
   ]
  },
  {
   "cell_type": "code",
   "execution_count": 748,
   "metadata": {},
   "outputs": [],
   "source": [
    "#import necessary libraries and modules \n",
    "import pandas as pd\n",
    "import numpy as np\n",
    "import matplotlib.pyplot as plt \n",
    "%matplotlib inline\n",
    "import seaborn as sns"
   ]
  },
  {
   "cell_type": "markdown",
   "metadata": {},
   "source": [
    "## Loading the Data "
   ]
  },
  {
   "cell_type": "code",
   "execution_count": 755,
   "metadata": {},
   "outputs": [],
   "source": [
    "#Assign Excel file with cleaned and prepped data\n",
    "filename = '/Users/jeanettepyne/Desktop/Illinois_reboot_python_2.0/Data/country_data_split.xlsx'"
   ]
  },
  {
   "cell_type": "code",
   "execution_count": 756,
   "metadata": {},
   "outputs": [],
   "source": [
    "# putting data into a dataframe. \n",
    "df = pd.read_excel(filename, index_col = False)"
   ]
  },
  {
   "cell_type": "code",
   "execution_count": 751,
   "metadata": {},
   "outputs": [
    {
     "data": {
      "text/html": [
       "<div>\n",
       "<style scoped>\n",
       "    .dataframe tbody tr th:only-of-type {\n",
       "        vertical-align: middle;\n",
       "    }\n",
       "\n",
       "    .dataframe tbody tr th {\n",
       "        vertical-align: top;\n",
       "    }\n",
       "\n",
       "    .dataframe thead th {\n",
       "        text-align: right;\n",
       "    }\n",
       "</style>\n",
       "<table border=\"1\" class=\"dataframe\">\n",
       "  <thead>\n",
       "    <tr style=\"text-align: right;\">\n",
       "      <th></th>\n",
       "      <th>Unnamed: 0</th>\n",
       "      <th>Title</th>\n",
       "      <th>Description_clean</th>\n",
       "      <th>Year</th>\n",
       "      <th>Month</th>\n",
       "      <th>Duration_min</th>\n",
       "      <th>Type</th>\n",
       "      <th>title_gpe_mentioned</th>\n",
       "      <th>description_gpe_mentioned</th>\n",
       "      <th>Single_Multiple</th>\n",
       "      <th>Country</th>\n",
       "      <th>Region</th>\n",
       "      <th>Global South_North</th>\n",
       "      <th>Classification</th>\n",
       "    </tr>\n",
       "  </thead>\n",
       "  <tbody>\n",
       "    <tr>\n",
       "      <th>0</th>\n",
       "      <td>0</td>\n",
       "      <td>Women’s March on Pretoria, 1956</td>\n",
       "      <td>This 1956 march was a protest against pass law...</td>\n",
       "      <td>2022</td>\n",
       "      <td>3</td>\n",
       "      <td>34</td>\n",
       "      <td>Regular</td>\n",
       "      <td>[['Pretoria', 'GPE']]</td>\n",
       "      <td>[['South Africa’s', 'GPE'], ['South Africa', '...</td>\n",
       "      <td>Single</td>\n",
       "      <td>South Africa</td>\n",
       "      <td>Eastern and Southern Africa</td>\n",
       "      <td>Global South</td>\n",
       "      <td>Non-western</td>\n",
       "    </tr>\n",
       "    <tr>\n",
       "      <th>1</th>\n",
       "      <td>1</td>\n",
       "      <td>Thomas Hardy, Emma Gifford and Florence Dugdale</td>\n",
       "      <td>Once you know about Hardy’s life, it's natural...</td>\n",
       "      <td>2022</td>\n",
       "      <td>3</td>\n",
       "      <td>39</td>\n",
       "      <td>Regular</td>\n",
       "      <td>[]</td>\n",
       "      <td>[['Angelique', 'GPE']]</td>\n",
       "      <td>NaN</td>\n",
       "      <td>NaN</td>\n",
       "      <td>NaN</td>\n",
       "      <td>NaN</td>\n",
       "      <td>NaN</td>\n",
       "    </tr>\n",
       "    <tr>\n",
       "      <th>2</th>\n",
       "      <td>2</td>\n",
       "      <td>SYMHC Classics: 6888th Central Postal Director...</td>\n",
       "      <td>This 2019 episode covers the 6888th Central Po...</td>\n",
       "      <td>2022</td>\n",
       "      <td>3</td>\n",
       "      <td>34</td>\n",
       "      <td>SYMHC Classics:</td>\n",
       "      <td>[]</td>\n",
       "      <td>[['U.S.', 'GPE']]</td>\n",
       "      <td>Single</td>\n",
       "      <td>United States</td>\n",
       "      <td>North America</td>\n",
       "      <td>Global North</td>\n",
       "      <td>Western</td>\n",
       "    </tr>\n",
       "    <tr>\n",
       "      <th>3</th>\n",
       "      <td>3</td>\n",
       "      <td>Behind the Scenes Minis: Maria and Bruno</td>\n",
       "      <td>Tracy shares how she learned about Maria Gertr...</td>\n",
       "      <td>2022</td>\n",
       "      <td>3</td>\n",
       "      <td>19</td>\n",
       "      <td>Behind the Scenes Minis:</td>\n",
       "      <td>[]</td>\n",
       "      <td>[]</td>\n",
       "      <td>NaN</td>\n",
       "      <td>NaN</td>\n",
       "      <td>NaN</td>\n",
       "      <td>NaN</td>\n",
       "      <td>NaN</td>\n",
       "    </tr>\n",
       "    <tr>\n",
       "      <th>4</th>\n",
       "      <td>4</td>\n",
       "      <td>Giordano Bruno</td>\n",
       "      <td>Bruno was a mathematician, philosopher, astron...</td>\n",
       "      <td>2022</td>\n",
       "      <td>3</td>\n",
       "      <td>40</td>\n",
       "      <td>Regular</td>\n",
       "      <td>[]</td>\n",
       "      <td>[['Italy', 'GPE'], ['Martinez', 'GPE']]</td>\n",
       "      <td>Single</td>\n",
       "      <td>Italy</td>\n",
       "      <td>Western Europe</td>\n",
       "      <td>Global North</td>\n",
       "      <td>Western</td>\n",
       "    </tr>\n",
       "  </tbody>\n",
       "</table>\n",
       "</div>"
      ],
      "text/plain": [
       "   Unnamed: 0                                              Title  \\\n",
       "0           0                    Women’s March on Pretoria, 1956   \n",
       "1           1    Thomas Hardy, Emma Gifford and Florence Dugdale   \n",
       "2           2  SYMHC Classics: 6888th Central Postal Director...   \n",
       "3           3           Behind the Scenes Minis: Maria and Bruno   \n",
       "4           4                                     Giordano Bruno   \n",
       "\n",
       "                                   Description_clean  Year  Month  \\\n",
       "0  This 1956 march was a protest against pass law...  2022      3   \n",
       "1  Once you know about Hardy’s life, it's natural...  2022      3   \n",
       "2  This 2019 episode covers the 6888th Central Po...  2022      3   \n",
       "3  Tracy shares how she learned about Maria Gertr...  2022      3   \n",
       "4  Bruno was a mathematician, philosopher, astron...  2022      3   \n",
       "\n",
       "   Duration_min                      Type    title_gpe_mentioned  \\\n",
       "0            34                   Regular  [['Pretoria', 'GPE']]   \n",
       "1            39                   Regular                     []   \n",
       "2            34           SYMHC Classics:                     []   \n",
       "3            19  Behind the Scenes Minis:                     []   \n",
       "4            40                   Regular                     []   \n",
       "\n",
       "                           description_gpe_mentioned Single_Multiple  \\\n",
       "0  [['South Africa’s', 'GPE'], ['South Africa', '...         Single    \n",
       "1                             [['Angelique', 'GPE']]             NaN   \n",
       "2                                  [['U.S.', 'GPE']]         Single    \n",
       "3                                                 []             NaN   \n",
       "4            [['Italy', 'GPE'], ['Martinez', 'GPE']]         Single    \n",
       "\n",
       "         Country                       Region Global South_North  \\\n",
       "0   South Africa  Eastern and Southern Africa       Global South   \n",
       "1            NaN                          NaN                NaN   \n",
       "2  United States                North America       Global North   \n",
       "3            NaN                          NaN                NaN   \n",
       "4          Italy               Western Europe       Global North   \n",
       "\n",
       "  Classification  \n",
       "0    Non-western  \n",
       "1            NaN  \n",
       "2        Western  \n",
       "3            NaN  \n",
       "4        Western  "
      ]
     },
     "execution_count": 751,
     "metadata": {},
     "output_type": "execute_result"
    }
   ],
   "source": [
    "df.head()"
   ]
  },
  {
   "cell_type": "code",
   "execution_count": 754,
   "metadata": {},
   "outputs": [
    {
     "data": {
      "text/html": [
       "<div>\n",
       "<style scoped>\n",
       "    .dataframe tbody tr th:only-of-type {\n",
       "        vertical-align: middle;\n",
       "    }\n",
       "\n",
       "    .dataframe tbody tr th {\n",
       "        vertical-align: top;\n",
       "    }\n",
       "\n",
       "    .dataframe thead th {\n",
       "        text-align: right;\n",
       "    }\n",
       "</style>\n",
       "<table border=\"1\" class=\"dataframe\">\n",
       "  <thead>\n",
       "    <tr style=\"text-align: right;\">\n",
       "      <th></th>\n",
       "      <th>Title</th>\n",
       "      <th>Description_clean</th>\n",
       "      <th>Type</th>\n",
       "      <th>Year</th>\n",
       "      <th>Month</th>\n",
       "      <th>Duration_min</th>\n",
       "      <th>Single_Multiple</th>\n",
       "      <th>Country</th>\n",
       "      <th>Region</th>\n",
       "      <th>Classification</th>\n",
       "    </tr>\n",
       "  </thead>\n",
       "  <tbody>\n",
       "    <tr>\n",
       "      <th>922</th>\n",
       "      <td>William Moulton Marston &amp; the Creation of Wond...</td>\n",
       "      <td>Most people know Wonder Woman as an embodiment...</td>\n",
       "      <td>Regular</td>\n",
       "      <td>2017</td>\n",
       "      <td>6</td>\n",
       "      <td>44</td>\n",
       "      <td>NaN</td>\n",
       "      <td>NaN</td>\n",
       "      <td>NaN</td>\n",
       "      <td>NaN</td>\n",
       "    </tr>\n",
       "    <tr>\n",
       "      <th>1555</th>\n",
       "      <td>Tamerlane and the Battle of Ankara</td>\n",
       "      <td>Timur the Lame (that's Tamerlane to the Wester...</td>\n",
       "      <td>Regular</td>\n",
       "      <td>2011</td>\n",
       "      <td>8</td>\n",
       "      <td>22</td>\n",
       "      <td>Single</td>\n",
       "      <td>Turkey</td>\n",
       "      <td>Eastern Europe and Central Asia</td>\n",
       "      <td>Non-western</td>\n",
       "    </tr>\n",
       "    <tr>\n",
       "      <th>1405</th>\n",
       "      <td>5 War Dogs of History</td>\n",
       "      <td>Dogs have been used in war for a long time and...</td>\n",
       "      <td>Regular</td>\n",
       "      <td>2013</td>\n",
       "      <td>1</td>\n",
       "      <td>27</td>\n",
       "      <td>Single</td>\n",
       "      <td>Vietnam</td>\n",
       "      <td>East Asia and Pacific</td>\n",
       "      <td>Non-western</td>\n",
       "    </tr>\n",
       "    <tr>\n",
       "      <th>290</th>\n",
       "      <td>SYMHC Classics: Coubertin and the Modern Olymp...</td>\n",
       "      <td>This episode is our 2016 live show from the Da...</td>\n",
       "      <td>SYMHC Classics:</td>\n",
       "      <td>2020</td>\n",
       "      <td>11</td>\n",
       "      <td>51</td>\n",
       "      <td>NaN</td>\n",
       "      <td>NaN</td>\n",
       "      <td>NaN</td>\n",
       "      <td>NaN</td>\n",
       "    </tr>\n",
       "    <tr>\n",
       "      <th>1058</th>\n",
       "      <td>Knitting's Early History</td>\n",
       "      <td>Because of its functionality in providing need...</td>\n",
       "      <td>Regular</td>\n",
       "      <td>2016</td>\n",
       "      <td>3</td>\n",
       "      <td>36</td>\n",
       "      <td>NaN</td>\n",
       "      <td>NaN</td>\n",
       "      <td>NaN</td>\n",
       "      <td>NaN</td>\n",
       "    </tr>\n",
       "    <tr>\n",
       "      <th>546</th>\n",
       "      <td>The Greenbrier Ghost</td>\n",
       "      <td>The story of Zona Heaster Shue's death and sub...</td>\n",
       "      <td>Regular</td>\n",
       "      <td>2019</td>\n",
       "      <td>10</td>\n",
       "      <td>29</td>\n",
       "      <td>Single</td>\n",
       "      <td>United States</td>\n",
       "      <td>North America</td>\n",
       "      <td>Western</td>\n",
       "    </tr>\n",
       "    <tr>\n",
       "      <th>426</th>\n",
       "      <td>Host Faves: Annette Kellerman</td>\n",
       "      <td>This 2017 episode covers the Australian Keller...</td>\n",
       "      <td>Regular</td>\n",
       "      <td>2020</td>\n",
       "      <td>4</td>\n",
       "      <td>31</td>\n",
       "      <td>NaN</td>\n",
       "      <td>NaN</td>\n",
       "      <td>NaN</td>\n",
       "      <td>NaN</td>\n",
       "    </tr>\n",
       "    <tr>\n",
       "      <th>33</th>\n",
       "      <td>SYMHC Classics: Shirley Chisholm</td>\n",
       "      <td>This 2018 episode Shirley Chisolm, who was pol...</td>\n",
       "      <td>SYMHC Classics:</td>\n",
       "      <td>2022</td>\n",
       "      <td>2</td>\n",
       "      <td>33</td>\n",
       "      <td>Single</td>\n",
       "      <td>United States</td>\n",
       "      <td>North America</td>\n",
       "      <td>Western</td>\n",
       "    </tr>\n",
       "    <tr>\n",
       "      <th>135</th>\n",
       "      <td>Berthe Morisot</td>\n",
       "      <td>Morisot primarily worked in oils, watercolors ...</td>\n",
       "      <td>Regular</td>\n",
       "      <td>2021</td>\n",
       "      <td>8</td>\n",
       "      <td>44</td>\n",
       "      <td>NaN</td>\n",
       "      <td>NaN</td>\n",
       "      <td>NaN</td>\n",
       "      <td>NaN</td>\n",
       "    </tr>\n",
       "    <tr>\n",
       "      <th>512</th>\n",
       "      <td>Ethiopia's Rock-hewn Churches of Lalibela</td>\n",
       "      <td>The complex at Lalibela was excavated from vol...</td>\n",
       "      <td>Regular</td>\n",
       "      <td>2019</td>\n",
       "      <td>12</td>\n",
       "      <td>36</td>\n",
       "      <td>Single</td>\n",
       "      <td>Ethiopia</td>\n",
       "      <td>Eastern and Southern Africa</td>\n",
       "      <td>Non-western</td>\n",
       "    </tr>\n",
       "  </tbody>\n",
       "</table>\n",
       "</div>"
      ],
      "text/plain": [
       "                                                  Title  \\\n",
       "922   William Moulton Marston & the Creation of Wond...   \n",
       "1555                 Tamerlane and the Battle of Ankara   \n",
       "1405                              5 War Dogs of History   \n",
       "290   SYMHC Classics: Coubertin and the Modern Olymp...   \n",
       "1058                           Knitting's Early History   \n",
       "546                                The Greenbrier Ghost   \n",
       "426                       Host Faves: Annette Kellerman   \n",
       "33                     SYMHC Classics: Shirley Chisholm   \n",
       "135                                     Berthe Morisot    \n",
       "512          Ethiopia's Rock-hewn Churches of Lalibela    \n",
       "\n",
       "                                      Description_clean             Type  \\\n",
       "922   Most people know Wonder Woman as an embodiment...          Regular   \n",
       "1555  Timur the Lame (that's Tamerlane to the Wester...          Regular   \n",
       "1405  Dogs have been used in war for a long time and...          Regular   \n",
       "290   This episode is our 2016 live show from the Da...  SYMHC Classics:   \n",
       "1058  Because of its functionality in providing need...          Regular   \n",
       "546   The story of Zona Heaster Shue's death and sub...          Regular   \n",
       "426   This 2017 episode covers the Australian Keller...          Regular   \n",
       "33    This 2018 episode Shirley Chisolm, who was pol...  SYMHC Classics:   \n",
       "135   Morisot primarily worked in oils, watercolors ...          Regular   \n",
       "512   The complex at Lalibela was excavated from vol...          Regular   \n",
       "\n",
       "      Year  Month  Duration_min Single_Multiple        Country  \\\n",
       "922   2017      6            44             NaN            NaN   \n",
       "1555  2011      8            22          Single         Turkey   \n",
       "1405  2013      1            27          Single        Vietnam   \n",
       "290   2020     11            51             NaN            NaN   \n",
       "1058  2016      3            36             NaN            NaN   \n",
       "546   2019     10            29          Single  United States   \n",
       "426   2020      4            31             NaN            NaN   \n",
       "33    2022      2            33          Single  United States   \n",
       "135   2021      8            44             NaN            NaN   \n",
       "512   2019     12            36          Single       Ethiopia   \n",
       "\n",
       "                               Region Classification  \n",
       "922                               NaN            NaN  \n",
       "1555  Eastern Europe and Central Asia    Non-western  \n",
       "1405            East Asia and Pacific    Non-western  \n",
       "290                               NaN            NaN  \n",
       "1058                              NaN            NaN  \n",
       "546                     North America        Western  \n",
       "426                               NaN            NaN  \n",
       "33                      North America        Western  \n",
       "135                               NaN            NaN  \n",
       "512       Eastern and Southern Africa    Non-western  "
      ]
     },
     "execution_count": 754,
     "metadata": {},
     "output_type": "execute_result"
    }
   ],
   "source": [
    "# Identifying the columns neededfor analysis. \n",
    "field = ['Title', 'Description_clean', 'Type', 'Year', 'Month', 'Duration_min', 'Single_Multiple', 'Country','Region', 'Classification']\n",
    "\n",
    "# Creating a new dataframe with specified columns. \n",
    "df_country = pd.DataFrame(df, columns = field)\n",
    "\n",
    "#Extracting random sample. \n",
    "df_country.sample(n=10)"
   ]
  },
  {
   "cell_type": "code",
   "execution_count": 710,
   "metadata": {},
   "outputs": [
    {
     "name": "stdout",
     "output_type": "stream",
     "text": [
      "<class 'pandas.core.frame.DataFrame'>\n",
      "RangeIndex: 1899 entries, 0 to 1898\n",
      "Data columns (total 10 columns):\n",
      " #   Column             Non-Null Count  Dtype \n",
      "---  ------             --------------  ----- \n",
      " 0   Title              1899 non-null   object\n",
      " 1   Description_clean  1898 non-null   object\n",
      " 2   Type               1899 non-null   object\n",
      " 3   Year               1899 non-null   int64 \n",
      " 4   Month              1899 non-null   int64 \n",
      " 5   Duration_min       1899 non-null   int64 \n",
      " 6   Single_Multiple    756 non-null    object\n",
      " 7   Country            758 non-null    object\n",
      " 8   Region             758 non-null    object\n",
      " 9   Classification     758 non-null    object\n",
      "dtypes: int64(3), object(7)\n",
      "memory usage: 148.5+ KB\n"
     ]
    }
   ],
   "source": [
    "df_country.info()"
   ]
  },
  {
   "cell_type": "code",
   "execution_count": 711,
   "metadata": {},
   "outputs": [
    {
     "data": {
      "text/plain": [
       "(1899, 14)"
      ]
     },
     "execution_count": 711,
     "metadata": {},
     "output_type": "execute_result"
    }
   ],
   "source": [
    "df.shape"
   ]
  },
  {
   "cell_type": "code",
   "execution_count": 757,
   "metadata": {},
   "outputs": [],
   "source": [
    "#Create a new dataframe from df_country that selects only the episodes that are regular. \n",
    "country_regular = df_country[df_country['Type']=='Regular']"
   ]
  },
  {
   "cell_type": "code",
   "execution_count": 713,
   "metadata": {},
   "outputs": [
    {
     "data": {
      "text/html": [
       "<div>\n",
       "<style scoped>\n",
       "    .dataframe tbody tr th:only-of-type {\n",
       "        vertical-align: middle;\n",
       "    }\n",
       "\n",
       "    .dataframe tbody tr th {\n",
       "        vertical-align: top;\n",
       "    }\n",
       "\n",
       "    .dataframe thead th {\n",
       "        text-align: right;\n",
       "    }\n",
       "</style>\n",
       "<table border=\"1\" class=\"dataframe\">\n",
       "  <thead>\n",
       "    <tr style=\"text-align: right;\">\n",
       "      <th></th>\n",
       "      <th>Title</th>\n",
       "      <th>Description_clean</th>\n",
       "      <th>Type</th>\n",
       "      <th>Year</th>\n",
       "      <th>Month</th>\n",
       "      <th>Duration_min</th>\n",
       "      <th>Single_Multiple</th>\n",
       "      <th>Country</th>\n",
       "      <th>Region</th>\n",
       "      <th>Classification</th>\n",
       "    </tr>\n",
       "  </thead>\n",
       "  <tbody>\n",
       "    <tr>\n",
       "      <th>1466</th>\n",
       "      <td>John James Audubon: American Woodsman, Part 2</td>\n",
       "      <td>After John James Audubon finished his book, he...</td>\n",
       "      <td>Regular</td>\n",
       "      <td>2012</td>\n",
       "      <td>6</td>\n",
       "      <td>28</td>\n",
       "      <td>Multiple</td>\n",
       "      <td>United States</td>\n",
       "      <td>North America</td>\n",
       "      <td>Western</td>\n",
       "    </tr>\n",
       "    <tr>\n",
       "      <th>1101</th>\n",
       "      <td>Gilles Garnier, the Werewolf of Dole</td>\n",
       "      <td>Sixteenth-century France had a serious case of...</td>\n",
       "      <td>Regular</td>\n",
       "      <td>2015</td>\n",
       "      <td>10</td>\n",
       "      <td>25</td>\n",
       "      <td>Single</td>\n",
       "      <td>France</td>\n",
       "      <td>Western Europe</td>\n",
       "      <td>Western</td>\n",
       "    </tr>\n",
       "    <tr>\n",
       "      <th>1833</th>\n",
       "      <td>How the Vikings Worked</td>\n",
       "      <td>In most films Vikings are depicted as bloodthi...</td>\n",
       "      <td>Regular</td>\n",
       "      <td>2009</td>\n",
       "      <td>1</td>\n",
       "      <td>14</td>\n",
       "      <td>NaN</td>\n",
       "      <td>NaN</td>\n",
       "      <td>NaN</td>\n",
       "      <td>NaN</td>\n",
       "    </tr>\n",
       "    <tr>\n",
       "      <th>1281</th>\n",
       "      <td>Elizabeth Blackwell, America's First Female M.D.</td>\n",
       "      <td>It's not a story of a person with a childhood ...</td>\n",
       "      <td>Regular</td>\n",
       "      <td>2014</td>\n",
       "      <td>3</td>\n",
       "      <td>31</td>\n",
       "      <td>Single</td>\n",
       "      <td>United States</td>\n",
       "      <td>North America</td>\n",
       "      <td>Western</td>\n",
       "    </tr>\n",
       "    <tr>\n",
       "      <th>1257</th>\n",
       "      <td>Ruth Harkness and the First Panda in the U.S.</td>\n",
       "      <td>In the 1930s a New York socialite had a dream....</td>\n",
       "      <td>Regular</td>\n",
       "      <td>2014</td>\n",
       "      <td>6</td>\n",
       "      <td>38</td>\n",
       "      <td>Single</td>\n",
       "      <td>United States</td>\n",
       "      <td>North America</td>\n",
       "      <td>Western</td>\n",
       "    </tr>\n",
       "  </tbody>\n",
       "</table>\n",
       "</div>"
      ],
      "text/plain": [
       "                                                 Title  \\\n",
       "1466     John James Audubon: American Woodsman, Part 2   \n",
       "1101              Gilles Garnier, the Werewolf of Dole   \n",
       "1833                            How the Vikings Worked   \n",
       "1281  Elizabeth Blackwell, America's First Female M.D.   \n",
       "1257     Ruth Harkness and the First Panda in the U.S.   \n",
       "\n",
       "                                      Description_clean     Type  Year  Month  \\\n",
       "1466  After John James Audubon finished his book, he...  Regular  2012      6   \n",
       "1101  Sixteenth-century France had a serious case of...  Regular  2015     10   \n",
       "1833  In most films Vikings are depicted as bloodthi...  Regular  2009      1   \n",
       "1281  It's not a story of a person with a childhood ...  Regular  2014      3   \n",
       "1257  In the 1930s a New York socialite had a dream....  Regular  2014      6   \n",
       "\n",
       "      Duration_min Single_Multiple        Country          Region  \\\n",
       "1466            28        Multiple  United States   North America   \n",
       "1101            25          Single         France  Western Europe   \n",
       "1833            14             NaN            NaN             NaN   \n",
       "1281            31          Single  United States   North America   \n",
       "1257            38          Single  United States   North America   \n",
       "\n",
       "     Classification  \n",
       "1466        Western  \n",
       "1101        Western  \n",
       "1833            NaN  \n",
       "1281        Western  \n",
       "1257        Western  "
      ]
     },
     "execution_count": 713,
     "metadata": {},
     "output_type": "execute_result"
    }
   ],
   "source": [
    "country_regular.sample(n=5)"
   ]
  },
  {
   "cell_type": "code",
   "execution_count": 714,
   "metadata": {},
   "outputs": [
    {
     "name": "stdout",
     "output_type": "stream",
     "text": [
      "<class 'pandas.core.frame.DataFrame'>\n",
      "Int64Index: 1467 entries, 0 to 1898\n",
      "Data columns (total 10 columns):\n",
      " #   Column             Non-Null Count  Dtype \n",
      "---  ------             --------------  ----- \n",
      " 0   Title              1467 non-null   object\n",
      " 1   Description_clean  1467 non-null   object\n",
      " 2   Type               1467 non-null   object\n",
      " 3   Year               1467 non-null   int64 \n",
      " 4   Month              1467 non-null   int64 \n",
      " 5   Duration_min       1467 non-null   int64 \n",
      " 6   Single_Multiple    640 non-null    object\n",
      " 7   Country            642 non-null    object\n",
      " 8   Region             642 non-null    object\n",
      " 9   Classification     642 non-null    object\n",
      "dtypes: int64(3), object(7)\n",
      "memory usage: 126.1+ KB\n"
     ]
    }
   ],
   "source": [
    "country_regular.info()"
   ]
  },
  {
   "cell_type": "code",
   "execution_count": 715,
   "metadata": {},
   "outputs": [
    {
     "data": {
      "text/plain": [
       "array(['South Africa', nan, 'Italy', 'Mexico', 'United States', 'France',\n",
       "       'Russian Federation', 'Ukraine', 'United Kingdom', 'Turkey',\n",
       "       'Canada', 'Nigeria', 'Germany', 'Denmark', 'Greece', 'Spain',\n",
       "       'Australia', 'Egypt', 'Spain ', 'Peru', 'Honduras', 'Japan',\n",
       "       'China', 'India', 'Tanzania', 'Ethiopia', 'Netherlands', 'France ',\n",
       "       'Guatemala', 'Ireland', 'Morocco', 'Venezuela',\n",
       "       'Dominican Republic', 'Pakistan', 'South Sudan', 'Albania',\n",
       "       'New Zealand', 'Germany ', 'Jamaica', 'Portugal', 'Israel',\n",
       "       'United States ', 'Norway', 'Iceland', 'Australia ', 'Bahamas',\n",
       "       'Benin', 'Zimbabwe', 'Saint Kitts and Nevis', 'Sweden',\n",
       "       'Indonesia', 'Austria', 'Ghana', 'Iraq ', 'Republic of Korea',\n",
       "       'Kenya', 'Syrian Arab Republic', 'Japan ', 'Vietnam', 'Bulgaria',\n",
       "       'Iraq', 'Iran', 'Chile', 'Belgium', 'Angola ', 'Tunisia',\n",
       "       'Malaysia', 'Panama', 'Mali', 'Saudi Arabia', 'Hungary',\n",
       "       'Trinidad and Tobago', 'Cambodia', 'Czech Republic'], dtype=object)"
      ]
     },
     "execution_count": 715,
     "metadata": {},
     "output_type": "execute_result"
    }
   ],
   "source": [
    "country_regular['Country'].unique()"
   ]
  },
  {
   "cell_type": "code",
   "execution_count": 716,
   "metadata": {},
   "outputs": [
    {
     "data": {
      "text/plain": [
       "Western        502\n",
       "Non-western    140\n",
       "Name: Classification, dtype: int64"
      ]
     },
     "execution_count": 716,
     "metadata": {},
     "output_type": "execute_result"
    }
   ],
   "source": [
    "country_regular['Classification'].value_counts()"
   ]
  },
  {
   "cell_type": "code",
   "execution_count": 717,
   "metadata": {},
   "outputs": [
    {
     "data": {
      "text/plain": [
       "North America                       299\n",
       "Western Europe                      187\n",
       "East Asia and Pacific                58\n",
       "Latin America and Caribbean          24\n",
       "Middle East and North Africa         23\n",
       "Eastern Europe and Central Asia      16\n",
       "Eastern and Southern Africa          13\n",
       "South Asia                           11\n",
       "Eastern Europe and Central Asia       6\n",
       "West and Central Africa               5\n",
       "Name: Region, dtype: int64"
      ]
     },
     "execution_count": 717,
     "metadata": {},
     "output_type": "execute_result"
    }
   ],
   "source": [
    "country_regular['Region'].value_counts()\n",
    "#Need to strip whitespace. How to do this wihtout creating another dataframe? "
   ]
  },
  {
   "cell_type": "code",
   "execution_count": 718,
   "metadata": {},
   "outputs": [],
   "source": [
    "# Clean \"Western\" and \"Non-western\" classification \n",
    "str_classification = country_regular['Classification'].astype(\"string\").dropna()"
   ]
  },
  {
   "cell_type": "code",
   "execution_count": 758,
   "metadata": {},
   "outputs": [],
   "source": [
    "# More cleaning. \n",
    "str_classification = str_classification.str.strip()"
   ]
  },
  {
   "cell_type": "code",
   "execution_count": 759,
   "metadata": {},
   "outputs": [],
   "source": [
    "#Creating a new data frame from new series. \n",
    "df_classification = pd.DataFrame(str_classification) "
   ]
  },
  {
   "cell_type": "markdown",
   "metadata": {},
   "source": [
    "## Western vs. Non-western Representation \n",
    "1. I classified Western nations as English-speaking and European nations. I excluded Eastearn Europe and Latin America and the Caribbean from the Western definition. \n",
    "2. Only Western Europe, North America, Australia, and New Zealand were considered \"Western\" because there is no debate over this. \n",
    "3. All other regions were considered \"Non-western\". \n",
    "4. Here are the websites I used for the handcoding process in Excel: \n",
    "    1. https://meta.wikimedia.org/wiki/List_of_countries_by_regional_classification\n",
    "    2. https://data.unicef.org/regionalclassifications/\n"
   ]
  },
  {
   "cell_type": "markdown",
   "metadata": {},
   "source": [
    "# Bar Chart to show number of Western vs. Non-western episodes/mentions. "
   ]
  },
  {
   "cell_type": "code",
   "execution_count": 721,
   "metadata": {},
   "outputs": [
    {
     "data": {
      "image/png": "[encoded data removed]",
      "text/plain": [
       "<Figure size 720x360 with 1 Axes>"
      ]
     },
     "metadata": {
      "needs_background": "light"
     },
     "output_type": "display_data"
    }
   ],
   "source": [
    "\n",
    "f,ax=plt.subplots(figsize=(10,5))\n",
    "data_class = df_classification['Classification'].value_counts()\n",
    "ax.set_xlabel('Classification')\n",
    "ax.set_ylabel('Frequency')\n",
    "data_class.plot.bar(rot = 15, x = \"Classification\", y = \"Frequency\", color =['lightblue', 'silver'],title = \"Number of Western Vs. Non-western Mentions\")\n",
    "plt.show()"
   ]
  },
  {
   "cell_type": "markdown",
   "metadata": {},
   "source": [
    "# Pie Chart to show difference in percentage of Western vs. Non-western mentions. \n",
    "1. Western far exceeds Non-western "
   ]
  },
  {
   "cell_type": "code",
   "execution_count": 745,
   "metadata": {},
   "outputs": [
    {
     "data": {
      "image/png": "[encoded data removed]",
      "text/plain": [
       "<Figure size 576x576 with 1 Axes>"
      ]
     },
     "metadata": {},
     "output_type": "display_data"
    }
   ],
   "source": [
    "class_labels = 'Western', 'Non-western'\n",
    "class_colors = ['lightblue', 'silver']\n",
    "plt.figure(figsize=(8,8))\n",
    "plt.pie(data_class, labels = class_labels, autopct='%1.1f%%', colors=class_colors, radius=5) #this is auto percentage. \n",
    "plt.title('Western vs. Non-Western Representation', fontsize = 14)\n",
    "plt.axis('equal')\n",
    "plt.show()\n"
   ]
  },
  {
   "cell_type": "markdown",
   "metadata": {},
   "source": [
    "# Bar chart of regional representation. "
   ]
  },
  {
   "cell_type": "code",
   "execution_count": 663,
   "metadata": {},
   "outputs": [],
   "source": [
    "str_region = country_regular['Region'].astype(\"string\").dropna()"
   ]
  },
  {
   "cell_type": "code",
   "execution_count": 664,
   "metadata": {},
   "outputs": [],
   "source": [
    "str_region = str_region.str.strip()"
   ]
  },
  {
   "cell_type": "code",
   "execution_count": 665,
   "metadata": {},
   "outputs": [
    {
     "data": {
      "text/plain": [
       "North America                      299\n",
       "Western Europe                     187\n",
       "East Asia and Pacific               58\n",
       "Latin America and Caribbean         24\n",
       "Middle East and North Africa        23\n",
       "Eastern Europe and Central Asia     22\n",
       "Eastern and Southern Africa         13\n",
       "South Asia                          11\n",
       "West and Central Africa              5\n",
       "Name: Region, dtype: Int64"
      ]
     },
     "execution_count": 665,
     "metadata": {},
     "output_type": "execute_result"
    }
   ],
   "source": [
    "str_region.value_counts()"
   ]
  },
  {
   "cell_type": "code",
   "execution_count": 666,
   "metadata": {},
   "outputs": [
    {
     "data": {
      "image/png": "[encoded data removed]",
      "text/plain": [
       "<Figure size 720x360 with 1 Axes>"
      ]
     },
     "metadata": {
      "needs_background": "light"
     },
     "output_type": "display_data"
    }
   ],
   "source": [
    "f,ax=plt.subplots(figsize=(10,5))\n",
    "data_region = str_region.value_counts()\n",
    "ax.set_ylabel('Regions')\n",
    "ax.set_xlabel('Frequency')\n",
    "data_region.plot.barh(rot = 15, y = \"Regions\", x = \"Frequency\", title = \"Regional Representation\")\n",
    "\n",
    "plt.show()\n"
   ]
  },
  {
   "cell_type": "code",
   "execution_count": 667,
   "metadata": {},
   "outputs": [
    {
     "data": {
      "text/html": [
       "<div>\n",
       "<style scoped>\n",
       "    .dataframe tbody tr th:only-of-type {\n",
       "        vertical-align: middle;\n",
       "    }\n",
       "\n",
       "    .dataframe tbody tr th {\n",
       "        vertical-align: top;\n",
       "    }\n",
       "\n",
       "    .dataframe thead th {\n",
       "        text-align: right;\n",
       "    }\n",
       "</style>\n",
       "<table border=\"1\" class=\"dataframe\">\n",
       "  <thead>\n",
       "    <tr style=\"text-align: right;\">\n",
       "      <th></th>\n",
       "      <th>Title</th>\n",
       "      <th>Description_clean</th>\n",
       "      <th>Type</th>\n",
       "      <th>Year</th>\n",
       "      <th>Month</th>\n",
       "      <th>Duration_min</th>\n",
       "      <th>Single_Multiple</th>\n",
       "      <th>Country</th>\n",
       "      <th>Region</th>\n",
       "      <th>Classification</th>\n",
       "    </tr>\n",
       "  </thead>\n",
       "  <tbody>\n",
       "    <tr>\n",
       "      <th>1523</th>\n",
       "      <td>Rosalind Franklin: DNA's Dark Lady</td>\n",
       "      <td>The men who are usually credited with discerni...</td>\n",
       "      <td>Regular</td>\n",
       "      <td>2011</td>\n",
       "      <td>12</td>\n",
       "      <td>27</td>\n",
       "      <td>NaN</td>\n",
       "      <td>NaN</td>\n",
       "      <td>NaN</td>\n",
       "      <td>NaN</td>\n",
       "    </tr>\n",
       "    <tr>\n",
       "      <th>1809</th>\n",
       "      <td>Were ancient Egyptians the first feminists?</td>\n",
       "      <td>When Herodotus explored Egypt, he was startled...</td>\n",
       "      <td>Regular</td>\n",
       "      <td>2009</td>\n",
       "      <td>4</td>\n",
       "      <td>15</td>\n",
       "      <td>Single</td>\n",
       "      <td>Egypt</td>\n",
       "      <td>Middle East and North Africa</td>\n",
       "      <td>Non-western</td>\n",
       "    </tr>\n",
       "    <tr>\n",
       "      <th>1406</th>\n",
       "      <td>Ned Kelly's Last Stand</td>\n",
       "      <td>Ned Kelly's cropped up in the news again, but ...</td>\n",
       "      <td>Regular</td>\n",
       "      <td>2013</td>\n",
       "      <td>1</td>\n",
       "      <td>20</td>\n",
       "      <td>NaN</td>\n",
       "      <td>NaN</td>\n",
       "      <td>NaN</td>\n",
       "      <td>NaN</td>\n",
       "    </tr>\n",
       "    <tr>\n",
       "      <th>563</th>\n",
       "      <td>Sor Juana Inés de la Cruz</td>\n",
       "      <td>She was the Spanish empire’s most widely publi...</td>\n",
       "      <td>Regular</td>\n",
       "      <td>2019</td>\n",
       "      <td>9</td>\n",
       "      <td>40</td>\n",
       "      <td>NaN</td>\n",
       "      <td>NaN</td>\n",
       "      <td>NaN</td>\n",
       "      <td>NaN</td>\n",
       "    </tr>\n",
       "    <tr>\n",
       "      <th>573</th>\n",
       "      <td>Sarah Josepha Hale &amp; Godey’s Lady’s Book</td>\n",
       "      <td>Godey’s Lady’s Book was the most popular magaz...</td>\n",
       "      <td>Regular</td>\n",
       "      <td>2019</td>\n",
       "      <td>8</td>\n",
       "      <td>36</td>\n",
       "      <td>Single</td>\n",
       "      <td>United States</td>\n",
       "      <td>North America</td>\n",
       "      <td>Western</td>\n",
       "    </tr>\n",
       "  </tbody>\n",
       "</table>\n",
       "</div>"
      ],
      "text/plain": [
       "                                            Title  \\\n",
       "1523           Rosalind Franklin: DNA's Dark Lady   \n",
       "1809  Were ancient Egyptians the first feminists?   \n",
       "1406                       Ned Kelly's Last Stand   \n",
       "563                     Sor Juana Inés de la Cruz   \n",
       "573      Sarah Josepha Hale & Godey’s Lady’s Book   \n",
       "\n",
       "                                      Description_clean     Type  Year  Month  \\\n",
       "1523  The men who are usually credited with discerni...  Regular  2011     12   \n",
       "1809  When Herodotus explored Egypt, he was startled...  Regular  2009      4   \n",
       "1406  Ned Kelly's cropped up in the news again, but ...  Regular  2013      1   \n",
       "563   She was the Spanish empire’s most widely publi...  Regular  2019      9   \n",
       "573   Godey’s Lady’s Book was the most popular magaz...  Regular  2019      8   \n",
       "\n",
       "      Duration_min Single_Multiple        Country  \\\n",
       "1523            27             NaN            NaN   \n",
       "1809            15          Single          Egypt   \n",
       "1406            20             NaN            NaN   \n",
       "563             40             NaN            NaN   \n",
       "573             36          Single  United States   \n",
       "\n",
       "                            Region Classification  \n",
       "1523                           NaN            NaN  \n",
       "1809  Middle East and North Africa    Non-western  \n",
       "1406                           NaN            NaN  \n",
       "563                            NaN            NaN  \n",
       "573                  North America        Western  "
      ]
     },
     "execution_count": 667,
     "metadata": {},
     "output_type": "execute_result"
    }
   ],
   "source": [
    "country_regular.sample(n=5)"
   ]
  },
  {
   "cell_type": "markdown",
   "metadata": {},
   "source": [
    "# Box plot and T-test for Difference in duration for Western vs. Non-western episodes. "
   ]
  },
  {
   "cell_type": "code",
   "execution_count": 760,
   "metadata": {},
   "outputs": [
    {
     "data": {
      "image/png": "[encoded data removed]",
      "text/plain": [
       "<Figure size 720x576 with 1 Axes>"
      ]
     },
     "metadata": {
      "needs_background": "light"
     },
     "output_type": "display_data"
    }
   ],
   "source": [
    "#Box plot---Duration for Western vs. Non-Western \n",
    "\n",
    "plt.figure(figsize=(10,8))\n",
    "# sns.boxplot(x = wn_class, y = duration, data = country_regular, palette = 'rainbow')\n",
    "sns.boxplot(y=country_regular['Duration_min'], x=country_regular['Classification'])\n",
    "plt.title(\"Difference between Western vs. Non-western by Duration\", fontsize=20)\n",
    "plt.xlabel('Classification', fontsize=16)\n",
    "plt.ylabel('Duration(min)', fontsize=16)\n",
    "plt.xticks(fontsize=14) \n",
    "plt.yticks(fontsize=14)\n",
    "plt.show()\n",
    "\n",
    "#t-test https://stackoverflow.com/questions/13404468/t-test-in-pandas"
   ]
  },
  {
   "cell_type": "code",
   "execution_count": 761,
   "metadata": {},
   "outputs": [],
   "source": [
    "#Import library for statistics. \n",
    "import scipy"
   ]
  },
  {
   "cell_type": "code",
   "execution_count": 670,
   "metadata": {},
   "outputs": [],
   "source": [
    "ttest_data = country_regular[['Classification', 'Duration_min']].copy()"
   ]
  },
  {
   "cell_type": "code",
   "execution_count": 671,
   "metadata": {},
   "outputs": [
    {
     "data": {
      "text/html": [
       "<div>\n",
       "<style scoped>\n",
       "    .dataframe tbody tr th:only-of-type {\n",
       "        vertical-align: middle;\n",
       "    }\n",
       "\n",
       "    .dataframe tbody tr th {\n",
       "        vertical-align: top;\n",
       "    }\n",
       "\n",
       "    .dataframe thead th {\n",
       "        text-align: right;\n",
       "    }\n",
       "</style>\n",
       "<table border=\"1\" class=\"dataframe\">\n",
       "  <thead>\n",
       "    <tr style=\"text-align: right;\">\n",
       "      <th></th>\n",
       "      <th>Classification</th>\n",
       "      <th>Duration_min</th>\n",
       "    </tr>\n",
       "  </thead>\n",
       "  <tbody>\n",
       "    <tr>\n",
       "      <th>0</th>\n",
       "      <td>Non-western</td>\n",
       "      <td>34</td>\n",
       "    </tr>\n",
       "    <tr>\n",
       "      <th>1</th>\n",
       "      <td>NaN</td>\n",
       "      <td>39</td>\n",
       "    </tr>\n",
       "    <tr>\n",
       "      <th>4</th>\n",
       "      <td>Western</td>\n",
       "      <td>40</td>\n",
       "    </tr>\n",
       "    <tr>\n",
       "      <th>5</th>\n",
       "      <td>Non-western</td>\n",
       "      <td>40</td>\n",
       "    </tr>\n",
       "    <tr>\n",
       "      <th>6</th>\n",
       "      <td>Western</td>\n",
       "      <td>40</td>\n",
       "    </tr>\n",
       "  </tbody>\n",
       "</table>\n",
       "</div>"
      ],
      "text/plain": [
       "  Classification  Duration_min\n",
       "0    Non-western            34\n",
       "1            NaN            39\n",
       "4        Western            40\n",
       "5    Non-western            40\n",
       "6        Western            40"
      ]
     },
     "execution_count": 671,
     "metadata": {},
     "output_type": "execute_result"
    }
   ],
   "source": [
    "ttest_data.head()"
   ]
  },
  {
   "cell_type": "code",
   "execution_count": 672,
   "metadata": {},
   "outputs": [],
   "source": [
    "w_data = ttest_data[ttest_data['Classification']=='Western'].dropna()\n",
    "#western cells extracted"
   ]
  },
  {
   "cell_type": "code",
   "execution_count": 673,
   "metadata": {},
   "outputs": [],
   "source": [
    "nw_data = ttest_data[ttest_data['Classification']=='Non-western'].dropna()\n",
    "#non_western cells extracted "
   ]
  },
  {
   "cell_type": "code",
   "execution_count": 674,
   "metadata": {},
   "outputs": [
    {
     "name": "stdout",
     "output_type": "stream",
     "text": [
      "<class 'pandas.core.frame.DataFrame'>\n",
      "Int64Index: 502 entries, 4 to 1895\n",
      "Data columns (total 2 columns):\n",
      " #   Column          Non-Null Count  Dtype \n",
      "---  ------          --------------  ----- \n",
      " 0   Classification  502 non-null    object\n",
      " 1   Duration_min    502 non-null    int64 \n",
      "dtypes: int64(1), object(1)\n",
      "memory usage: 11.8+ KB\n"
     ]
    }
   ],
   "source": [
    "w_data.info()"
   ]
  },
  {
   "cell_type": "code",
   "execution_count": 675,
   "metadata": {},
   "outputs": [
    {
     "name": "stdout",
     "output_type": "stream",
     "text": [
      "<class 'pandas.core.frame.DataFrame'>\n",
      "Int64Index: 140 entries, 0 to 1898\n",
      "Data columns (total 2 columns):\n",
      " #   Column          Non-Null Count  Dtype \n",
      "---  ------          --------------  ----- \n",
      " 0   Classification  140 non-null    object\n",
      " 1   Duration_min    140 non-null    int64 \n",
      "dtypes: int64(1), object(1)\n",
      "memory usage: 3.3+ KB\n"
     ]
    }
   ],
   "source": [
    "nw_data.info()"
   ]
  },
  {
   "cell_type": "code",
   "execution_count": 676,
   "metadata": {},
   "outputs": [
    {
     "data": {
      "text/plain": [
       "Ttest_indResult(statistic=2.7984985073952746, pvalue=0.005288656691106502)"
      ]
     },
     "execution_count": 676,
     "metadata": {},
     "output_type": "execute_result"
    }
   ],
   "source": [
    "scipy.stats.ttest_ind(w_data['Duration_min'], nw_data['Duration_min'])\n",
    "\n",
    "# suggests that there is a significant difference. "
   ]
  },
  {
   "cell_type": "markdown",
   "metadata": {},
   "source": [
    "# Further Areas to Study \n",
    "1. What's the median, standard deviation? \n",
    "2. What may be other confounding factors(length of ads, listener mail,)?\n",
    "3. Is the porportion of Western vs. Non-western episodes steady over the years? \n",
    "4. Perhaps try making a stacked bar chart or porportional line chart "
   ]
  },
  {
   "cell_type": "markdown",
   "metadata": {},
   "source": [
    "## Stacked Bar Chart --Western vs Non-Western over time "
   ]
  },
  {
   "cell_type": "code",
   "execution_count": 677,
   "metadata": {},
   "outputs": [],
   "source": [
    "# make bar chart number of episodes each year  \n",
    "#then add a group notation of counts "
   ]
  },
  {
   "cell_type": "code",
   "execution_count": 678,
   "metadata": {},
   "outputs": [
    {
     "data": {
      "text/plain": [
       "2020    119\n",
       "2015    113\n",
       "2010    110\n",
       "2014    108\n",
       "2013    107\n",
       "2012    107\n",
       "2011    106\n",
       "2017    105\n",
       "2016    105\n",
       "2019    101\n",
       "2018    101\n",
       "2021     99\n",
       "2009     99\n",
       "2008     59\n",
       "2022     28\n",
       "Name: Year, dtype: int64"
      ]
     },
     "execution_count": 678,
     "metadata": {},
     "output_type": "execute_result"
    }
   ],
   "source": [
    "country_regular['Year'].value_counts()"
   ]
  },
  {
   "cell_type": "code",
   "execution_count": 679,
   "metadata": {},
   "outputs": [],
   "source": [
    "df_stacked = country_regular[['Year','Classification']].copy()"
   ]
  },
  {
   "cell_type": "code",
   "execution_count": 680,
   "metadata": {},
   "outputs": [
    {
     "name": "stdout",
     "output_type": "stream",
     "text": [
      "<class 'pandas.core.frame.DataFrame'>\n",
      "Int64Index: 1467 entries, 0 to 1898\n",
      "Data columns (total 2 columns):\n",
      " #   Column          Non-Null Count  Dtype \n",
      "---  ------          --------------  ----- \n",
      " 0   Year            1467 non-null   int64 \n",
      " 1   Classification  642 non-null    object\n",
      "dtypes: int64(1), object(1)\n",
      "memory usage: 74.4+ KB\n"
     ]
    }
   ],
   "source": [
    "df_stacked.info()"
   ]
  },
  {
   "cell_type": "code",
   "execution_count": 681,
   "metadata": {},
   "outputs": [],
   "source": [
    "df_stacked['Year'] = pd.to_datetime(df_stacked['Year'], format = '%Y')"
   ]
  },
  {
   "cell_type": "code",
   "execution_count": 682,
   "metadata": {},
   "outputs": [
    {
     "data": {
      "text/plain": [
       "2020-01-01    119\n",
       "2015-01-01    113\n",
       "2010-01-01    110\n",
       "2014-01-01    108\n",
       "2012-01-01    107\n",
       "2013-01-01    107\n",
       "2011-01-01    106\n",
       "2017-01-01    105\n",
       "2016-01-01    105\n",
       "2018-01-01    101\n",
       "2019-01-01    101\n",
       "2021-01-01     99\n",
       "2009-01-01     99\n",
       "2008-01-01     59\n",
       "2022-01-01     28\n",
       "Name: Year, dtype: int64"
      ]
     },
     "execution_count": 682,
     "metadata": {},
     "output_type": "execute_result"
    }
   ],
   "source": [
    "df_stacked['Year'].value_counts()"
   ]
  },
  {
   "cell_type": "code",
   "execution_count": 683,
   "metadata": {},
   "outputs": [
    {
     "name": "stdout",
     "output_type": "stream",
     "text": [
      "<class 'pandas.core.frame.DataFrame'>\n",
      "Int64Index: 1467 entries, 0 to 1898\n",
      "Data columns (total 2 columns):\n",
      " #   Column          Non-Null Count  Dtype         \n",
      "---  ------          --------------  -----         \n",
      " 0   Year            1467 non-null   datetime64[ns]\n",
      " 1   Classification  642 non-null    object        \n",
      "dtypes: datetime64[ns](1), object(1)\n",
      "memory usage: 74.4+ KB\n"
     ]
    }
   ],
   "source": [
    "df_stacked.info()"
   ]
  },
  {
   "cell_type": "code",
   "execution_count": null,
   "metadata": {
    "collapsed": true,
    "jupyter": {
     "outputs_hidden": true
    }
   },
   "outputs": [],
   "source": []
  },
  {
   "cell_type": "code",
   "execution_count": 684,
   "metadata": {},
   "outputs": [],
   "source": [
    "df_stacked['Year'] = pd.DatetimeIndex(df_stacked['Year']).year"
   ]
  },
  {
   "cell_type": "code",
   "execution_count": 685,
   "metadata": {},
   "outputs": [
    {
     "data": {
      "text/plain": [
       "0       2022\n",
       "1       2022\n",
       "4       2022\n",
       "5       2022\n",
       "6       2022\n",
       "        ... \n",
       "1894    2008\n",
       "1895    2008\n",
       "1896    2008\n",
       "1897    2008\n",
       "1898    2008\n",
       "Name: Year, Length: 1467, dtype: int64"
      ]
     },
     "execution_count": 685,
     "metadata": {},
     "output_type": "execute_result"
    }
   ],
   "source": [
    "df_stacked['Year'] "
   ]
  },
  {
   "cell_type": "code",
   "execution_count": 686,
   "metadata": {},
   "outputs": [
    {
     "data": {
      "text/html": [
       "<div>\n",
       "<style scoped>\n",
       "    .dataframe tbody tr th:only-of-type {\n",
       "        vertical-align: middle;\n",
       "    }\n",
       "\n",
       "    .dataframe tbody tr th {\n",
       "        vertical-align: top;\n",
       "    }\n",
       "\n",
       "    .dataframe thead th {\n",
       "        text-align: right;\n",
       "    }\n",
       "</style>\n",
       "<table border=\"1\" class=\"dataframe\">\n",
       "  <thead>\n",
       "    <tr style=\"text-align: right;\">\n",
       "      <th></th>\n",
       "      <th>Year</th>\n",
       "      <th>Classification</th>\n",
       "    </tr>\n",
       "  </thead>\n",
       "  <tbody>\n",
       "    <tr>\n",
       "      <th>0</th>\n",
       "      <td>2022</td>\n",
       "      <td>Non-western</td>\n",
       "    </tr>\n",
       "    <tr>\n",
       "      <th>1</th>\n",
       "      <td>2022</td>\n",
       "      <td>NaN</td>\n",
       "    </tr>\n",
       "    <tr>\n",
       "      <th>4</th>\n",
       "      <td>2022</td>\n",
       "      <td>Western</td>\n",
       "    </tr>\n",
       "    <tr>\n",
       "      <th>5</th>\n",
       "      <td>2022</td>\n",
       "      <td>Non-western</td>\n",
       "    </tr>\n",
       "    <tr>\n",
       "      <th>6</th>\n",
       "      <td>2022</td>\n",
       "      <td>Western</td>\n",
       "    </tr>\n",
       "    <tr>\n",
       "      <th>...</th>\n",
       "      <td>...</td>\n",
       "      <td>...</td>\n",
       "    </tr>\n",
       "    <tr>\n",
       "      <th>1894</th>\n",
       "      <td>2008</td>\n",
       "      <td>NaN</td>\n",
       "    </tr>\n",
       "    <tr>\n",
       "      <th>1895</th>\n",
       "      <td>2008</td>\n",
       "      <td>Western</td>\n",
       "    </tr>\n",
       "    <tr>\n",
       "      <th>1896</th>\n",
       "      <td>2008</td>\n",
       "      <td>NaN</td>\n",
       "    </tr>\n",
       "    <tr>\n",
       "      <th>1897</th>\n",
       "      <td>2008</td>\n",
       "      <td>NaN</td>\n",
       "    </tr>\n",
       "    <tr>\n",
       "      <th>1898</th>\n",
       "      <td>2008</td>\n",
       "      <td>Non-western</td>\n",
       "    </tr>\n",
       "  </tbody>\n",
       "</table>\n",
       "<p>1467 rows × 2 columns</p>\n",
       "</div>"
      ],
      "text/plain": [
       "      Year Classification\n",
       "0     2022    Non-western\n",
       "1     2022            NaN\n",
       "4     2022        Western\n",
       "5     2022    Non-western\n",
       "6     2022        Western\n",
       "...    ...            ...\n",
       "1894  2008            NaN\n",
       "1895  2008        Western\n",
       "1896  2008            NaN\n",
       "1897  2008            NaN\n",
       "1898  2008    Non-western\n",
       "\n",
       "[1467 rows x 2 columns]"
      ]
     },
     "execution_count": 686,
     "metadata": {},
     "output_type": "execute_result"
    }
   ],
   "source": [
    "df_stacked"
   ]
  },
  {
   "cell_type": "code",
   "execution_count": 700,
   "metadata": {},
   "outputs": [
    {
     "data": {
      "text/plain": [
       "Year  Classification\n",
       "2014  Western           47\n",
       "2016  Western           45\n",
       "2017  Western           43\n",
       "2018  Western           42\n",
       "2021  Western           36\n",
       "2019  Western           36\n",
       "2010  Western           35\n",
       "2015  Western           35\n",
       "2011  Western           35\n",
       "2020  Western           31\n",
       "2012  Western           30\n",
       "2013  Western           30\n",
       "2009  Western           29\n",
       "2008  Western           17\n",
       "2010  Non-western       16\n",
       "2014  Non-western       14\n",
       "2013  Non-western       13\n",
       "2011  Non-western       11\n",
       "2022  Western           11\n",
       "2015  Non-western       11\n",
       "2020  Non-western       11\n",
       "2008  Non-western       10\n",
       "2012  Non-western        9\n",
       "2019  Non-western        8\n",
       "2009  Non-western        8\n",
       "2016  Non-western        7\n",
       "2018  Non-western        7\n",
       "2022  Non-western        6\n",
       "2017  Non-western        5\n",
       "2021  Non-western        4\n",
       "dtype: int64"
      ]
     },
     "execution_count": 700,
     "metadata": {},
     "output_type": "execute_result"
    }
   ],
   "source": []
  },
  {
   "cell_type": "code",
   "execution_count": 687,
   "metadata": {},
   "outputs": [
    {
     "data": {
      "image/png": "[encoded data removed]",
      "text/plain": [
       "<Figure size 720x360 with 1 Axes>"
      ]
     },
     "metadata": {
      "needs_background": "light"
     },
     "output_type": "display_data"
    }
   ],
   "source": [
    "# labels = ['2008','2009','2010','2011','2012','2013','2014','2015','2016','2017','2018','2019','2020','2021','2022']\n",
    "#w_num = [df_stacked['Classification']=='Western']\n",
    "#nw_num =[df_stacked['Classification']=='Non-western']\n",
    "ep_year = df_stacked['Year'].value_counts().sort_index()\n",
    "width = 0.35\n",
    "\n",
    "f,ax=plt.subplots(figsize=(10,5))\n",
    "#ax.bar(ep_year, w_num, width, label='Western')\n",
    "#ax.bar(ep_year, nw_num, width, bottom=w_num, label='Non-western')\n",
    "ax.set_ylabel('Number of Episodes')\n",
    "ax.set_xlabel('Year')\n",
    "ep_year.plot.bar(rot = 15, y = \"Number of Episodes\", x = \"Year\", title = \"Number of Episodes per Year\")\n",
    "\n",
    "plt.show()"
   ]
  },
  {
   "cell_type": "code",
   "execution_count": 688,
   "metadata": {},
   "outputs": [],
   "source": [
    "df_w_data = df_stacked[df_stacked['Classification']=='Western']"
   ]
  },
  {
   "cell_type": "code",
   "execution_count": 689,
   "metadata": {},
   "outputs": [
    {
     "data": {
      "text/plain": [
       "2014    47\n",
       "2016    45\n",
       "2017    43\n",
       "2018    42\n",
       "2021    36\n",
       "2019    36\n",
       "2015    35\n",
       "2011    35\n",
       "2010    35\n",
       "2020    31\n",
       "2013    30\n",
       "2012    30\n",
       "2009    29\n",
       "2008    17\n",
       "2022    11\n",
       "Name: Year, dtype: int64"
      ]
     },
     "execution_count": 689,
     "metadata": {},
     "output_type": "execute_result"
    }
   ],
   "source": [
    "df_w_data['Year'].value_counts()\n",
    "#number of western ep per year "
   ]
  },
  {
   "cell_type": "code",
   "execution_count": 690,
   "metadata": {},
   "outputs": [
    {
     "data": {
      "text/plain": [
       "2010    17\n",
       "2014    14\n",
       "2013    13\n",
       "2020    11\n",
       "2015    11\n",
       "2011    11\n",
       "2008    10\n",
       "2012     9\n",
       "2019     8\n",
       "2009     8\n",
       "2018     7\n",
       "2016     7\n",
       "2022     6\n",
       "2017     5\n",
       "2021     4\n",
       "Name: Year, dtype: int64"
      ]
     },
     "execution_count": 690,
     "metadata": {},
     "output_type": "execute_result"
    }
   ],
   "source": [
    "df_nw_data['Year'].value_counts()"
   ]
  },
  {
   "cell_type": "code",
   "execution_count": 691,
   "metadata": {},
   "outputs": [
    {
     "data": {
      "text/plain": [
       "array([2022, 2021, 2020, 2019, 2018, 2017, 2016, 2015, 2014, 2013, 2012,\n",
       "       2011, 2010, 2009, 2008])"
      ]
     },
     "execution_count": 691,
     "metadata": {},
     "output_type": "execute_result"
    }
   ],
   "source": [
    "df_stacked['Year'].unique()"
   ]
  },
  {
   "cell_type": "code",
   "execution_count": 692,
   "metadata": {},
   "outputs": [],
   "source": [
    "years = df_stacked['Year'].unique()\n",
    "x_axis = np.arange(len(years))"
   ]
  },
  {
   "cell_type": "code",
   "execution_count": 693,
   "metadata": {},
   "outputs": [
    {
     "data": {
      "image/png": "[encoded data removed]",
      "text/plain": [
       "<Figure size 720x576 with 1 Axes>"
      ]
     },
     "metadata": {
      "needs_background": "light"
     },
     "output_type": "display_data"
    }
   ],
   "source": [
    "#how to get the graph into ascending order by year? \n",
    "f,ax=plt.subplots(figsize=(10,8))\n",
    "plt.bar(x_axis -0.2, df_w_data['Year'].value_counts().sort_index(), width=0.5, label = 'Western')\n",
    "plt.bar(x_axis +0.2, df_nw_data['Year'].value_counts().sort_index(), width=0.5, label = 'Non-western')\n",
    "\n",
    "#title x and y axis \n",
    "\n",
    "plt.xticks(x_axis, years)\n",
    "\n",
    "plt.legend()\n",
    "\n",
    "plt.show()"
   ]
  },
  {
   "cell_type": "code",
   "execution_count": 694,
   "metadata": {},
   "outputs": [
    {
     "data": {
      "text/plain": [
       "\"\\nfig, ax = plt.subplots()\\n\\n# First plot the 'Male' bars for every day.\\nax.bar(df_w_data.index, [df_w_data['Classification']=='Western'], label='Western')\\n# Then plot the 'Female' bars on top, starting at the top of the 'Male'\\n# bars.\\nax.bar(df_nw_data.index, [df_nw_data['Classifiation']=='Non-western'], bottom=[df_w_data['Classification']=='Western'],\\n       label='Non-western')\\nax.set_title('Western vs. Non-western episodes over time')\\nax.legend()\\n\""
      ]
     },
     "execution_count": 694,
     "metadata": {},
     "output_type": "execute_result"
    }
   ],
   "source": [
    "'''\n",
    "fig, ax = plt.subplots()\n",
    "\n",
    "# First plot the 'Male' bars for every day.\n",
    "ax.bar(df_w_data.index, [df_w_data['Classification']=='Western'], label='Western')\n",
    "# Then plot the 'Female' bars on top, starting at the top of the 'Male'\n",
    "# bars.\n",
    "ax.bar(df_nw_data.index, [df_nw_data['Classifiation']=='Non-western'], bottom=[df_w_data['Classification']=='Western'],\n",
    "       label='Non-western')\n",
    "ax.set_title('Western vs. Non-western episodes over time')\n",
    "ax.legend()\n",
    "'''"
   ]
  },
  {
   "cell_type": "code",
   "execution_count": null,
   "metadata": {},
   "outputs": [],
   "source": [
    "# Percent bar graph over time \n",
    "# scatterplot with a trend line \n",
    "# Non-western /total \n",
    "    #df_nw_data['Year'].value_counts()/country_regular['Year'].value_counts() \n",
    "    \n",
    "    #trend line analysis \n",
    "\n"
   ]
  },
  {
   "cell_type": "code",
   "execution_count": null,
   "metadata": {},
   "outputs": [],
   "source": []
  },
  {
   "cell_type": "code",
   "execution_count": null,
   "metadata": {},
   "outputs": [],
   "source": []
  },
  {
   "cell_type": "markdown",
   "metadata": {},
   "source": [
    "## Network Graph Material"
   ]
  },
  {
   "cell_type": "code",
   "execution_count": 695,
   "metadata": {},
   "outputs": [],
   "source": [
    "country_multiple = country_regular[country_regular['Single_Multiple']=='Multiple'] "
   ]
  },
  {
   "cell_type": "code",
   "execution_count": 696,
   "metadata": {},
   "outputs": [
    {
     "name": "stdout",
     "output_type": "stream",
     "text": [
      "<class 'pandas.core.frame.DataFrame'>\n",
      "Int64Index: 105 entries, 5 to 1888\n",
      "Data columns (total 10 columns):\n",
      " #   Column             Non-Null Count  Dtype \n",
      "---  ------             --------------  ----- \n",
      " 0   Title              105 non-null    object\n",
      " 1   Description_clean  105 non-null    object\n",
      " 2   Type               105 non-null    object\n",
      " 3   Year               105 non-null    int64 \n",
      " 4   Month              105 non-null    int64 \n",
      " 5   Duration_min       105 non-null    int64 \n",
      " 6   Single_Multiple    105 non-null    object\n",
      " 7   Country            105 non-null    object\n",
      " 8   Region             105 non-null    object\n",
      " 9   Classification     105 non-null    object\n",
      "dtypes: int64(3), object(7)\n",
      "memory usage: 9.0+ KB\n"
     ]
    }
   ],
   "source": [
    "country_multiple.info()"
   ]
  },
  {
   "cell_type": "code",
   "execution_count": 697,
   "metadata": {},
   "outputs": [
    {
     "data": {
      "text/html": [
       "<div>\n",
       "<style scoped>\n",
       "    .dataframe tbody tr th:only-of-type {\n",
       "        vertical-align: middle;\n",
       "    }\n",
       "\n",
       "    .dataframe tbody tr th {\n",
       "        vertical-align: top;\n",
       "    }\n",
       "\n",
       "    .dataframe thead th {\n",
       "        text-align: right;\n",
       "    }\n",
       "</style>\n",
       "<table border=\"1\" class=\"dataframe\">\n",
       "  <thead>\n",
       "    <tr style=\"text-align: right;\">\n",
       "      <th></th>\n",
       "      <th>Title</th>\n",
       "      <th>Description_clean</th>\n",
       "      <th>Type</th>\n",
       "      <th>Year</th>\n",
       "      <th>Month</th>\n",
       "      <th>Duration_min</th>\n",
       "      <th>Single_Multiple</th>\n",
       "      <th>Country</th>\n",
       "      <th>Region</th>\n",
       "      <th>Classification</th>\n",
       "    </tr>\n",
       "  </thead>\n",
       "  <tbody>\n",
       "    <tr>\n",
       "      <th>1120</th>\n",
       "      <td>The Franco-Mexican Pastry War</td>\n",
       "      <td>When a French pastry chef complained to King L...</td>\n",
       "      <td>Regular</td>\n",
       "      <td>2015</td>\n",
       "      <td>8</td>\n",
       "      <td>25</td>\n",
       "      <td>Multiple</td>\n",
       "      <td>Mexico</td>\n",
       "      <td>Latin America and Caribbean</td>\n",
       "      <td>Non-western</td>\n",
       "    </tr>\n",
       "    <tr>\n",
       "      <th>951</th>\n",
       "      <td>Lady Jane Grey, the Nine-day Queen</td>\n",
       "      <td>For a very short time between Edward VI and Ma...</td>\n",
       "      <td>Regular</td>\n",
       "      <td>2017</td>\n",
       "      <td>3</td>\n",
       "      <td>33</td>\n",
       "      <td>Multiple</td>\n",
       "      <td>United Kingdom</td>\n",
       "      <td>Western Europe</td>\n",
       "      <td>Western</td>\n",
       "    </tr>\n",
       "    <tr>\n",
       "      <th>1048</th>\n",
       "      <td>A History of Pizza Live at C2E2</td>\n",
       "      <td>Pizza-like foods go way, way back in history, ...</td>\n",
       "      <td>Regular</td>\n",
       "      <td>2016</td>\n",
       "      <td>4</td>\n",
       "      <td>50</td>\n",
       "      <td>Multiple</td>\n",
       "      <td>Italy</td>\n",
       "      <td>Western Europe</td>\n",
       "      <td>Western</td>\n",
       "    </tr>\n",
       "    <tr>\n",
       "      <th>1679</th>\n",
       "      <td>What really happened on Bloody Sunday?</td>\n",
       "      <td>In 1972 the tension between the United Kingdom...</td>\n",
       "      <td>Regular</td>\n",
       "      <td>2010</td>\n",
       "      <td>7</td>\n",
       "      <td>16</td>\n",
       "      <td>Multiple</td>\n",
       "      <td>United Kingdom</td>\n",
       "      <td>Western Europe</td>\n",
       "      <td>Western</td>\n",
       "    </tr>\n",
       "    <tr>\n",
       "      <th>14</th>\n",
       "      <td>Holodomor</td>\n",
       "      <td>“Holodomor” is a name that was coined in the 1...</td>\n",
       "      <td>Regular</td>\n",
       "      <td>2022</td>\n",
       "      <td>3</td>\n",
       "      <td>36</td>\n",
       "      <td>Multiple</td>\n",
       "      <td>Ukraine</td>\n",
       "      <td>Eastern Europe and Central Asia</td>\n",
       "      <td>Non-western</td>\n",
       "    </tr>\n",
       "    <tr>\n",
       "      <th>1143</th>\n",
       "      <td>Henry Gerber and Chicago's Society for Human R...</td>\n",
       "      <td>In the 1920s, the Society for Human Rights was...</td>\n",
       "      <td>Regular</td>\n",
       "      <td>2015</td>\n",
       "      <td>6</td>\n",
       "      <td>27</td>\n",
       "      <td>Multiple</td>\n",
       "      <td>United States</td>\n",
       "      <td>North America</td>\n",
       "      <td>Western</td>\n",
       "    </tr>\n",
       "    <tr>\n",
       "      <th>1137</th>\n",
       "      <td>Child Migrant Program</td>\n",
       "      <td>In the 19th and 20th centuries, 150,000 child ...</td>\n",
       "      <td>Regular</td>\n",
       "      <td>2015</td>\n",
       "      <td>7</td>\n",
       "      <td>24</td>\n",
       "      <td>Multiple</td>\n",
       "      <td>New Zealand</td>\n",
       "      <td>East Asia and Pacific</td>\n",
       "      <td>Western</td>\n",
       "    </tr>\n",
       "  </tbody>\n",
       "</table>\n",
       "</div>"
      ],
      "text/plain": [
       "                                                  Title  \\\n",
       "1120                      The Franco-Mexican Pastry War   \n",
       "951                  Lady Jane Grey, the Nine-day Queen   \n",
       "1048                    A History of Pizza Live at C2E2   \n",
       "1679             What really happened on Bloody Sunday?   \n",
       "14                                            Holodomor   \n",
       "1143  Henry Gerber and Chicago's Society for Human R...   \n",
       "1137                              Child Migrant Program   \n",
       "\n",
       "                                      Description_clean     Type  Year  Month  \\\n",
       "1120  When a French pastry chef complained to King L...  Regular  2015      8   \n",
       "951   For a very short time between Edward VI and Ma...  Regular  2017      3   \n",
       "1048  Pizza-like foods go way, way back in history, ...  Regular  2016      4   \n",
       "1679  In 1972 the tension between the United Kingdom...  Regular  2010      7   \n",
       "14    “Holodomor” is a name that was coined in the 1...  Regular  2022      3   \n",
       "1143  In the 1920s, the Society for Human Rights was...  Regular  2015      6   \n",
       "1137  In the 19th and 20th centuries, 150,000 child ...  Regular  2015      7   \n",
       "\n",
       "      Duration_min Single_Multiple         Country  \\\n",
       "1120            25        Multiple          Mexico   \n",
       "951             33        Multiple  United Kingdom   \n",
       "1048            50        Multiple           Italy   \n",
       "1679            16        Multiple  United Kingdom   \n",
       "14              36        Multiple         Ukraine   \n",
       "1143            27        Multiple   United States   \n",
       "1137            24        Multiple     New Zealand   \n",
       "\n",
       "                               Region Classification  \n",
       "1120      Latin America and Caribbean    Non-western  \n",
       "951                    Western Europe        Western  \n",
       "1048                   Western Europe        Western  \n",
       "1679                   Western Europe        Western  \n",
       "14    Eastern Europe and Central Asia    Non-western  \n",
       "1143                    North America        Western  \n",
       "1137            East Asia and Pacific        Western  "
      ]
     },
     "execution_count": 697,
     "metadata": {},
     "output_type": "execute_result"
    }
   ],
   "source": [
    "country_multiple.sample(n=7)"
   ]
  },
  {
   "cell_type": "code",
   "execution_count": 698,
   "metadata": {},
   "outputs": [
    {
     "data": {
      "image/png": "[encoded data removed]",
      "text/plain": [
       "<Figure size 720x360 with 1 Axes>"
      ]
     },
     "metadata": {
      "needs_background": "light"
     },
     "output_type": "display_data"
    }
   ],
   "source": [
    "f,ax=plt.subplots(figsize=(10,5))\n",
    "data_class = country_multiple['Region'].value_counts()\n",
    "ax.set_xlabel('Frequency')\n",
    "ax.set_ylabel('Region')\n",
    "data_class.plot.barh(rot = 15, x = \"Frequency\", y = \"Region\", color =['lightblue', 'silver'],title = \"Regions in Episodes with Multiples\")\n",
    "plt.show()\n",
    "\n",
    "#other colors? \n",
    "\n",
    "# how to get this to be accurate. I want to know which episodes have BOTH western + non-western vs. Non-western + non-western \n",
    "\n",
    "#This could be a networking graph. Go with random 20% sample. "
   ]
  },
  {
   "cell_type": "code",
   "execution_count": null,
   "metadata": {},
   "outputs": [],
   "source": []
  },
  {
   "cell_type": "code",
   "execution_count": 699,
   "metadata": {},
   "outputs": [],
   "source": [
    "df_year = df_country[['Title', 'Year', 'Region','Classification']].copy()"
   ]
  },
  {
   "cell_type": "code",
   "execution_count": 351,
   "metadata": {
    "collapsed": true,
    "jupyter": {
     "outputs_hidden": true
    }
   },
   "outputs": [
    {
     "ename": "TypeError",
     "evalue": "'value' must be an instance of str or bytes, not a float",
     "output_type": "error",
     "traceback": [
      "\u001b[0;31m---------------------------------------------------------------------------\u001b[0m",
      "\u001b[0;31mTypeError\u001b[0m                                 Traceback (most recent call last)",
      "\u001b[0;32m<ipython-input-351-17f8fa93745c>\u001b[0m in \u001b[0;36m<module>\u001b[0;34m\u001b[0m\n\u001b[1;32m      1\u001b[0m \u001b[0mf\u001b[0m\u001b[0;34m,\u001b[0m\u001b[0max\u001b[0m\u001b[0;34m=\u001b[0m\u001b[0mplt\u001b[0m\u001b[0;34m.\u001b[0m\u001b[0msubplots\u001b[0m\u001b[0;34m(\u001b[0m\u001b[0mfigsize\u001b[0m\u001b[0;34m=\u001b[0m\u001b[0;34m(\u001b[0m\u001b[0;36m10\u001b[0m\u001b[0;34m,\u001b[0m\u001b[0;36m5\u001b[0m\u001b[0;34m)\u001b[0m\u001b[0;34m)\u001b[0m\u001b[0;34m\u001b[0m\u001b[0;34m\u001b[0m\u001b[0m\n\u001b[1;32m      2\u001b[0m \u001b[0;34m\u001b[0m\u001b[0m\n\u001b[0;32m----> 3\u001b[0;31m \u001b[0max\u001b[0m\u001b[0;34m.\u001b[0m\u001b[0mbar\u001b[0m\u001b[0;34m(\u001b[0m\u001b[0mdf_year\u001b[0m\u001b[0;34m.\u001b[0m\u001b[0mindex\u001b[0m\u001b[0;34m,\u001b[0m \u001b[0mdf_year\u001b[0m\u001b[0;34m[\u001b[0m\u001b[0;34m'Classification'\u001b[0m\u001b[0;34m]\u001b[0m\u001b[0;34m,\u001b[0m \u001b[0mlabel\u001b[0m \u001b[0;34m=\u001b[0m \u001b[0;34m'Western'\u001b[0m\u001b[0;34m,\u001b[0m\u001b[0;34m)\u001b[0m\u001b[0;34m\u001b[0m\u001b[0;34m\u001b[0m\u001b[0m\n\u001b[0m\u001b[1;32m      4\u001b[0m \u001b[0max\u001b[0m\u001b[0;34m.\u001b[0m\u001b[0mset_xlabel\u001b[0m\u001b[0;34m(\u001b[0m\u001b[0;34m'Classification'\u001b[0m\u001b[0;34m)\u001b[0m\u001b[0;34m\u001b[0m\u001b[0;34m\u001b[0m\u001b[0m\n\u001b[1;32m      5\u001b[0m \u001b[0max\u001b[0m\u001b[0;34m.\u001b[0m\u001b[0mset_ylabel\u001b[0m\u001b[0;34m(\u001b[0m\u001b[0;34m'Frequency'\u001b[0m\u001b[0;34m)\u001b[0m\u001b[0;34m\u001b[0m\u001b[0;34m\u001b[0m\u001b[0m\n",
      "\u001b[0;32m/opt/anaconda3/lib/python3.8/site-packages/matplotlib/__init__.py\u001b[0m in \u001b[0;36minner\u001b[0;34m(ax, data, *args, **kwargs)\u001b[0m\n\u001b[1;32m   1436\u001b[0m     \u001b[0;32mdef\u001b[0m \u001b[0minner\u001b[0m\u001b[0;34m(\u001b[0m\u001b[0max\u001b[0m\u001b[0;34m,\u001b[0m \u001b[0;34m*\u001b[0m\u001b[0margs\u001b[0m\u001b[0;34m,\u001b[0m \u001b[0mdata\u001b[0m\u001b[0;34m=\u001b[0m\u001b[0;32mNone\u001b[0m\u001b[0;34m,\u001b[0m \u001b[0;34m**\u001b[0m\u001b[0mkwargs\u001b[0m\u001b[0;34m)\u001b[0m\u001b[0;34m:\u001b[0m\u001b[0;34m\u001b[0m\u001b[0;34m\u001b[0m\u001b[0m\n\u001b[1;32m   1437\u001b[0m         \u001b[0;32mif\u001b[0m \u001b[0mdata\u001b[0m \u001b[0;32mis\u001b[0m \u001b[0;32mNone\u001b[0m\u001b[0;34m:\u001b[0m\u001b[0;34m\u001b[0m\u001b[0;34m\u001b[0m\u001b[0m\n\u001b[0;32m-> 1438\u001b[0;31m             \u001b[0;32mreturn\u001b[0m \u001b[0mfunc\u001b[0m\u001b[0;34m(\u001b[0m\u001b[0max\u001b[0m\u001b[0;34m,\u001b[0m \u001b[0;34m*\u001b[0m\u001b[0mmap\u001b[0m\u001b[0;34m(\u001b[0m\u001b[0msanitize_sequence\u001b[0m\u001b[0;34m,\u001b[0m \u001b[0margs\u001b[0m\u001b[0;34m)\u001b[0m\u001b[0;34m,\u001b[0m \u001b[0;34m**\u001b[0m\u001b[0mkwargs\u001b[0m\u001b[0;34m)\u001b[0m\u001b[0;34m\u001b[0m\u001b[0;34m\u001b[0m\u001b[0m\n\u001b[0m\u001b[1;32m   1439\u001b[0m \u001b[0;34m\u001b[0m\u001b[0m\n\u001b[1;32m   1440\u001b[0m         \u001b[0mbound\u001b[0m \u001b[0;34m=\u001b[0m \u001b[0mnew_sig\u001b[0m\u001b[0;34m.\u001b[0m\u001b[0mbind\u001b[0m\u001b[0;34m(\u001b[0m\u001b[0max\u001b[0m\u001b[0;34m,\u001b[0m \u001b[0;34m*\u001b[0m\u001b[0margs\u001b[0m\u001b[0;34m,\u001b[0m \u001b[0;34m**\u001b[0m\u001b[0mkwargs\u001b[0m\u001b[0;34m)\u001b[0m\u001b[0;34m\u001b[0m\u001b[0;34m\u001b[0m\u001b[0m\n",
      "\u001b[0;32m/opt/anaconda3/lib/python3.8/site-packages/matplotlib/axes/_axes.py\u001b[0m in \u001b[0;36mbar\u001b[0;34m(self, x, height, width, bottom, align, **kwargs)\u001b[0m\n\u001b[1;32m   2405\u001b[0m \u001b[0;34m\u001b[0m\u001b[0m\n\u001b[1;32m   2406\u001b[0m         \u001b[0;32mif\u001b[0m \u001b[0morientation\u001b[0m \u001b[0;34m==\u001b[0m \u001b[0;34m'vertical'\u001b[0m\u001b[0;34m:\u001b[0m\u001b[0;34m\u001b[0m\u001b[0;34m\u001b[0m\u001b[0m\n\u001b[0;32m-> 2407\u001b[0;31m             \u001b[0mself\u001b[0m\u001b[0;34m.\u001b[0m\u001b[0m_process_unit_info\u001b[0m\u001b[0;34m(\u001b[0m\u001b[0mxdata\u001b[0m\u001b[0;34m=\u001b[0m\u001b[0mx\u001b[0m\u001b[0;34m,\u001b[0m \u001b[0mydata\u001b[0m\u001b[0;34m=\u001b[0m\u001b[0mheight\u001b[0m\u001b[0;34m,\u001b[0m \u001b[0mkwargs\u001b[0m\u001b[0;34m=\u001b[0m\u001b[0mkwargs\u001b[0m\u001b[0;34m)\u001b[0m\u001b[0;34m\u001b[0m\u001b[0;34m\u001b[0m\u001b[0m\n\u001b[0m\u001b[1;32m   2408\u001b[0m             \u001b[0;32mif\u001b[0m \u001b[0mlog\u001b[0m\u001b[0;34m:\u001b[0m\u001b[0;34m\u001b[0m\u001b[0;34m\u001b[0m\u001b[0m\n\u001b[1;32m   2409\u001b[0m                 \u001b[0mself\u001b[0m\u001b[0;34m.\u001b[0m\u001b[0mset_yscale\u001b[0m\u001b[0;34m(\u001b[0m\u001b[0;34m'log'\u001b[0m\u001b[0;34m,\u001b[0m \u001b[0mnonpositive\u001b[0m\u001b[0;34m=\u001b[0m\u001b[0;34m'clip'\u001b[0m\u001b[0;34m)\u001b[0m\u001b[0;34m\u001b[0m\u001b[0;34m\u001b[0m\u001b[0m\n",
      "\u001b[0;32m/opt/anaconda3/lib/python3.8/site-packages/matplotlib/axes/_base.py\u001b[0m in \u001b[0;36m_process_unit_info\u001b[0;34m(self, xdata, ydata, kwargs)\u001b[0m\n\u001b[1;32m   2188\u001b[0m \u001b[0;34m\u001b[0m\u001b[0m\n\u001b[1;32m   2189\u001b[0m         \u001b[0mkwargs\u001b[0m \u001b[0;34m=\u001b[0m \u001b[0m_process_single_axis\u001b[0m\u001b[0;34m(\u001b[0m\u001b[0mxdata\u001b[0m\u001b[0;34m,\u001b[0m \u001b[0mself\u001b[0m\u001b[0;34m.\u001b[0m\u001b[0mxaxis\u001b[0m\u001b[0;34m,\u001b[0m \u001b[0;34m'xunits'\u001b[0m\u001b[0;34m,\u001b[0m \u001b[0mkwargs\u001b[0m\u001b[0;34m)\u001b[0m\u001b[0;34m\u001b[0m\u001b[0;34m\u001b[0m\u001b[0m\n\u001b[0;32m-> 2190\u001b[0;31m         \u001b[0mkwargs\u001b[0m \u001b[0;34m=\u001b[0m \u001b[0m_process_single_axis\u001b[0m\u001b[0;34m(\u001b[0m\u001b[0mydata\u001b[0m\u001b[0;34m,\u001b[0m \u001b[0mself\u001b[0m\u001b[0;34m.\u001b[0m\u001b[0myaxis\u001b[0m\u001b[0;34m,\u001b[0m \u001b[0;34m'yunits'\u001b[0m\u001b[0;34m,\u001b[0m \u001b[0mkwargs\u001b[0m\u001b[0;34m)\u001b[0m\u001b[0;34m\u001b[0m\u001b[0;34m\u001b[0m\u001b[0m\n\u001b[0m\u001b[1;32m   2191\u001b[0m         \u001b[0;32mreturn\u001b[0m \u001b[0mkwargs\u001b[0m\u001b[0;34m\u001b[0m\u001b[0;34m\u001b[0m\u001b[0m\n\u001b[1;32m   2192\u001b[0m \u001b[0;34m\u001b[0m\u001b[0m\n",
      "\u001b[0;32m/opt/anaconda3/lib/python3.8/site-packages/matplotlib/axes/_base.py\u001b[0m in \u001b[0;36m_process_single_axis\u001b[0;34m(data, axis, unit_name, kwargs)\u001b[0m\n\u001b[1;32m   2170\u001b[0m                 \u001b[0;31m# We only need to update if there is nothing set yet.\u001b[0m\u001b[0;34m\u001b[0m\u001b[0;34m\u001b[0m\u001b[0;34m\u001b[0m\u001b[0m\n\u001b[1;32m   2171\u001b[0m                 \u001b[0;32mif\u001b[0m \u001b[0;32mnot\u001b[0m \u001b[0maxis\u001b[0m\u001b[0;34m.\u001b[0m\u001b[0mhave_units\u001b[0m\u001b[0;34m(\u001b[0m\u001b[0;34m)\u001b[0m\u001b[0;34m:\u001b[0m\u001b[0;34m\u001b[0m\u001b[0;34m\u001b[0m\u001b[0m\n\u001b[0;32m-> 2172\u001b[0;31m                     \u001b[0maxis\u001b[0m\u001b[0;34m.\u001b[0m\u001b[0mupdate_units\u001b[0m\u001b[0;34m(\u001b[0m\u001b[0mdata\u001b[0m\u001b[0;34m)\u001b[0m\u001b[0;34m\u001b[0m\u001b[0;34m\u001b[0m\u001b[0m\n\u001b[0m\u001b[1;32m   2173\u001b[0m \u001b[0;34m\u001b[0m\u001b[0m\n\u001b[1;32m   2174\u001b[0m             \u001b[0;31m# Check for units in the kwargs, and if present update axis\u001b[0m\u001b[0;34m\u001b[0m\u001b[0;34m\u001b[0m\u001b[0;34m\u001b[0m\u001b[0m\n",
      "\u001b[0;32m/opt/anaconda3/lib/python3.8/site-packages/matplotlib/axis.py\u001b[0m in \u001b[0;36mupdate_units\u001b[0;34m(self, data)\u001b[0m\n\u001b[1;32m   1461\u001b[0m         \u001b[0mneednew\u001b[0m \u001b[0;34m=\u001b[0m \u001b[0mself\u001b[0m\u001b[0;34m.\u001b[0m\u001b[0mconverter\u001b[0m \u001b[0;34m!=\u001b[0m \u001b[0mconverter\u001b[0m\u001b[0;34m\u001b[0m\u001b[0;34m\u001b[0m\u001b[0m\n\u001b[1;32m   1462\u001b[0m         \u001b[0mself\u001b[0m\u001b[0;34m.\u001b[0m\u001b[0mconverter\u001b[0m \u001b[0;34m=\u001b[0m \u001b[0mconverter\u001b[0m\u001b[0;34m\u001b[0m\u001b[0;34m\u001b[0m\u001b[0m\n\u001b[0;32m-> 1463\u001b[0;31m         \u001b[0mdefault\u001b[0m \u001b[0;34m=\u001b[0m \u001b[0mself\u001b[0m\u001b[0;34m.\u001b[0m\u001b[0mconverter\u001b[0m\u001b[0;34m.\u001b[0m\u001b[0mdefault_units\u001b[0m\u001b[0;34m(\u001b[0m\u001b[0mdata\u001b[0m\u001b[0;34m,\u001b[0m \u001b[0mself\u001b[0m\u001b[0;34m)\u001b[0m\u001b[0;34m\u001b[0m\u001b[0;34m\u001b[0m\u001b[0m\n\u001b[0m\u001b[1;32m   1464\u001b[0m         \u001b[0;32mif\u001b[0m \u001b[0mdefault\u001b[0m \u001b[0;32mis\u001b[0m \u001b[0;32mnot\u001b[0m \u001b[0;32mNone\u001b[0m \u001b[0;32mand\u001b[0m \u001b[0mself\u001b[0m\u001b[0;34m.\u001b[0m\u001b[0munits\u001b[0m \u001b[0;32mis\u001b[0m \u001b[0;32mNone\u001b[0m\u001b[0;34m:\u001b[0m\u001b[0;34m\u001b[0m\u001b[0;34m\u001b[0m\u001b[0m\n\u001b[1;32m   1465\u001b[0m             \u001b[0mself\u001b[0m\u001b[0;34m.\u001b[0m\u001b[0mset_units\u001b[0m\u001b[0;34m(\u001b[0m\u001b[0mdefault\u001b[0m\u001b[0;34m)\u001b[0m\u001b[0;34m\u001b[0m\u001b[0;34m\u001b[0m\u001b[0m\n",
      "\u001b[0;32m/opt/anaconda3/lib/python3.8/site-packages/matplotlib/category.py\u001b[0m in \u001b[0;36mdefault_units\u001b[0;34m(data, axis)\u001b[0m\n\u001b[1;32m    105\u001b[0m         \u001b[0;31m# the conversion call stack is default_units -> axis_info -> convert\u001b[0m\u001b[0;34m\u001b[0m\u001b[0;34m\u001b[0m\u001b[0;34m\u001b[0m\u001b[0m\n\u001b[1;32m    106\u001b[0m         \u001b[0;32mif\u001b[0m \u001b[0maxis\u001b[0m\u001b[0;34m.\u001b[0m\u001b[0munits\u001b[0m \u001b[0;32mis\u001b[0m \u001b[0;32mNone\u001b[0m\u001b[0;34m:\u001b[0m\u001b[0;34m\u001b[0m\u001b[0;34m\u001b[0m\u001b[0m\n\u001b[0;32m--> 107\u001b[0;31m             \u001b[0maxis\u001b[0m\u001b[0;34m.\u001b[0m\u001b[0mset_units\u001b[0m\u001b[0;34m(\u001b[0m\u001b[0mUnitData\u001b[0m\u001b[0;34m(\u001b[0m\u001b[0mdata\u001b[0m\u001b[0;34m)\u001b[0m\u001b[0;34m)\u001b[0m\u001b[0;34m\u001b[0m\u001b[0;34m\u001b[0m\u001b[0m\n\u001b[0m\u001b[1;32m    108\u001b[0m         \u001b[0;32melse\u001b[0m\u001b[0;34m:\u001b[0m\u001b[0;34m\u001b[0m\u001b[0;34m\u001b[0m\u001b[0m\n\u001b[1;32m    109\u001b[0m             \u001b[0maxis\u001b[0m\u001b[0;34m.\u001b[0m\u001b[0munits\u001b[0m\u001b[0;34m.\u001b[0m\u001b[0mupdate\u001b[0m\u001b[0;34m(\u001b[0m\u001b[0mdata\u001b[0m\u001b[0;34m)\u001b[0m\u001b[0;34m\u001b[0m\u001b[0;34m\u001b[0m\u001b[0m\n",
      "\u001b[0;32m/opt/anaconda3/lib/python3.8/site-packages/matplotlib/category.py\u001b[0m in \u001b[0;36m__init__\u001b[0;34m(self, data)\u001b[0m\n\u001b[1;32m    174\u001b[0m         \u001b[0mself\u001b[0m\u001b[0;34m.\u001b[0m\u001b[0m_counter\u001b[0m \u001b[0;34m=\u001b[0m \u001b[0mitertools\u001b[0m\u001b[0;34m.\u001b[0m\u001b[0mcount\u001b[0m\u001b[0;34m(\u001b[0m\u001b[0;34m)\u001b[0m\u001b[0;34m\u001b[0m\u001b[0;34m\u001b[0m\u001b[0m\n\u001b[1;32m    175\u001b[0m         \u001b[0;32mif\u001b[0m \u001b[0mdata\u001b[0m \u001b[0;32mis\u001b[0m \u001b[0;32mnot\u001b[0m \u001b[0;32mNone\u001b[0m\u001b[0;34m:\u001b[0m\u001b[0;34m\u001b[0m\u001b[0;34m\u001b[0m\u001b[0m\n\u001b[0;32m--> 176\u001b[0;31m             \u001b[0mself\u001b[0m\u001b[0;34m.\u001b[0m\u001b[0mupdate\u001b[0m\u001b[0;34m(\u001b[0m\u001b[0mdata\u001b[0m\u001b[0;34m)\u001b[0m\u001b[0;34m\u001b[0m\u001b[0;34m\u001b[0m\u001b[0m\n\u001b[0m\u001b[1;32m    177\u001b[0m \u001b[0;34m\u001b[0m\u001b[0m\n\u001b[1;32m    178\u001b[0m     \u001b[0;34m@\u001b[0m\u001b[0mstaticmethod\u001b[0m\u001b[0;34m\u001b[0m\u001b[0;34m\u001b[0m\u001b[0m\n",
      "\u001b[0;32m/opt/anaconda3/lib/python3.8/site-packages/matplotlib/category.py\u001b[0m in \u001b[0;36mupdate\u001b[0;34m(self, data)\u001b[0m\n\u001b[1;32m    209\u001b[0m         \u001b[0;32mfor\u001b[0m \u001b[0mval\u001b[0m \u001b[0;32min\u001b[0m \u001b[0mOrderedDict\u001b[0m\u001b[0;34m.\u001b[0m\u001b[0mfromkeys\u001b[0m\u001b[0;34m(\u001b[0m\u001b[0mdata\u001b[0m\u001b[0;34m)\u001b[0m\u001b[0;34m:\u001b[0m\u001b[0;34m\u001b[0m\u001b[0;34m\u001b[0m\u001b[0m\n\u001b[1;32m    210\u001b[0m             \u001b[0;31m# OrderedDict just iterates over unique values in data.\u001b[0m\u001b[0;34m\u001b[0m\u001b[0;34m\u001b[0m\u001b[0;34m\u001b[0m\u001b[0m\n\u001b[0;32m--> 211\u001b[0;31m             \u001b[0mcbook\u001b[0m\u001b[0;34m.\u001b[0m\u001b[0m_check_isinstance\u001b[0m\u001b[0;34m(\u001b[0m\u001b[0;34m(\u001b[0m\u001b[0mstr\u001b[0m\u001b[0;34m,\u001b[0m \u001b[0mbytes\u001b[0m\u001b[0;34m)\u001b[0m\u001b[0;34m,\u001b[0m \u001b[0mvalue\u001b[0m\u001b[0;34m=\u001b[0m\u001b[0mval\u001b[0m\u001b[0;34m)\u001b[0m\u001b[0;34m\u001b[0m\u001b[0;34m\u001b[0m\u001b[0m\n\u001b[0m\u001b[1;32m    212\u001b[0m             \u001b[0;32mif\u001b[0m \u001b[0mconvertible\u001b[0m\u001b[0;34m:\u001b[0m\u001b[0;34m\u001b[0m\u001b[0;34m\u001b[0m\u001b[0m\n\u001b[1;32m    213\u001b[0m                 \u001b[0;31m# this will only be called so long as convertible is True.\u001b[0m\u001b[0;34m\u001b[0m\u001b[0;34m\u001b[0m\u001b[0;34m\u001b[0m\u001b[0m\n",
      "\u001b[0;32m/opt/anaconda3/lib/python3.8/site-packages/matplotlib/cbook/__init__.py\u001b[0m in \u001b[0;36m_check_isinstance\u001b[0;34m(_types, **kwargs)\u001b[0m\n\u001b[1;32m   2244\u001b[0m     \u001b[0;32mfor\u001b[0m \u001b[0mk\u001b[0m\u001b[0;34m,\u001b[0m \u001b[0mv\u001b[0m \u001b[0;32min\u001b[0m \u001b[0mkwargs\u001b[0m\u001b[0;34m.\u001b[0m\u001b[0mitems\u001b[0m\u001b[0;34m(\u001b[0m\u001b[0;34m)\u001b[0m\u001b[0;34m:\u001b[0m\u001b[0;34m\u001b[0m\u001b[0;34m\u001b[0m\u001b[0m\n\u001b[1;32m   2245\u001b[0m         \u001b[0;32mif\u001b[0m \u001b[0;32mnot\u001b[0m \u001b[0misinstance\u001b[0m\u001b[0;34m(\u001b[0m\u001b[0mv\u001b[0m\u001b[0;34m,\u001b[0m \u001b[0mtypes\u001b[0m\u001b[0;34m)\u001b[0m\u001b[0;34m:\u001b[0m\u001b[0;34m\u001b[0m\u001b[0;34m\u001b[0m\u001b[0m\n\u001b[0;32m-> 2246\u001b[0;31m             raise TypeError(\n\u001b[0m\u001b[1;32m   2247\u001b[0m                 \"{!r} must be an instance of {}, not a {}\".format(\n\u001b[1;32m   2248\u001b[0m                     \u001b[0mk\u001b[0m\u001b[0;34m,\u001b[0m\u001b[0;34m\u001b[0m\u001b[0;34m\u001b[0m\u001b[0m\n",
      "\u001b[0;31mTypeError\u001b[0m: 'value' must be an instance of str or bytes, not a float"
     ]
    },
    {
     "data": {
      "image/png": "[encoded data removed]",
      "text/plain": [
       "<Figure size 720x360 with 1 Axes>"
      ]
     },
     "metadata": {
      "needs_background": "light"
     },
     "output_type": "display_data"
    }
   ],
   "source": []
  },
  {
   "cell_type": "code",
   "execution_count": null,
   "metadata": {},
   "outputs": [],
   "source": []
  }
 ],
 "metadata": {
  "kernelspec": {
   "display_name": "Python 3",
   "language": "python",
   "name": "python3"
  },
  "language_info": {
   "codemirror_mode": {
    "name": "ipython",
    "version": 3
   },
   "file_extension": ".py",
   "mimetype": "text/x-python",
   "name": "python",
   "nbconvert_exporter": "python",
   "pygments_lexer": "ipython3",
   "version": "3.8.5"
  }
 },
 "nbformat": 4,
 "nbformat_minor": 4
}
