{
 "cells": [
  {
   "cell_type": "markdown",
   "metadata": {},
   "source": [
    "# My attempt to make a stacked bar chart of total number of Non-western mentions over the years vs. \n",
    "# total number of western mentions over the years. \n",
    "1. Ended up using Tableau to visualize the data. \n",
    "2. Need to normalize the data to represent the proportions. "
   ]
  },
  {
   "cell_type": "code",
   "execution_count": 133,
   "metadata": {},
   "outputs": [],
   "source": [
    "import pandas as pd\n",
    "import numpy as np\n",
    "import matplotlib.pyplot as plt \n",
    "%matplotlib inline\n",
    "import seaborn as sns"
   ]
  },
  {
   "cell_type": "code",
   "execution_count": 134,
   "metadata": {},
   "outputs": [],
   "source": [
    "filename = '/Users/jeanettepyne/Desktop/Illinois_reboot_python_2.0/Data/country_data_split.xlsx'"
   ]
  },
  {
   "cell_type": "code",
   "execution_count": 135,
   "metadata": {},
   "outputs": [],
   "source": [
    "df = pd.read_excel(filename, index_col = False)"
   ]
  },
  {
   "cell_type": "code",
   "execution_count": 136,
   "metadata": {},
   "outputs": [
    {
     "data": {
      "text/html": [
       "<div>\n",
       "<style scoped>\n",
       "    .dataframe tbody tr th:only-of-type {\n",
       "        vertical-align: middle;\n",
       "    }\n",
       "\n",
       "    .dataframe tbody tr th {\n",
       "        vertical-align: top;\n",
       "    }\n",
       "\n",
       "    .dataframe thead th {\n",
       "        text-align: right;\n",
       "    }\n",
       "</style>\n",
       "<table border=\"1\" class=\"dataframe\">\n",
       "  <thead>\n",
       "    <tr style=\"text-align: right;\">\n",
       "      <th></th>\n",
       "      <th>Unnamed: 0</th>\n",
       "      <th>Title</th>\n",
       "      <th>Description_clean</th>\n",
       "      <th>Year</th>\n",
       "      <th>Month</th>\n",
       "      <th>Duration_min</th>\n",
       "      <th>Type</th>\n",
       "      <th>title_gpe_mentioned</th>\n",
       "      <th>description_gpe_mentioned</th>\n",
       "      <th>Single_Multiple</th>\n",
       "      <th>Country</th>\n",
       "      <th>Region</th>\n",
       "      <th>Global South_North</th>\n",
       "      <th>Classification</th>\n",
       "    </tr>\n",
       "  </thead>\n",
       "  <tbody>\n",
       "    <tr>\n",
       "      <th>0</th>\n",
       "      <td>0</td>\n",
       "      <td>Women’s March on Pretoria, 1956</td>\n",
       "      <td>This 1956 march was a protest against pass law...</td>\n",
       "      <td>2022</td>\n",
       "      <td>3</td>\n",
       "      <td>34</td>\n",
       "      <td>Regular</td>\n",
       "      <td>[['Pretoria', 'GPE']]</td>\n",
       "      <td>[['South Africa’s', 'GPE'], ['South Africa', '...</td>\n",
       "      <td>Single</td>\n",
       "      <td>South Africa</td>\n",
       "      <td>Eastern and Southern Africa</td>\n",
       "      <td>Global South</td>\n",
       "      <td>Non-western</td>\n",
       "    </tr>\n",
       "    <tr>\n",
       "      <th>1</th>\n",
       "      <td>1</td>\n",
       "      <td>Thomas Hardy, Emma Gifford and Florence Dugdale</td>\n",
       "      <td>Once you know about Hardy’s life, it's natural...</td>\n",
       "      <td>2022</td>\n",
       "      <td>3</td>\n",
       "      <td>39</td>\n",
       "      <td>Regular</td>\n",
       "      <td>[]</td>\n",
       "      <td>[['Angelique', 'GPE']]</td>\n",
       "      <td>NaN</td>\n",
       "      <td>NaN</td>\n",
       "      <td>NaN</td>\n",
       "      <td>NaN</td>\n",
       "      <td>NaN</td>\n",
       "    </tr>\n",
       "    <tr>\n",
       "      <th>2</th>\n",
       "      <td>2</td>\n",
       "      <td>SYMHC Classics: 6888th Central Postal Director...</td>\n",
       "      <td>This 2019 episode covers the 6888th Central Po...</td>\n",
       "      <td>2022</td>\n",
       "      <td>3</td>\n",
       "      <td>34</td>\n",
       "      <td>SYMHC Classics:</td>\n",
       "      <td>[]</td>\n",
       "      <td>[['U.S.', 'GPE']]</td>\n",
       "      <td>Single</td>\n",
       "      <td>United States</td>\n",
       "      <td>North America</td>\n",
       "      <td>Global North</td>\n",
       "      <td>Western</td>\n",
       "    </tr>\n",
       "    <tr>\n",
       "      <th>3</th>\n",
       "      <td>3</td>\n",
       "      <td>Behind the Scenes Minis: Maria and Bruno</td>\n",
       "      <td>Tracy shares how she learned about Maria Gertr...</td>\n",
       "      <td>2022</td>\n",
       "      <td>3</td>\n",
       "      <td>19</td>\n",
       "      <td>Behind the Scenes Minis:</td>\n",
       "      <td>[]</td>\n",
       "      <td>[]</td>\n",
       "      <td>NaN</td>\n",
       "      <td>NaN</td>\n",
       "      <td>NaN</td>\n",
       "      <td>NaN</td>\n",
       "      <td>NaN</td>\n",
       "    </tr>\n",
       "    <tr>\n",
       "      <th>4</th>\n",
       "      <td>4</td>\n",
       "      <td>Giordano Bruno</td>\n",
       "      <td>Bruno was a mathematician, philosopher, astron...</td>\n",
       "      <td>2022</td>\n",
       "      <td>3</td>\n",
       "      <td>40</td>\n",
       "      <td>Regular</td>\n",
       "      <td>[]</td>\n",
       "      <td>[['Italy', 'GPE'], ['Martinez', 'GPE']]</td>\n",
       "      <td>Single</td>\n",
       "      <td>Italy</td>\n",
       "      <td>Western Europe</td>\n",
       "      <td>Global North</td>\n",
       "      <td>Western</td>\n",
       "    </tr>\n",
       "  </tbody>\n",
       "</table>\n",
       "</div>"
      ],
      "text/plain": [
       "   Unnamed: 0                                              Title  \\\n",
       "0           0                    Women’s March on Pretoria, 1956   \n",
       "1           1    Thomas Hardy, Emma Gifford and Florence Dugdale   \n",
       "2           2  SYMHC Classics: 6888th Central Postal Director...   \n",
       "3           3           Behind the Scenes Minis: Maria and Bruno   \n",
       "4           4                                     Giordano Bruno   \n",
       "\n",
       "                                   Description_clean  Year  Month  \\\n",
       "0  This 1956 march was a protest against pass law...  2022      3   \n",
       "1  Once you know about Hardy’s life, it's natural...  2022      3   \n",
       "2  This 2019 episode covers the 6888th Central Po...  2022      3   \n",
       "3  Tracy shares how she learned about Maria Gertr...  2022      3   \n",
       "4  Bruno was a mathematician, philosopher, astron...  2022      3   \n",
       "\n",
       "   Duration_min                      Type    title_gpe_mentioned  \\\n",
       "0            34                   Regular  [['Pretoria', 'GPE']]   \n",
       "1            39                   Regular                     []   \n",
       "2            34           SYMHC Classics:                     []   \n",
       "3            19  Behind the Scenes Minis:                     []   \n",
       "4            40                   Regular                     []   \n",
       "\n",
       "                           description_gpe_mentioned Single_Multiple  \\\n",
       "0  [['South Africa’s', 'GPE'], ['South Africa', '...         Single    \n",
       "1                             [['Angelique', 'GPE']]             NaN   \n",
       "2                                  [['U.S.', 'GPE']]         Single    \n",
       "3                                                 []             NaN   \n",
       "4            [['Italy', 'GPE'], ['Martinez', 'GPE']]         Single    \n",
       "\n",
       "         Country                       Region Global South_North  \\\n",
       "0   South Africa  Eastern and Southern Africa       Global South   \n",
       "1            NaN                          NaN                NaN   \n",
       "2  United States                North America       Global North   \n",
       "3            NaN                          NaN                NaN   \n",
       "4          Italy               Western Europe       Global North   \n",
       "\n",
       "  Classification  \n",
       "0    Non-western  \n",
       "1            NaN  \n",
       "2        Western  \n",
       "3            NaN  \n",
       "4        Western  "
      ]
     },
     "execution_count": 136,
     "metadata": {},
     "output_type": "execute_result"
    }
   ],
   "source": [
    "df.head()"
   ]
  },
  {
   "cell_type": "code",
   "execution_count": 137,
   "metadata": {},
   "outputs": [],
   "source": [
    "field = ['Title', 'Type', 'Year', 'Month','Country','Region', 'Classification']"
   ]
  },
  {
   "cell_type": "code",
   "execution_count": 138,
   "metadata": {},
   "outputs": [],
   "source": [
    "df_country = pd.DataFrame(df, columns = field)"
   ]
  },
  {
   "cell_type": "code",
   "execution_count": 139,
   "metadata": {},
   "outputs": [
    {
     "data": {
      "text/html": [
       "<div>\n",
       "<style scoped>\n",
       "    .dataframe tbody tr th:only-of-type {\n",
       "        vertical-align: middle;\n",
       "    }\n",
       "\n",
       "    .dataframe tbody tr th {\n",
       "        vertical-align: top;\n",
       "    }\n",
       "\n",
       "    .dataframe thead th {\n",
       "        text-align: right;\n",
       "    }\n",
       "</style>\n",
       "<table border=\"1\" class=\"dataframe\">\n",
       "  <thead>\n",
       "    <tr style=\"text-align: right;\">\n",
       "      <th></th>\n",
       "      <th>Title</th>\n",
       "      <th>Type</th>\n",
       "      <th>Year</th>\n",
       "      <th>Month</th>\n",
       "      <th>Country</th>\n",
       "      <th>Region</th>\n",
       "      <th>Classification</th>\n",
       "    </tr>\n",
       "  </thead>\n",
       "  <tbody>\n",
       "    <tr>\n",
       "      <th>0</th>\n",
       "      <td>Women’s March on Pretoria, 1956</td>\n",
       "      <td>Regular</td>\n",
       "      <td>2022</td>\n",
       "      <td>3</td>\n",
       "      <td>South Africa</td>\n",
       "      <td>Eastern and Southern Africa</td>\n",
       "      <td>Non-western</td>\n",
       "    </tr>\n",
       "    <tr>\n",
       "      <th>1</th>\n",
       "      <td>Thomas Hardy, Emma Gifford and Florence Dugdale</td>\n",
       "      <td>Regular</td>\n",
       "      <td>2022</td>\n",
       "      <td>3</td>\n",
       "      <td>NaN</td>\n",
       "      <td>NaN</td>\n",
       "      <td>NaN</td>\n",
       "    </tr>\n",
       "    <tr>\n",
       "      <th>2</th>\n",
       "      <td>SYMHC Classics: 6888th Central Postal Director...</td>\n",
       "      <td>SYMHC Classics:</td>\n",
       "      <td>2022</td>\n",
       "      <td>3</td>\n",
       "      <td>United States</td>\n",
       "      <td>North America</td>\n",
       "      <td>Western</td>\n",
       "    </tr>\n",
       "    <tr>\n",
       "      <th>3</th>\n",
       "      <td>Behind the Scenes Minis: Maria and Bruno</td>\n",
       "      <td>Behind the Scenes Minis:</td>\n",
       "      <td>2022</td>\n",
       "      <td>3</td>\n",
       "      <td>NaN</td>\n",
       "      <td>NaN</td>\n",
       "      <td>NaN</td>\n",
       "    </tr>\n",
       "    <tr>\n",
       "      <th>4</th>\n",
       "      <td>Giordano Bruno</td>\n",
       "      <td>Regular</td>\n",
       "      <td>2022</td>\n",
       "      <td>3</td>\n",
       "      <td>Italy</td>\n",
       "      <td>Western Europe</td>\n",
       "      <td>Western</td>\n",
       "    </tr>\n",
       "  </tbody>\n",
       "</table>\n",
       "</div>"
      ],
      "text/plain": [
       "                                               Title  \\\n",
       "0                    Women’s March on Pretoria, 1956   \n",
       "1    Thomas Hardy, Emma Gifford and Florence Dugdale   \n",
       "2  SYMHC Classics: 6888th Central Postal Director...   \n",
       "3           Behind the Scenes Minis: Maria and Bruno   \n",
       "4                                     Giordano Bruno   \n",
       "\n",
       "                       Type  Year  Month        Country  \\\n",
       "0                   Regular  2022      3   South Africa   \n",
       "1                   Regular  2022      3            NaN   \n",
       "2           SYMHC Classics:  2022      3  United States   \n",
       "3  Behind the Scenes Minis:  2022      3            NaN   \n",
       "4                   Regular  2022      3          Italy   \n",
       "\n",
       "                        Region Classification  \n",
       "0  Eastern and Southern Africa    Non-western  \n",
       "1                          NaN            NaN  \n",
       "2                North America        Western  \n",
       "3                          NaN            NaN  \n",
       "4               Western Europe        Western  "
      ]
     },
     "execution_count": 139,
     "metadata": {},
     "output_type": "execute_result"
    }
   ],
   "source": [
    "df_country.head()"
   ]
  },
  {
   "cell_type": "code",
   "execution_count": 140,
   "metadata": {},
   "outputs": [
    {
     "name": "stdout",
     "output_type": "stream",
     "text": [
      "<class 'pandas.core.frame.DataFrame'>\n",
      "RangeIndex: 1899 entries, 0 to 1898\n",
      "Data columns (total 7 columns):\n",
      " #   Column          Non-Null Count  Dtype \n",
      "---  ------          --------------  ----- \n",
      " 0   Title           1899 non-null   object\n",
      " 1   Type            1899 non-null   object\n",
      " 2   Year            1899 non-null   int64 \n",
      " 3   Month           1899 non-null   int64 \n",
      " 4   Country         758 non-null    object\n",
      " 5   Region          758 non-null    object\n",
      " 6   Classification  758 non-null    object\n",
      "dtypes: int64(2), object(5)\n",
      "memory usage: 104.0+ KB\n"
     ]
    }
   ],
   "source": [
    "df_country.info()"
   ]
  },
  {
   "cell_type": "code",
   "execution_count": 141,
   "metadata": {},
   "outputs": [],
   "source": [
    "df_country['Year'] = df_country['Year'].astype(str)"
   ]
  },
  {
   "cell_type": "code",
   "execution_count": 142,
   "metadata": {},
   "outputs": [
    {
     "name": "stdout",
     "output_type": "stream",
     "text": [
      "<class 'pandas.core.frame.DataFrame'>\n",
      "RangeIndex: 1899 entries, 0 to 1898\n",
      "Data columns (total 7 columns):\n",
      " #   Column          Non-Null Count  Dtype \n",
      "---  ------          --------------  ----- \n",
      " 0   Title           1899 non-null   object\n",
      " 1   Type            1899 non-null   object\n",
      " 2   Year            1899 non-null   object\n",
      " 3   Month           1899 non-null   int64 \n",
      " 4   Country         758 non-null    object\n",
      " 5   Region          758 non-null    object\n",
      " 6   Classification  758 non-null    object\n",
      "dtypes: int64(1), object(6)\n",
      "memory usage: 104.0+ KB\n"
     ]
    }
   ],
   "source": [
    "df_country.info()"
   ]
  },
  {
   "cell_type": "code",
   "execution_count": 143,
   "metadata": {},
   "outputs": [],
   "source": [
    "df_country['Month'] = df_country['Month'].astype(str)"
   ]
  },
  {
   "cell_type": "code",
   "execution_count": 144,
   "metadata": {},
   "outputs": [
    {
     "name": "stdout",
     "output_type": "stream",
     "text": [
      "<class 'pandas.core.frame.DataFrame'>\n",
      "RangeIndex: 1899 entries, 0 to 1898\n",
      "Data columns (total 7 columns):\n",
      " #   Column          Non-Null Count  Dtype \n",
      "---  ------          --------------  ----- \n",
      " 0   Title           1899 non-null   object\n",
      " 1   Type            1899 non-null   object\n",
      " 2   Year            1899 non-null   object\n",
      " 3   Month           1899 non-null   object\n",
      " 4   Country         758 non-null    object\n",
      " 5   Region          758 non-null    object\n",
      " 6   Classification  758 non-null    object\n",
      "dtypes: object(7)\n",
      "memory usage: 104.0+ KB\n"
     ]
    }
   ],
   "source": [
    "df_country.info()"
   ]
  },
  {
   "cell_type": "code",
   "execution_count": 152,
   "metadata": {},
   "outputs": [],
   "source": [
    "date = pd.to_datetime(df_country['Year'], format = '%Y')"
   ]
  },
  {
   "cell_type": "code",
   "execution_count": 153,
   "metadata": {},
   "outputs": [],
   "source": [
    "#date = pd.to_datetime(df_country['Year'] + '-' + df_country['Month'], format = '%Y-%m')"
   ]
  },
  {
   "cell_type": "code",
   "execution_count": 154,
   "metadata": {},
   "outputs": [],
   "source": [
    "df_country['Date'] = date"
   ]
  },
  {
   "cell_type": "code",
   "execution_count": 155,
   "metadata": {},
   "outputs": [
    {
     "name": "stdout",
     "output_type": "stream",
     "text": [
      "<class 'pandas.core.frame.DataFrame'>\n",
      "RangeIndex: 1899 entries, 0 to 1898\n",
      "Data columns (total 8 columns):\n",
      " #   Column          Non-Null Count  Dtype         \n",
      "---  ------          --------------  -----         \n",
      " 0   Title           1899 non-null   object        \n",
      " 1   Type            1899 non-null   object        \n",
      " 2   Year            1899 non-null   object        \n",
      " 3   Month           1899 non-null   object        \n",
      " 4   Country         758 non-null    object        \n",
      " 5   Region          758 non-null    object        \n",
      " 6   Classification  758 non-null    object        \n",
      " 7   Date            1899 non-null   datetime64[ns]\n",
      "dtypes: datetime64[ns](1), object(7)\n",
      "memory usage: 118.8+ KB\n"
     ]
    }
   ],
   "source": [
    "df_country.info()"
   ]
  },
  {
   "cell_type": "code",
   "execution_count": 157,
   "metadata": {},
   "outputs": [],
   "source": [
    "df_country['Date'] =  pd.DatetimeIndex(df_country['Year']).year"
   ]
  },
  {
   "cell_type": "code",
   "execution_count": 158,
   "metadata": {},
   "outputs": [
    {
     "data": {
      "text/html": [
       "<div>\n",
       "<style scoped>\n",
       "    .dataframe tbody tr th:only-of-type {\n",
       "        vertical-align: middle;\n",
       "    }\n",
       "\n",
       "    .dataframe tbody tr th {\n",
       "        vertical-align: top;\n",
       "    }\n",
       "\n",
       "    .dataframe thead th {\n",
       "        text-align: right;\n",
       "    }\n",
       "</style>\n",
       "<table border=\"1\" class=\"dataframe\">\n",
       "  <thead>\n",
       "    <tr style=\"text-align: right;\">\n",
       "      <th></th>\n",
       "      <th>Title</th>\n",
       "      <th>Type</th>\n",
       "      <th>Year</th>\n",
       "      <th>Month</th>\n",
       "      <th>Country</th>\n",
       "      <th>Region</th>\n",
       "      <th>Classification</th>\n",
       "      <th>Date</th>\n",
       "    </tr>\n",
       "  </thead>\n",
       "  <tbody>\n",
       "    <tr>\n",
       "      <th>746</th>\n",
       "      <td>SYMHC Classics: The Johnstown Flood</td>\n",
       "      <td>SYMHC Classics:</td>\n",
       "      <td>2018</td>\n",
       "      <td>7</td>\n",
       "      <td>United States</td>\n",
       "      <td>North America</td>\n",
       "      <td>Western</td>\n",
       "      <td>2018</td>\n",
       "    </tr>\n",
       "    <tr>\n",
       "      <th>1135</th>\n",
       "      <td>Child Migrant Program</td>\n",
       "      <td>Regular</td>\n",
       "      <td>2015</td>\n",
       "      <td>7</td>\n",
       "      <td>Canada</td>\n",
       "      <td>North America</td>\n",
       "      <td>Western</td>\n",
       "      <td>2015</td>\n",
       "    </tr>\n",
       "    <tr>\n",
       "      <th>923</th>\n",
       "      <td>Louis Riel</td>\n",
       "      <td>Regular</td>\n",
       "      <td>2017</td>\n",
       "      <td>6</td>\n",
       "      <td>Canada</td>\n",
       "      <td>North America</td>\n",
       "      <td>Western</td>\n",
       "      <td>2017</td>\n",
       "    </tr>\n",
       "    <tr>\n",
       "      <th>841</th>\n",
       "      <td>Unearthed!: The USS Indianapolis</td>\n",
       "      <td>Unearthed!</td>\n",
       "      <td>2017</td>\n",
       "      <td>12</td>\n",
       "      <td>NaN</td>\n",
       "      <td>NaN</td>\n",
       "      <td>NaN</td>\n",
       "      <td>2017</td>\n",
       "    </tr>\n",
       "    <tr>\n",
       "      <th>551</th>\n",
       "      <td>SYMHC Live: Mysteries of the Color Blue</td>\n",
       "      <td>Regular</td>\n",
       "      <td>2019</td>\n",
       "      <td>10</td>\n",
       "      <td>NaN</td>\n",
       "      <td>NaN</td>\n",
       "      <td>NaN</td>\n",
       "      <td>2019</td>\n",
       "    </tr>\n",
       "  </tbody>\n",
       "</table>\n",
       "</div>"
      ],
      "text/plain": [
       "                                        Title             Type  Year Month  \\\n",
       "746       SYMHC Classics: The Johnstown Flood  SYMHC Classics:  2018     7   \n",
       "1135                    Child Migrant Program          Regular  2015     7   \n",
       "923                                Louis Riel          Regular  2017     6   \n",
       "841          Unearthed!: The USS Indianapolis       Unearthed!  2017    12   \n",
       "551   SYMHC Live: Mysteries of the Color Blue          Regular  2019    10   \n",
       "\n",
       "            Country         Region Classification  Date  \n",
       "746   United States  North America        Western  2018  \n",
       "1135         Canada  North America        Western  2015  \n",
       "923          Canada  North America        Western  2017  \n",
       "841             NaN            NaN            NaN  2017  \n",
       "551             NaN            NaN            NaN  2019  "
      ]
     },
     "execution_count": 158,
     "metadata": {},
     "output_type": "execute_result"
    }
   ],
   "source": [
    "df_country.sample(n=5)"
   ]
  },
  {
   "cell_type": "code",
   "execution_count": 159,
   "metadata": {},
   "outputs": [
    {
     "name": "stdout",
     "output_type": "stream",
     "text": [
      "<class 'pandas.core.frame.DataFrame'>\n",
      "RangeIndex: 1899 entries, 0 to 1898\n",
      "Data columns (total 8 columns):\n",
      " #   Column          Non-Null Count  Dtype \n",
      "---  ------          --------------  ----- \n",
      " 0   Title           1899 non-null   object\n",
      " 1   Type            1899 non-null   object\n",
      " 2   Year            1899 non-null   object\n",
      " 3   Month           1899 non-null   object\n",
      " 4   Country         758 non-null    object\n",
      " 5   Region          758 non-null    object\n",
      " 6   Classification  758 non-null    object\n",
      " 7   Date            1899 non-null   int64 \n",
      "dtypes: int64(1), object(7)\n",
      "memory usage: 118.8+ KB\n"
     ]
    }
   ],
   "source": [
    "df_country.info()"
   ]
  },
  {
   "cell_type": "code",
   "execution_count": 161,
   "metadata": {},
   "outputs": [
    {
     "data": {
      "text/plain": [
       "2020    239\n",
       "2021    215\n",
       "2019    167\n",
       "2018    164\n",
       "2017    132\n",
       "2015    113\n",
       "2016    110\n",
       "2014    110\n",
       "2010    110\n",
       "2013    107\n",
       "2012    107\n",
       "2011    106\n",
       "2009    105\n",
       "2008     59\n",
       "2022     55\n",
       "Name: Date, dtype: int64"
      ]
     },
     "execution_count": 161,
     "metadata": {},
     "output_type": "execute_result"
    }
   ],
   "source": [
    "df_country['Date'].value_counts()"
   ]
  },
  {
   "cell_type": "code",
   "execution_count": 162,
   "metadata": {},
   "outputs": [],
   "source": [
    "country_regular = df_country[df_country['Type']=='Regular']"
   ]
  },
  {
   "cell_type": "code",
   "execution_count": 163,
   "metadata": {},
   "outputs": [
    {
     "name": "stdout",
     "output_type": "stream",
     "text": [
      "<class 'pandas.core.frame.DataFrame'>\n",
      "Int64Index: 1467 entries, 0 to 1898\n",
      "Data columns (total 8 columns):\n",
      " #   Column          Non-Null Count  Dtype \n",
      "---  ------          --------------  ----- \n",
      " 0   Title           1467 non-null   object\n",
      " 1   Type            1467 non-null   object\n",
      " 2   Year            1467 non-null   object\n",
      " 3   Month           1467 non-null   object\n",
      " 4   Country         642 non-null    object\n",
      " 5   Region          642 non-null    object\n",
      " 6   Classification  642 non-null    object\n",
      " 7   Date            1467 non-null   int64 \n",
      "dtypes: int64(1), object(7)\n",
      "memory usage: 103.1+ KB\n"
     ]
    }
   ],
   "source": [
    "country_regular.info()"
   ]
  },
  {
   "cell_type": "code",
   "execution_count": 164,
   "metadata": {},
   "outputs": [
    {
     "data": {
      "text/html": [
       "<div>\n",
       "<style scoped>\n",
       "    .dataframe tbody tr th:only-of-type {\n",
       "        vertical-align: middle;\n",
       "    }\n",
       "\n",
       "    .dataframe tbody tr th {\n",
       "        vertical-align: top;\n",
       "    }\n",
       "\n",
       "    .dataframe thead th {\n",
       "        text-align: right;\n",
       "    }\n",
       "</style>\n",
       "<table border=\"1\" class=\"dataframe\">\n",
       "  <thead>\n",
       "    <tr style=\"text-align: right;\">\n",
       "      <th></th>\n",
       "      <th>Title</th>\n",
       "      <th>Type</th>\n",
       "      <th>Year</th>\n",
       "      <th>Month</th>\n",
       "      <th>Country</th>\n",
       "      <th>Region</th>\n",
       "      <th>Classification</th>\n",
       "      <th>Date</th>\n",
       "    </tr>\n",
       "  </thead>\n",
       "  <tbody>\n",
       "    <tr>\n",
       "      <th>0</th>\n",
       "      <td>Women’s March on Pretoria, 1956</td>\n",
       "      <td>Regular</td>\n",
       "      <td>2022</td>\n",
       "      <td>3</td>\n",
       "      <td>South Africa</td>\n",
       "      <td>Eastern and Southern Africa</td>\n",
       "      <td>Non-western</td>\n",
       "      <td>2022</td>\n",
       "    </tr>\n",
       "    <tr>\n",
       "      <th>1</th>\n",
       "      <td>Thomas Hardy, Emma Gifford and Florence Dugdale</td>\n",
       "      <td>Regular</td>\n",
       "      <td>2022</td>\n",
       "      <td>3</td>\n",
       "      <td>NaN</td>\n",
       "      <td>NaN</td>\n",
       "      <td>NaN</td>\n",
       "      <td>2022</td>\n",
       "    </tr>\n",
       "    <tr>\n",
       "      <th>4</th>\n",
       "      <td>Giordano Bruno</td>\n",
       "      <td>Regular</td>\n",
       "      <td>2022</td>\n",
       "      <td>3</td>\n",
       "      <td>Italy</td>\n",
       "      <td>Western Europe</td>\n",
       "      <td>Western</td>\n",
       "      <td>2022</td>\n",
       "    </tr>\n",
       "    <tr>\n",
       "      <th>5</th>\n",
       "      <td>Maria Gertrudis Barceló, Santa Fe’s Gambling Q...</td>\n",
       "      <td>Regular</td>\n",
       "      <td>2022</td>\n",
       "      <td>3</td>\n",
       "      <td>Mexico</td>\n",
       "      <td>Latin America and Caribbean</td>\n",
       "      <td>Non-western</td>\n",
       "      <td>2022</td>\n",
       "    </tr>\n",
       "    <tr>\n",
       "      <th>6</th>\n",
       "      <td>Maria Gertrudis Barceló, Santa Fe’s Gambling Q...</td>\n",
       "      <td>Regular</td>\n",
       "      <td>2022</td>\n",
       "      <td>3</td>\n",
       "      <td>United States</td>\n",
       "      <td>North America</td>\n",
       "      <td>Western</td>\n",
       "      <td>2022</td>\n",
       "    </tr>\n",
       "  </tbody>\n",
       "</table>\n",
       "</div>"
      ],
      "text/plain": [
       "                                               Title     Type  Year Month  \\\n",
       "0                    Women’s March on Pretoria, 1956  Regular  2022     3   \n",
       "1    Thomas Hardy, Emma Gifford and Florence Dugdale  Regular  2022     3   \n",
       "4                                     Giordano Bruno  Regular  2022     3   \n",
       "5  Maria Gertrudis Barceló, Santa Fe’s Gambling Q...  Regular  2022     3   \n",
       "6  Maria Gertrudis Barceló, Santa Fe’s Gambling Q...  Regular  2022     3   \n",
       "\n",
       "         Country                       Region Classification  Date  \n",
       "0   South Africa  Eastern and Southern Africa    Non-western  2022  \n",
       "1            NaN                          NaN            NaN  2022  \n",
       "4          Italy               Western Europe        Western  2022  \n",
       "5         Mexico  Latin America and Caribbean    Non-western  2022  \n",
       "6  United States                North America        Western  2022  "
      ]
     },
     "execution_count": 164,
     "metadata": {},
     "output_type": "execute_result"
    }
   ],
   "source": [
    "country_regular.head()"
   ]
  },
  {
   "cell_type": "code",
   "execution_count": 165,
   "metadata": {},
   "outputs": [
    {
     "data": {
      "text/plain": [
       "Western        502\n",
       "Non-western    140\n",
       "Name: Classification, dtype: int64"
      ]
     },
     "execution_count": 165,
     "metadata": {},
     "output_type": "execute_result"
    }
   ],
   "source": [
    "country_regular['Classification'].value_counts()"
   ]
  },
  {
   "cell_type": "code",
   "execution_count": 123,
   "metadata": {},
   "outputs": [
    {
     "data": {
      "text/plain": [
       "2020    119\n",
       "2015    113\n",
       "2010    110\n",
       "2014    108\n",
       "2012    107\n",
       "2013    107\n",
       "2011    106\n",
       "2017    105\n",
       "2016    105\n",
       "2018    101\n",
       "2019    101\n",
       "2009     99\n",
       "2021     99\n",
       "2008     59\n",
       "2022     28\n",
       "Name: Year, dtype: int64"
      ]
     },
     "execution_count": 123,
     "metadata": {},
     "output_type": "execute_result"
    }
   ],
   "source": [
    "country_regular['Year'].value_counts()"
   ]
  },
  {
   "cell_type": "code",
   "execution_count": 171,
   "metadata": {},
   "outputs": [],
   "source": [
    "nw_ep = country_regular[country_regular['Classification']=='Non-western']"
   ]
  },
  {
   "cell_type": "code",
   "execution_count": 176,
   "metadata": {},
   "outputs": [
    {
     "name": "stdout",
     "output_type": "stream",
     "text": [
      "<class 'pandas.core.frame.DataFrame'>\n",
      "Int64Index: 140 entries, 0 to 1898\n",
      "Data columns (total 8 columns):\n",
      " #   Column          Non-Null Count  Dtype \n",
      "---  ------          --------------  ----- \n",
      " 0   Title           140 non-null    object\n",
      " 1   Type            140 non-null    object\n",
      " 2   Year            140 non-null    object\n",
      " 3   Month           140 non-null    object\n",
      " 4   Country         140 non-null    object\n",
      " 5   Region          140 non-null    object\n",
      " 6   Classification  140 non-null    object\n",
      " 7   Date            140 non-null    int64 \n",
      "dtypes: int64(1), object(7)\n",
      "memory usage: 9.8+ KB\n"
     ]
    }
   ],
   "source": [
    "nw_ep.info()"
   ]
  },
  {
   "cell_type": "code",
   "execution_count": 167,
   "metadata": {},
   "outputs": [],
   "source": [
    "#nw_ep = nw_ep.set_index('Date')"
   ]
  },
  {
   "cell_type": "code",
   "execution_count": 172,
   "metadata": {},
   "outputs": [
    {
     "data": {
      "text/html": [
       "<div>\n",
       "<style scoped>\n",
       "    .dataframe tbody tr th:only-of-type {\n",
       "        vertical-align: middle;\n",
       "    }\n",
       "\n",
       "    .dataframe tbody tr th {\n",
       "        vertical-align: top;\n",
       "    }\n",
       "\n",
       "    .dataframe thead th {\n",
       "        text-align: right;\n",
       "    }\n",
       "</style>\n",
       "<table border=\"1\" class=\"dataframe\">\n",
       "  <thead>\n",
       "    <tr style=\"text-align: right;\">\n",
       "      <th></th>\n",
       "      <th>Title</th>\n",
       "      <th>Type</th>\n",
       "      <th>Year</th>\n",
       "      <th>Month</th>\n",
       "      <th>Country</th>\n",
       "      <th>Region</th>\n",
       "      <th>Classification</th>\n",
       "      <th>Date</th>\n",
       "    </tr>\n",
       "  </thead>\n",
       "  <tbody>\n",
       "    <tr>\n",
       "      <th>0</th>\n",
       "      <td>Women’s March on Pretoria, 1956</td>\n",
       "      <td>Regular</td>\n",
       "      <td>2022</td>\n",
       "      <td>3</td>\n",
       "      <td>South Africa</td>\n",
       "      <td>Eastern and Southern Africa</td>\n",
       "      <td>Non-western</td>\n",
       "      <td>2022</td>\n",
       "    </tr>\n",
       "    <tr>\n",
       "      <th>5</th>\n",
       "      <td>Maria Gertrudis Barceló, Santa Fe’s Gambling Q...</td>\n",
       "      <td>Regular</td>\n",
       "      <td>2022</td>\n",
       "      <td>3</td>\n",
       "      <td>Mexico</td>\n",
       "      <td>Latin America and Caribbean</td>\n",
       "      <td>Non-western</td>\n",
       "      <td>2022</td>\n",
       "    </tr>\n",
       "    <tr>\n",
       "      <th>13</th>\n",
       "      <td>Holodomor</td>\n",
       "      <td>Regular</td>\n",
       "      <td>2022</td>\n",
       "      <td>3</td>\n",
       "      <td>Russian Federation</td>\n",
       "      <td>Eastern Europe and Central Asia</td>\n",
       "      <td>Non-western</td>\n",
       "      <td>2022</td>\n",
       "    </tr>\n",
       "    <tr>\n",
       "      <th>14</th>\n",
       "      <td>Holodomor</td>\n",
       "      <td>Regular</td>\n",
       "      <td>2022</td>\n",
       "      <td>3</td>\n",
       "      <td>Ukraine</td>\n",
       "      <td>Eastern Europe and Central Asia</td>\n",
       "      <td>Non-western</td>\n",
       "      <td>2022</td>\n",
       "    </tr>\n",
       "    <tr>\n",
       "      <th>23</th>\n",
       "      <td>The Nika Riots &amp; Massacre</td>\n",
       "      <td>Regular</td>\n",
       "      <td>2022</td>\n",
       "      <td>2</td>\n",
       "      <td>Turkey</td>\n",
       "      <td>Eastern Europe and Central Asia</td>\n",
       "      <td>Non-western</td>\n",
       "      <td>2022</td>\n",
       "    </tr>\n",
       "  </tbody>\n",
       "</table>\n",
       "</div>"
      ],
      "text/plain": [
       "                                                Title     Type  Year Month  \\\n",
       "0                     Women’s March on Pretoria, 1956  Regular  2022     3   \n",
       "5   Maria Gertrudis Barceló, Santa Fe’s Gambling Q...  Regular  2022     3   \n",
       "13                                          Holodomor  Regular  2022     3   \n",
       "14                                          Holodomor  Regular  2022     3   \n",
       "23                         The Nika Riots & Massacre   Regular  2022     2   \n",
       "\n",
       "               Country                           Region Classification  Date  \n",
       "0         South Africa      Eastern and Southern Africa    Non-western  2022  \n",
       "5               Mexico      Latin America and Caribbean    Non-western  2022  \n",
       "13  Russian Federation  Eastern Europe and Central Asia    Non-western  2022  \n",
       "14             Ukraine  Eastern Europe and Central Asia    Non-western  2022  \n",
       "23              Turkey  Eastern Europe and Central Asia    Non-western  2022  "
      ]
     },
     "execution_count": 172,
     "metadata": {},
     "output_type": "execute_result"
    }
   ],
   "source": [
    "nw_ep.head()"
   ]
  },
  {
   "cell_type": "code",
   "execution_count": 202,
   "metadata": {},
   "outputs": [],
   "source": [
    "ep_ct = nw_ep['Date'].value_counts()\n",
    "# this gives me number of non-western episodes per year"
   ]
  },
  {
   "cell_type": "code",
   "execution_count": 203,
   "metadata": {},
   "outputs": [
    {
     "data": {
      "text/plain": [
       "2010    16\n",
       "2014    14\n",
       "2013    13\n",
       "2020    11\n",
       "2015    11\n",
       "2011    11\n",
       "2008    10\n",
       "2012     9\n",
       "2019     8\n",
       "2009     8\n",
       "2018     7\n",
       "2016     7\n",
       "2022     6\n",
       "2017     5\n",
       "2021     4\n",
       "Name: Date, dtype: int64"
      ]
     },
     "execution_count": 203,
     "metadata": {},
     "output_type": "execute_result"
    }
   ],
   "source": [
    "ep_ct"
   ]
  },
  {
   "cell_type": "code",
   "execution_count": 222,
   "metadata": {},
   "outputs": [],
   "source": [
    "nw_episode_ct = pd.DataFrame(ep_ct)"
   ]
  },
  {
   "cell_type": "code",
   "execution_count": 223,
   "metadata": {},
   "outputs": [],
   "source": [
    "nw_episode_ct = nw_episode_ct.sort_index()"
   ]
  },
  {
   "cell_type": "code",
   "execution_count": 220,
   "metadata": {},
   "outputs": [
    {
     "data": {
      "text/html": [
       "<div>\n",
       "<style scoped>\n",
       "    .dataframe tbody tr th:only-of-type {\n",
       "        vertical-align: middle;\n",
       "    }\n",
       "\n",
       "    .dataframe tbody tr th {\n",
       "        vertical-align: top;\n",
       "    }\n",
       "\n",
       "    .dataframe thead th {\n",
       "        text-align: right;\n",
       "    }\n",
       "</style>\n",
       "<table border=\"1\" class=\"dataframe\">\n",
       "  <thead>\n",
       "    <tr style=\"text-align: right;\">\n",
       "      <th></th>\n",
       "      <th>index</th>\n",
       "      <th>Date</th>\n",
       "    </tr>\n",
       "  </thead>\n",
       "  <tbody>\n",
       "    <tr>\n",
       "      <th>0</th>\n",
       "      <td>2008</td>\n",
       "      <td>10</td>\n",
       "    </tr>\n",
       "    <tr>\n",
       "      <th>1</th>\n",
       "      <td>2009</td>\n",
       "      <td>8</td>\n",
       "    </tr>\n",
       "    <tr>\n",
       "      <th>2</th>\n",
       "      <td>2010</td>\n",
       "      <td>16</td>\n",
       "    </tr>\n",
       "    <tr>\n",
       "      <th>3</th>\n",
       "      <td>2011</td>\n",
       "      <td>11</td>\n",
       "    </tr>\n",
       "    <tr>\n",
       "      <th>4</th>\n",
       "      <td>2012</td>\n",
       "      <td>9</td>\n",
       "    </tr>\n",
       "    <tr>\n",
       "      <th>5</th>\n",
       "      <td>2013</td>\n",
       "      <td>13</td>\n",
       "    </tr>\n",
       "    <tr>\n",
       "      <th>6</th>\n",
       "      <td>2014</td>\n",
       "      <td>14</td>\n",
       "    </tr>\n",
       "    <tr>\n",
       "      <th>7</th>\n",
       "      <td>2015</td>\n",
       "      <td>11</td>\n",
       "    </tr>\n",
       "    <tr>\n",
       "      <th>8</th>\n",
       "      <td>2016</td>\n",
       "      <td>7</td>\n",
       "    </tr>\n",
       "    <tr>\n",
       "      <th>9</th>\n",
       "      <td>2017</td>\n",
       "      <td>5</td>\n",
       "    </tr>\n",
       "    <tr>\n",
       "      <th>10</th>\n",
       "      <td>2018</td>\n",
       "      <td>7</td>\n",
       "    </tr>\n",
       "    <tr>\n",
       "      <th>11</th>\n",
       "      <td>2019</td>\n",
       "      <td>8</td>\n",
       "    </tr>\n",
       "    <tr>\n",
       "      <th>12</th>\n",
       "      <td>2020</td>\n",
       "      <td>11</td>\n",
       "    </tr>\n",
       "    <tr>\n",
       "      <th>13</th>\n",
       "      <td>2021</td>\n",
       "      <td>4</td>\n",
       "    </tr>\n",
       "    <tr>\n",
       "      <th>14</th>\n",
       "      <td>2022</td>\n",
       "      <td>6</td>\n",
       "    </tr>\n",
       "  </tbody>\n",
       "</table>\n",
       "</div>"
      ],
      "text/plain": [
       "    index  Date\n",
       "0    2008    10\n",
       "1    2009     8\n",
       "2    2010    16\n",
       "3    2011    11\n",
       "4    2012     9\n",
       "5    2013    13\n",
       "6    2014    14\n",
       "7    2015    11\n",
       "8    2016     7\n",
       "9    2017     5\n",
       "10   2018     7\n",
       "11   2019     8\n",
       "12   2020    11\n",
       "13   2021     4\n",
       "14   2022     6"
      ]
     },
     "execution_count": 220,
     "metadata": {},
     "output_type": "execute_result"
    }
   ],
   "source": []
  },
  {
   "cell_type": "code",
   "execution_count": 238,
   "metadata": {},
   "outputs": [
    {
     "data": {
      "text/html": [
       "<div>\n",
       "<style scoped>\n",
       "    .dataframe tbody tr th:only-of-type {\n",
       "        vertical-align: middle;\n",
       "    }\n",
       "\n",
       "    .dataframe tbody tr th {\n",
       "        vertical-align: top;\n",
       "    }\n",
       "\n",
       "    .dataframe thead th {\n",
       "        text-align: right;\n",
       "    }\n",
       "</style>\n",
       "<table border=\"1\" class=\"dataframe\">\n",
       "  <thead>\n",
       "    <tr style=\"text-align: right;\">\n",
       "      <th></th>\n",
       "      <th>Episode_Count</th>\n",
       "    </tr>\n",
       "  </thead>\n",
       "  <tbody>\n",
       "    <tr>\n",
       "      <th>2008</th>\n",
       "      <td>10</td>\n",
       "    </tr>\n",
       "    <tr>\n",
       "      <th>2009</th>\n",
       "      <td>8</td>\n",
       "    </tr>\n",
       "    <tr>\n",
       "      <th>2010</th>\n",
       "      <td>16</td>\n",
       "    </tr>\n",
       "    <tr>\n",
       "      <th>2011</th>\n",
       "      <td>11</td>\n",
       "    </tr>\n",
       "    <tr>\n",
       "      <th>2012</th>\n",
       "      <td>9</td>\n",
       "    </tr>\n",
       "    <tr>\n",
       "      <th>2013</th>\n",
       "      <td>13</td>\n",
       "    </tr>\n",
       "    <tr>\n",
       "      <th>2014</th>\n",
       "      <td>14</td>\n",
       "    </tr>\n",
       "    <tr>\n",
       "      <th>2015</th>\n",
       "      <td>11</td>\n",
       "    </tr>\n",
       "    <tr>\n",
       "      <th>2016</th>\n",
       "      <td>7</td>\n",
       "    </tr>\n",
       "    <tr>\n",
       "      <th>2017</th>\n",
       "      <td>5</td>\n",
       "    </tr>\n",
       "    <tr>\n",
       "      <th>2018</th>\n",
       "      <td>7</td>\n",
       "    </tr>\n",
       "    <tr>\n",
       "      <th>2019</th>\n",
       "      <td>8</td>\n",
       "    </tr>\n",
       "    <tr>\n",
       "      <th>2020</th>\n",
       "      <td>11</td>\n",
       "    </tr>\n",
       "    <tr>\n",
       "      <th>2021</th>\n",
       "      <td>4</td>\n",
       "    </tr>\n",
       "    <tr>\n",
       "      <th>2022</th>\n",
       "      <td>6</td>\n",
       "    </tr>\n",
       "  </tbody>\n",
       "</table>\n",
       "</div>"
      ],
      "text/plain": [
       "      Episode_Count\n",
       "2008             10\n",
       "2009              8\n",
       "2010             16\n",
       "2011             11\n",
       "2012              9\n",
       "2013             13\n",
       "2014             14\n",
       "2015             11\n",
       "2016              7\n",
       "2017              5\n",
       "2018              7\n",
       "2019              8\n",
       "2020             11\n",
       "2021              4\n",
       "2022              6"
      ]
     },
     "execution_count": 238,
     "metadata": {},
     "output_type": "execute_result"
    }
   ],
   "source": [
    "nw_episode_ct.rename(columns = {\"index\": \"Year\", \"Date\": \"Episode_Count\"})"
   ]
  },
  {
   "cell_type": "code",
   "execution_count": null,
   "metadata": {},
   "outputs": [],
   "source": []
  },
  {
   "cell_type": "code",
   "execution_count": null,
   "metadata": {},
   "outputs": [],
   "source": []
  },
  {
   "cell_type": "code",
   "execution_count": null,
   "metadata": {},
   "outputs": [],
   "source": []
  },
  {
   "cell_type": "code",
   "execution_count": 277,
   "metadata": {},
   "outputs": [],
   "source": [
    "class_df = country_regular.groupby(by=['Year','Classification']).count()['Title']"
   ]
  },
  {
   "cell_type": "code",
   "execution_count": 273,
   "metadata": {},
   "outputs": [],
   "source": []
  },
  {
   "cell_type": "code",
   "execution_count": 274,
   "metadata": {},
   "outputs": [],
   "source": [
    "class_df['Classification'] = class_df['Classification'].astype('category')"
   ]
  },
  {
   "cell_type": "code",
   "execution_count": 280,
   "metadata": {},
   "outputs": [],
   "source": [
    "df_stacked = pd.DataFrame(class_df)"
   ]
  },
  {
   "cell_type": "code",
   "execution_count": 276,
   "metadata": {},
   "outputs": [
    {
     "data": {
      "text/plain": [
       "<AxesSubplot:xlabel='Year'>"
      ]
     },
     "execution_count": 276,
     "metadata": {},
     "output_type": "execute_result"
    },
    {
     "data": {
      "text/plain": [
       "<Figure size 1008x1008 with 0 Axes>"
      ]
     },
     "metadata": {},
     "output_type": "display_data"
    },
    {
     "data": {
      "image/png": "[encoded data removed]",
      "text/plain": [
       "<Figure size 432x288 with 1 Axes>"
      ]
     },
     "metadata": {},
     "output_type": "display_data"
    }
   ],
   "source": [
    "plt.figure(figsize=(14,14))\n",
    "sns.set(style = 'white')\n",
    "\n",
    "class_df.set_index('Year').plot(kind='bar',stacked=True, color=['red','skyblue'])\n"
   ]
  },
  {
   "cell_type": "code",
   "execution_count": 283,
   "metadata": {},
   "outputs": [],
   "source": [
    "df_stacked.to_excel('stackedbar.xlsx')"
   ]
  },
  {
   "cell_type": "code",
   "execution_count": 282,
   "metadata": {},
   "outputs": [
    {
     "data": {
      "text/plain": [
       "<AxesSubplot:xlabel='Year,Classification'>"
      ]
     },
     "execution_count": 282,
     "metadata": {},
     "output_type": "execute_result"
    },
    {
     "data": {
      "image/png": "[encoded data removed]",
      "text/plain": [
       "<Figure size 432x288 with 1 Axes>"
      ]
     },
     "metadata": {},
     "output_type": "display_data"
    }
   ],
   "source": [
    "df_stacked.plot(kind='bar',stacked=True, color=['red','blue'])\n",
    "\n",
    "western = \n",
    "\n"
   ]
  },
  {
   "cell_type": "markdown",
   "metadata": {},
   "source": [
    "# Number of Non-western Episodes each Year over the Years "
   ]
  },
  {
   "cell_type": "code",
   "execution_count": 242,
   "metadata": {},
   "outputs": [
    {
     "data": {
      "image/png": "[encoded data removed]",
      "text/plain": [
       "<Figure size 720x576 with 1 Axes>"
      ]
     },
     "metadata": {
      "needs_background": "light"
     },
     "output_type": "display_data"
    }
   ],
   "source": [
    "f,ax=plt.subplots(figsize=(10,8))\n",
    "plt.plot(nw_episode_ct, marker = 'o')\n",
    "\n",
    "'''\n",
    "X = nw_episode_ct\n",
    "z = np.polyfit(X, nw_episode_ct['Episode_Count'], 1) \n",
    "p = np.poly1d(z)\n",
    "ax.plot(X,p(X),\"r--\")\n",
    "ax.plot(X, nw_episode_ct['Episode_Count'])\n",
    "'''\n",
    "\n",
    "plt.xlabel(\"Years\", fontsize=14)\n",
    "plt.ylabel(\"Number of  Non-western Episodes\", fontsize=14)\n",
    "plt.title(\"Number of Non-western Episodes over the Years\", fontsize=14)\n",
    "\n",
    "plt.show()\n",
    "\n"
   ]
  },
  {
   "cell_type": "code",
   "execution_count": 211,
   "metadata": {},
   "outputs": [],
   "source": [
    "nw_episode_ct.to_excel('non-western_count.xlsx')"
   ]
  },
  {
   "cell_type": "code",
   "execution_count": null,
   "metadata": {},
   "outputs": [],
   "source": []
  }
 ],
 "metadata": {
  "kernelspec": {
   "display_name": "Python 3",
   "language": "python",
   "name": "python3"
  },
  "language_info": {
   "codemirror_mode": {
    "name": "ipython",
    "version": 3
   },
   "file_extension": ".py",
   "mimetype": "text/x-python",
   "name": "python",
   "nbconvert_exporter": "python",
   "pygments_lexer": "ipython3",
   "version": "3.8.5"
  }
 },
 "nbformat": 4,
 "nbformat_minor": 4
}
