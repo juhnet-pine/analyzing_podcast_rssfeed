{
 "cells": [
  {
   "cell_type": "markdown",
   "metadata": {},
   "source": [
    "# Function for changing duration of each podcast in seconds to minutes"
   ]
  },
  {
   "cell_type": "code",
   "execution_count": 2,
   "metadata": {},
   "outputs": [],
   "source": [
    "duration_temp = [{'title':'SYMHC Classics:The Tussaud Test of Popularity','duration':'1691'} ,  \n",
    "                 {'title':'Julio Tello, Peru’s Archaeological Trail Blazer', 'duration': '2677'},\n",
    "                 {'title':'Grand Central Terminal', 'duration':'2147'},\n",
    "                 {'title':'Behind the Scenes Minis: Crowley and Cagliostro', 'duration':'1160'},\n",
    "                 {'title':'Behind the Scenes Minis: Tod Browning', 'duration': '596'},\n",
    "                 {'title':'Unearthed! Year-end 2020, Part 2','duration':'2515'}]\n",
    "#duration is represented in seconds. "
   ]
  },
  {
   "cell_type": "code",
   "execution_count": 3,
   "metadata": {},
   "outputs": [],
   "source": [
    "# Create a function \n",
    "def calculate_duration(time_string):\n",
    "    \n",
    "    # Convert seconds to interger and divide by 60 to get minutes. \n",
    "    time = (int(time_string))/60\n",
    "    \n",
    "    # Round the results to the nearest minute. \n",
    "    return int(round(time, 0))"
   ]
  },
  {
   "cell_type": "code",
   "execution_count": 4,
   "metadata": {},
   "outputs": [
    {
     "name": "stdout",
     "output_type": "stream",
     "text": [
      "28\n",
      "45\n",
      "36\n",
      "19\n",
      "10\n",
      "42\n"
     ]
    }
   ],
   "source": [
    "for ep in duration_temp:\n",
    "    print(calculate_duration(ep['duration']))\n",
    "    #calling the function here \n",
    "    #going through the dictionary "
   ]
  },
  {
   "cell_type": "code",
   "execution_count": null,
   "metadata": {},
   "outputs": [],
   "source": []
  }
 ],
 "metadata": {
  "kernelspec": {
   "display_name": "Python 3",
   "language": "python",
   "name": "python3"
  },
  "language_info": {
   "codemirror_mode": {
    "name": "ipython",
    "version": 3
   },
   "file_extension": ".py",
   "mimetype": "text/x-python",
   "name": "python",
   "nbconvert_exporter": "python",
   "pygments_lexer": "ipython3",
   "version": "3.8.5"
  }
 },
 "nbformat": 4,
 "nbformat_minor": 4
}
