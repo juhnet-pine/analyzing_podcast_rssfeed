{
 "cells": [
  {
   "cell_type": "markdown",
   "metadata": {},
   "source": [
    "# Scraping RSS feed for podcast Stuff You Missed in History Class"
   ]
  },
  {
   "cell_type": "code",
   "execution_count": 36,
   "metadata": {},
   "outputs": [],
   "source": [
    "import requests\n",
    "from bs4 import BeautifulSoup "
   ]
  },
  {
   "cell_type": "code",
   "execution_count": 37,
   "metadata": {},
   "outputs": [],
   "source": [
    "url = \"https://feeds.megaphone.fm/stuffyoumissedinhistoryclass\""
   ]
  },
  {
   "cell_type": "code",
   "execution_count": 38,
   "metadata": {},
   "outputs": [],
   "source": [
    "r = requests.get(url)\n",
    "soup = BeautifulSoup(r.content, features='xml')"
   ]
  },
  {
   "cell_type": "code",
   "execution_count": 39,
   "metadata": {},
   "outputs": [],
   "source": [
    "episodes = soup.findAll('item') "
   ]
  },
  {
   "cell_type": "code",
   "execution_count": 40,
   "metadata": {
    "collapsed": true,
    "jupyter": {
     "outputs_hidden": true
    }
   },
   "outputs": [
    {
     "data": {
      "text/plain": [
       "<item>\n",
       "<title>Behind the Scenes Minis: William Apess</title>\n",
       "<itunes:title>Behind the Scenes Minis: William Apess</itunes:title>\n",
       "<description>Tracy and Holly talk about Tracy’s research process for the William Apess episodes, and how much of his writing she wanted to include in the episode. And that’s because his work is still deeply relevant.\n",
       "\n",
       "See omnystudio.com/listener for privacy information.</description>\n",
       "<content:encoded>&lt;p&gt;Tracy and Holly talk about Tracy&amp;rsquo;s research process for the William Apess episodes, and how much of his writing she wanted to include in the episode. And that&amp;rsquo;s because his work is still deeply relevant.&lt;/p&gt;&lt;p&gt;See &lt;a href=\"https://omnystudio.com/listener\"&gt;omnystudio.com/listener&lt;/a&gt; for privacy information.&lt;/p&gt;</content:encoded>\n",
       "<itunes:summary>Tracy and Holly talk about Tracy’s research process for the William Apess episodes, and how much of his writing she wanted to include in the episode. And that’s because his work is still deeply relevant.\n",
       "\n",
       "See omnystudio.com/listener for privacy information.</itunes:summary>\n",
       "<category>behind the scenes minis</category>\n",
       "<itunes:keywords>behind the scenes minis</itunes:keywords>\n",
       "<itunes:episodeType>full</itunes:episodeType>\n",
       "<itunes:author>iHeartPodcasts</itunes:author>\n",
       "<itunes:image href=\"https://www.omnycontent.com/d/playlist/e73c998e-6e60-432f-8610-ae210140c5b1/cfb428ef-eafc-44d0-9d09-ae2701747e6f/fb626e1f-112c-4246-a40d-ae2701747e7d/image.jpg?t=1643063778&amp;size=Large\"/>\n",
       "<media:content type=\"audio/mpeg\" url=\"https://chtbl.com/track/5899E/podtrac.com/pts/redirect.mp3/traffic.omny.fm/d/clips/e73c998e-6e60-432f-8610-ae210140c5b1/cfb428ef-eafc-44d0-9d09-ae2701747e6f/775e471d-4525-4059-8c0f-ae4d010b77bb/audio.mp3?utm_source=Podcast&amp;in_playlist=fb626e1f-112c-4246-a40d-ae2701747e7d\">\n",
       "<media:player url=\"https://omny.fm/shows/stuff-you-missed-in-history-class/behind-the-scenes-minis-william-apess/embed\"/>\n",
       "</media:content>\n",
       "<media:content type=\"image/jpeg\" url=\"https://www.omnycontent.com/d/playlist/e73c998e-6e60-432f-8610-ae210140c5b1/cfb428ef-eafc-44d0-9d09-ae2701747e6f/fb626e1f-112c-4246-a40d-ae2701747e7d/image.jpg?t=1643063778&amp;size=Large\"/>\n",
       "<guid isPermaLink=\"false\">775e471d-4525-4059-8c0f-ae4d010b77bb</guid>\n",
       "<omny:clipId>775e471d-4525-4059-8c0f-ae4d010b77bb</omny:clipId>\n",
       "<pubDate>Fri, 04 Mar 2022 14:00:00 +0000</pubDate>\n",
       "<itunes:duration>508</itunes:duration>\n",
       "<enclosure length=\"8161448\" type=\"audio/mpeg\" url=\"https://chtbl.com/track/5899E/podtrac.com/pts/redirect.mp3/traffic.omny.fm/d/clips/e73c998e-6e60-432f-8610-ae210140c5b1/cfb428ef-eafc-44d0-9d09-ae2701747e6f/775e471d-4525-4059-8c0f-ae4d010b77bb/audio.mp3?utm_source=Podcast&amp;in_playlist=fb626e1f-112c-4246-a40d-ae2701747e7d\"/>\n",
       "<link>https://omny.fm/shows/stuff-you-missed-in-history-class/behind-the-scenes-minis-william-apess</link>\n",
       "</item>"
      ]
     },
     "execution_count": 40,
     "metadata": {},
     "output_type": "execute_result"
    }
   ],
   "source": [
    "episodes[0]"
   ]
  },
  {
   "cell_type": "code",
   "execution_count": 6,
   "metadata": {},
   "outputs": [
    {
     "data": {
      "text/plain": [
       "1818"
      ]
     },
     "execution_count": 6,
     "metadata": {},
     "output_type": "execute_result"
    }
   ],
   "source": [
    "len(episodes)"
   ]
  },
  {
   "cell_type": "markdown",
   "metadata": {},
   "source": [
    "# Cleaning the Data \n",
    "1. This is the function for labeling each episode as Classic (repeat), Behind the Scenes, Interviews, Unearthed or Regular episodes\n",
    "2. Using the concept of base case to write the for loop in the function "
   ]
  },
  {
   "cell_type": "code",
   "execution_count": 51,
   "metadata": {},
   "outputs": [],
   "source": [
    "search_classics = 'SYMHC Classics:'\n",
    "search_interviews = 'Interview'\n",
    "search_bts = 'Behind the Scenes Minis:'\n",
    "search_unearthed = 'Unearthed!'\n",
    "\n",
    "\n",
    "special_types = [search_classics, search_interviews, search_bts, search_unearthed]\n",
    "\n",
    "#This is code to set the defaut to \"Regular\" \n",
    "#Anything that is not regular will be sorted into one of the \"special_types\" categories\n",
    "#This is an example of using base case\n",
    "\n",
    "def get_special_type(title, types):\n",
    "  special_type = \"Regular\" \n",
    "  for t in types:\n",
    "    if title.startswith(t):\n",
    "      special_type = t\n",
    "    return special_type \n"
   ]
  },
  {
   "cell_type": "markdown",
   "metadata": {},
   "source": [
    "# Looping through each episode and cleaning it.\n",
    "1. Remove information from descriptions that is impertinent\n",
    "2. Putting all the episode details into a list and it's a list of dictionaries "
   ]
  },
  {
   "cell_type": "code",
   "execution_count": 52,
   "metadata": {},
   "outputs": [],
   "source": [
    "podcast_episodes = []\n",
    "\n",
    "for episode in episodes:\n",
    "    podcast_episode = {}\n",
    "    podcast_episode['title'] = episode.title.text \n",
    "    podcast_episode['description'] = episode.description.text\n",
    "    podcast_episode['description_clean'] = episode.description.text.strip('\\n').replace(\"Learn more about your ad-choices at https://www.iheartpodcastnetwork.com\",\"\").replace(\"See omnystudio.com/listener for privacy information.\",\"\").strip()\n",
    "    podcast_episode['pubDate'] = episode.pubDate.text\n",
    "    podcast_episode['duration'] = episode.duration.text\n",
    "    podcast_episode['type'] = get_special_type(podcast_episode['title'],special_types)\n",
    "    #creating a list of types of episodes appended to the greater list. \n",
    "        \n",
    "    podcast_episodes.append(podcast_episode)\n",
    "    \n",
    "#how to get rid of extra parts of the description? \n",
    "#how to scrape parts of the date away? \n",
    "#split() text on certain deliminators. Use pop() to get rid of last item. \n",
    "#find index position of substring, slice description from the beginning --. \n",
    "#find the first instance of \"learn more about...\n",
    "#replace() put the string in there. ,empty string. \n",
    "\n",
    "#for for the \\xa0\\n and split there. Do it in a for loop. \n",
    "#if any of them have don't have \"learn more about...\", print it outthen explore more\n"
   ]
  },
  {
   "cell_type": "code",
   "execution_count": 53,
   "metadata": {
    "collapsed": true,
    "jupyter": {
     "outputs_hidden": true
    }
   },
   "outputs": [
    {
     "data": {
      "text/plain": [
       "[{'title': 'Behind the Scenes Minis: William Apess',\n",
       "  'description': 'Tracy and Holly talk about Tracy’s research process for the William Apess episodes, and how much of his writing she wanted to include in the episode. And that’s because his work is still deeply relevant.\\n\\nSee omnystudio.com/listener for privacy information.',\n",
       "  'description_clean': 'Tracy and Holly talk about Tracy’s research process for the William Apess episodes, and how much of his writing she wanted to include in the episode. And that’s because his work is still deeply relevant.',\n",
       "  'pubDate': 'Fri, 04 Mar 2022 14:00:00 +0000',\n",
       "  'duration': '508',\n",
       "  'type': 'Regular'},\n",
       " {'title': 'William Apess and the Mashpee Revolt (Pt. 2)',\n",
       "  'description': 'Apess’s religious work and writing consistently stressed the inherent humanity and worth of Indigenous people, but in the later years of his career he also became involved in more direct activism in Mashpee, Massachusetts.\\n\\nSee omnystudio.com/listener for privacy information.',\n",
       "  'description_clean': 'Apess’s religious work and writing consistently stressed the inherent humanity and worth of Indigenous people, but in the later years of his career he also became involved in more direct activism in Mashpee, Massachusetts.',\n",
       "  'pubDate': 'Wed, 02 Mar 2022 17:35:00 +0000',\n",
       "  'duration': '2172',\n",
       "  'type': 'Regular'},\n",
       " {'title': 'The Autobiography of William Apess (Pt. 1)',\n",
       "  'description': 'Minister William Apess is often described as the first Native American to publish their own, book-length autobiography. But that is a reductive way to describe a man who wrote a great deal more than that, and also became an advocate for Indigenous people.\\xa0\\n\\n Learn more about your ad-choices at https://www.iheartpodcastnetwork.com\\n\\nSee omnystudio.com/listener for privacy information.',\n",
       "  'description_clean': 'Minister William Apess is often described as the first Native American to publish their own, book-length autobiography. But that is a reductive way to describe a man who wrote a great deal more than that, and also became an advocate for Indigenous people.',\n",
       "  'pubDate': 'Mon, 28 Feb 2022 11:00:00 +0000',\n",
       "  'duration': '1954',\n",
       "  'type': 'Regular'},\n",
       " {'title': 'Cyrano the Movie',\n",
       "  'description': 'Holly and Tracy share interviews with some of the cast and crew behind the new film \"Cyrano\" to talk about their thoughts on history and historical spaces, as well as why the Rostand play has such an enduring appeal.\\n\\n Learn more about your ad-choices at https://www.iheartpodcastnetwork.com\\n\\nSee omnystudio.com/listener for privacy information.',\n",
       "  'description_clean': 'Holly and Tracy share interviews with some of the cast and crew behind the new film \"Cyrano\" to talk about their thoughts on history and historical spaces, as well as why the Rostand play has such an enduring appeal.',\n",
       "  'pubDate': 'Sun, 27 Feb 2022 14:00:00 +0000',\n",
       "  'duration': '1234',\n",
       "  'type': 'Regular'},\n",
       " {'title': 'Introducing: Big Brother ',\n",
       "  'description': \"Hi, Stuff You Missed In History Class fans! The newest iHeart Original podcast, Big Brother: North Korea’s Forgotten Prince! It dives into the plot to assassinate the current dictator’s older brother and is hosted by actor Eden Lee. A shocking thriller and mystery that will keep you guessing but don't just take our word for it. Check out the trailer to decide for yourself!\\n\\n\\n\\n\\nAbout Big Brother: North Korea went to extreme lengths to eliminate Kim Jong Un’s older brother, culminating in the most audacious political assassination of the 21st century.\\n\\n\\n\\nListen and subscribe to Big Brother on the iHeartRadio app or wherever you get your podcasts!\\n\\n Learn more about your ad-choices at https://www.iheartpodcastnetwork.com\\n\\nSee omnystudio.com/listener for privacy information.\",\n",
       "  'description_clean': \"Hi, Stuff You Missed In History Class fans! The newest iHeart Original podcast, Big Brother: North Korea’s Forgotten Prince! It dives into the plot to assassinate the current dictator’s older brother and is hosted by actor Eden Lee. A shocking thriller and mystery that will keep you guessing but don't just take our word for it. Check out the trailer to decide for yourself!\\n\\n\\n\\n\\nAbout Big Brother: North Korea went to extreme lengths to eliminate Kim Jong Un’s older brother, culminating in the most audacious political assassination of the 21st century.\\n\\n\\n\\nListen and subscribe to Big Brother on the iHeartRadio app or wherever you get your podcasts!\",\n",
       "  'pubDate': 'Sun, 27 Feb 2022 09:00:00 +0000',\n",
       "  'duration': '173',\n",
       "  'type': 'Regular'},\n",
       " {'title': 'SYMHC Classics: Edmonia Lewis',\n",
       "  'description': 'This 2017 episode covers an American sculptor who was a celebrated artist in her day, but receded from the spotlight; her final years remained a mystery for quite some time. Her marble works are striking examples of the neoclassical style popular at the end of the 19th century.\\n\\n Learn more about your ad-choices at https://www.iheartpodcastnetwork.com\\n\\nSee omnystudio.com/listener for privacy information.',\n",
       "  'description_clean': 'This 2017 episode covers an American sculptor who was a celebrated artist in her day, but receded from the spotlight; her final years remained a mystery for quite some time. Her marble works are striking examples of the neoclassical style popular at the end of the 19th century.',\n",
       "  'pubDate': 'Sat, 26 Feb 2022 14:00:00 +0000',\n",
       "  'duration': '1703',\n",
       "  'type': 'SYMHC Classics:'},\n",
       " {'title': 'Behind the Scenes Minis: Egerton and Nika',\n",
       "  'description': \"Holly and Tracy talk about some of stories of Egerton that didn't make it into the episode. Then discussion of the Nika Riots touches on modern sports riots, and the writings of Procopius, \\n\\n Learn more about your ad-choices at https://www.iheartpodcastnetwork.com\\n\\nSee omnystudio.com/listener for privacy information.\",\n",
       "  'description_clean': \"Holly and Tracy talk about some of stories of Egerton that didn't make it into the episode. Then discussion of the Nika Riots touches on modern sports riots, and the writings of Procopius,\",\n",
       "  'pubDate': 'Fri, 25 Feb 2022 14:00:00 +0000',\n",
       "  'duration': '850',\n",
       "  'type': 'Regular'},\n",
       " {'title': 'The Nika Riots & Massacre ',\n",
       "  'description': 'Large-scale rioting and mass violence were fairly common in Constantinople when this riot – and then massacre – took place in the year 532. But we have more documentation of the Nika Riots than many of the others.\\n\\n Learn more about your ad-choices at https://www.iheartpodcastnetwork.com\\n\\nSee omnystudio.com/listener for privacy information.',\n",
       "  'description_clean': 'Large-scale rioting and mass violence were fairly common in Constantinople when this riot – and then massacre – took place in the year 532. But we have more documentation of the Nika Riots than many of the others.',\n",
       "  'pubDate': 'Wed, 23 Feb 2022 14:00:00 +0000',\n",
       "  'duration': '2003',\n",
       "  'type': 'Regular'},\n",
       " {'title': 'The Eccentric Francis Henry Egerton',\n",
       "  'description': 'The 8th Earl of Bridgewater’s life is a hodgepodge of privileged eccentricity. From deeply spoiled pets to shoes used as a diary to a whole lot of writing about his relatives, it seems that Egerton was always guided by whim.\\xa0\\n\\n Learn more about your ad-choices at https://www.iheartpodcastnetwork.com\\n\\nSee omnystudio.com/listener for privacy information.',\n",
       "  'description_clean': 'The 8th Earl of Bridgewater’s life is a hodgepodge of privileged eccentricity. From deeply spoiled pets to shoes used as a diary to a whole lot of writing about his relatives, it seems that Egerton was always guided by whim.',\n",
       "  'pubDate': 'Mon, 21 Feb 2022 14:00:00 +0000',\n",
       "  'duration': '2172',\n",
       "  'type': 'Regular'},\n",
       " {'title': 'SYMHC Classics: The Bisbee Deportation',\n",
       "  'description': 'This classic episode from 2018 covers a 1917 event with elements of a labor strike, a wartime hysteria, a vigilante mob, and a mass propaganda effort, all rolled into one. It took place in Bisbee, Arizona, southeast of Tucson and close to the U.S. border with Mexico.\\n\\n Learn more about your ad-choices at https://www.iheartpodcastnetwork.com\\n\\nSee omnystudio.com/listener for privacy information.',\n",
       "  'description_clean': 'This classic episode from 2018 covers a 1917 event with elements of a labor strike, a wartime hysteria, a vigilante mob, and a mass propaganda effort, all rolled into one. It took place in Bisbee, Arizona, southeast of Tucson and close to the U.S. border with Mexico.',\n",
       "  'pubDate': 'Sat, 19 Feb 2022 14:00:00 +0000',\n",
       "  'duration': '2160',\n",
       "  'type': 'SYMHC Classics:'}]"
      ]
     },
     "execution_count": 53,
     "metadata": {},
     "output_type": "execute_result"
    }
   ],
   "source": [
    "podcast_episodes[:10]"
   ]
  },
  {
   "cell_type": "markdown",
   "metadata": {},
   "source": [
    "# Export data to json file "
   ]
  },
  {
   "cell_type": "code",
   "execution_count": 30,
   "metadata": {},
   "outputs": [],
   "source": [
    "import json\n",
    "\n",
    "with open(\"rssdump.json\", 'w') as outfile:\n",
    "    json.dump(podcast_episodes, outfile, indent=4)\n",
    "    #indent adds white space to make it easier to read "
   ]
  },
  {
   "cell_type": "code",
   "execution_count": 34,
   "metadata": {},
   "outputs": [],
   "source": [
    "import pandas as pd\n",
    "df = pd.DataFrame(podcast_episodes, columns=['title','description_clean','pubDate','duration','type'])"
   ]
  },
  {
   "cell_type": "code",
   "execution_count": 35,
   "metadata": {},
   "outputs": [
    {
     "data": {
      "text/html": [
       "<div>\n",
       "<style scoped>\n",
       "    .dataframe tbody tr th:only-of-type {\n",
       "        vertical-align: middle;\n",
       "    }\n",
       "\n",
       "    .dataframe tbody tr th {\n",
       "        vertical-align: top;\n",
       "    }\n",
       "\n",
       "    .dataframe thead th {\n",
       "        text-align: right;\n",
       "    }\n",
       "</style>\n",
       "<table border=\"1\" class=\"dataframe\">\n",
       "  <thead>\n",
       "    <tr style=\"text-align: right;\">\n",
       "      <th></th>\n",
       "      <th>title</th>\n",
       "      <th>description_clean</th>\n",
       "      <th>pubDate</th>\n",
       "      <th>duration</th>\n",
       "      <th>type</th>\n",
       "    </tr>\n",
       "  </thead>\n",
       "  <tbody>\n",
       "    <tr>\n",
       "      <th>0</th>\n",
       "      <td>William Apess and the Mashpee Revolt (Pt. 2)</td>\n",
       "      <td>Apess’s religious work and writing consistentl...</td>\n",
       "      <td>Wed, 02 Mar 2022 17:35:00 +0000</td>\n",
       "      <td>2172</td>\n",
       "      <td>Regular</td>\n",
       "    </tr>\n",
       "    <tr>\n",
       "      <th>1</th>\n",
       "      <td>The Autobiography of William Apess (Pt. 1)</td>\n",
       "      <td>Minister William Apess is often described as t...</td>\n",
       "      <td>Mon, 28 Feb 2022 11:00:00 +0000</td>\n",
       "      <td>1954</td>\n",
       "      <td>Regular</td>\n",
       "    </tr>\n",
       "    <tr>\n",
       "      <th>2</th>\n",
       "      <td>Cyrano the Movie</td>\n",
       "      <td>Holly and Tracy share interviews with some of ...</td>\n",
       "      <td>Sun, 27 Feb 2022 14:00:00 +0000</td>\n",
       "      <td>1234</td>\n",
       "      <td>Regular</td>\n",
       "    </tr>\n",
       "    <tr>\n",
       "      <th>3</th>\n",
       "      <td>Introducing: Big Brother</td>\n",
       "      <td>Hi, Stuff You Missed In History Class fans! Th...</td>\n",
       "      <td>Sun, 27 Feb 2022 09:00:00 +0000</td>\n",
       "      <td>173</td>\n",
       "      <td>Regular</td>\n",
       "    </tr>\n",
       "    <tr>\n",
       "      <th>4</th>\n",
       "      <td>SYMHC Classics: Edmonia Lewis</td>\n",
       "      <td>This 2017 episode covers an American sculptor ...</td>\n",
       "      <td>Sat, 26 Feb 2022 14:00:00 +0000</td>\n",
       "      <td>1703</td>\n",
       "      <td>SYMHC Classics:</td>\n",
       "    </tr>\n",
       "  </tbody>\n",
       "</table>\n",
       "</div>"
      ],
      "text/plain": [
       "                                          title  \\\n",
       "0  William Apess and the Mashpee Revolt (Pt. 2)   \n",
       "1    The Autobiography of William Apess (Pt. 1)   \n",
       "2                              Cyrano the Movie   \n",
       "3                     Introducing: Big Brother    \n",
       "4                 SYMHC Classics: Edmonia Lewis   \n",
       "\n",
       "                                   description_clean  \\\n",
       "0  Apess’s religious work and writing consistentl...   \n",
       "1  Minister William Apess is often described as t...   \n",
       "2  Holly and Tracy share interviews with some of ...   \n",
       "3  Hi, Stuff You Missed In History Class fans! Th...   \n",
       "4  This 2017 episode covers an American sculptor ...   \n",
       "\n",
       "                           pubDate duration             type  \n",
       "0  Wed, 02 Mar 2022 17:35:00 +0000     2172          Regular  \n",
       "1  Mon, 28 Feb 2022 11:00:00 +0000     1954          Regular  \n",
       "2  Sun, 27 Feb 2022 14:00:00 +0000     1234          Regular  \n",
       "3  Sun, 27 Feb 2022 09:00:00 +0000      173          Regular  \n",
       "4  Sat, 26 Feb 2022 14:00:00 +0000     1703  SYMHC Classics:  "
      ]
     },
     "execution_count": 35,
     "metadata": {},
     "output_type": "execute_result"
    }
   ],
   "source": [
    "df.head()"
   ]
  },
  {
   "cell_type": "code",
   "execution_count": 54,
   "metadata": {},
   "outputs": [
    {
     "name": "stdout",
     "output_type": "stream",
     "text": [
      "<class 'pandas.core.frame.DataFrame'>\n",
      "RangeIndex: 1818 entries, 0 to 1817\n",
      "Data columns (total 5 columns):\n",
      " #   Column             Non-Null Count  Dtype \n",
      "---  ------             --------------  ----- \n",
      " 0   title              1818 non-null   object\n",
      " 1   description_clean  1818 non-null   object\n",
      " 2   pubDate            1818 non-null   object\n",
      " 3   duration           1818 non-null   object\n",
      " 4   type               1818 non-null   object\n",
      "dtypes: object(5)\n",
      "memory usage: 71.1+ KB\n"
     ]
    }
   ],
   "source": [
    "df.info()"
   ]
  },
  {
   "cell_type": "code",
   "execution_count": null,
   "metadata": {},
   "outputs": [],
   "source": []
  }
 ],
 "metadata": {
  "kernelspec": {
   "display_name": "Python 3",
   "language": "python",
   "name": "python3"
  },
  "language_info": {
   "codemirror_mode": {
    "name": "ipython",
    "version": 3
   },
   "file_extension": ".py",
   "mimetype": "text/x-python",
   "name": "python",
   "nbconvert_exporter": "python",
   "pygments_lexer": "ipython3",
   "version": "3.8.5"
  }
 },
 "nbformat": 4,
 "nbformat_minor": 4
}
