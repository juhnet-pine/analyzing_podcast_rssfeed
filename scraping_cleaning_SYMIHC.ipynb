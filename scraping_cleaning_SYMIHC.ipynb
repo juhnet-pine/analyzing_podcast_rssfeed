{
 "cells": [
  {
   "cell_type": "markdown",
   "metadata": {},
   "source": [
    "# Data extraction, cleaning and, preparation for analysis "
   ]
  },
  {
   "cell_type": "markdown",
   "metadata": {},
   "source": [
    "## Scraping RSS feed for podcast Stuff You Missed in History Class"
   ]
  },
  {
   "cell_type": "code",
   "execution_count": 1,
   "metadata": {},
   "outputs": [],
   "source": [
    "# import necessary libraries and modules. \n",
    "import requests\n",
    "from bs4 import BeautifulSoup \n",
    "\n",
    "from datetime import datetime\n",
    "\n",
    "import spacy\n",
    "nlp = spacy.load(\"en_core_web_sm\")"
   ]
  },
  {
   "cell_type": "code",
   "execution_count": 2,
   "metadata": {},
   "outputs": [],
   "source": [
    "# url for RSS feed to extract information about the podcasts. \n",
    "# RSS feeds are written in XML and information like titles, descriptions, publication date, etc. can be extracted. \n",
    "url = \"https://feeds.megaphone.fm/stuffyoumissedinhistoryclass\""
   ]
  },
  {
   "cell_type": "code",
   "execution_count": 5,
   "metadata": {},
   "outputs": [
    {
     "data": {
      "text/plain": [
       "1836"
      ]
     },
     "execution_count": 5,
     "metadata": {},
     "output_type": "execute_result"
    }
   ],
   "source": [
    "# Connecting to URL and sending a get request to scrape information. \n",
    "r = requests.get(url)\n",
    "soup = BeautifulSoup(r.content, features='xml')\n",
    "episodes = soup.findAll('item') \n",
    "\n",
    "# Can continally scrape, since the RSS feed is updated every time a new episode is added. \n",
    "len(episodes)"
   ]
  },
  {
   "cell_type": "markdown",
   "metadata": {},
   "source": [
    "# Data Cleaning and Preparation"
   ]
  },
  {
   "cell_type": "markdown",
   "metadata": {},
   "source": [
    "## Labeling Each Episode\n",
    "1. This is the function for labeling each episode as Classic (repeat), Behind the Scenes, Interviews, Unearthed or Regular episodes\n",
    "2. Using the concept of base case to write the for loop in the function "
   ]
  },
  {
   "cell_type": "code",
   "execution_count": 6,
   "metadata": {},
   "outputs": [],
   "source": [
    "# Assigning variables to each episode type, which is usually written exactly as follows in the title. \n",
    "search_classics = 'SYMHC Classics:'\n",
    "search_interviews = 'Interview'\n",
    "search_bts = 'Behind the Scenes Minis:'\n",
    "search_unearthed = 'Unearthed!'\n",
    "\n",
    "# Creating a special type list to loop through and search. \n",
    "special_types = [search_classics, search_interviews, search_bts, search_unearthed]\n",
    "\n",
    "#This is code to set the defaut to \"Regular\" \n",
    "#Anything that is not regular will be sorted into one of the \"special_types\" categories\n",
    "#This is an example of using base case\n",
    "def get_special_type(title, types):\n",
    "    special_type = \"Regular\" \n",
    "    for t in types:\n",
    "        if title.startswith(t):\n",
    "            special_type = t\n",
    "    return special_type \n"
   ]
  },
  {
   "cell_type": "markdown",
   "metadata": {},
   "source": [
    "## Calculating the time of each episode in minutes\n",
    "1. Episodes were originally in seconds. \n",
    "2. Converted them into minutes and rounded to the nearest minute."
   ]
  },
  {
   "cell_type": "code",
   "execution_count": 7,
   "metadata": {},
   "outputs": [],
   "source": [
    "def calculate_duration(time_string):\n",
    "    time = (int(time_string))/60\n",
    "    return int(round(time, 0))"
   ]
  },
  {
   "cell_type": "markdown",
   "metadata": {},
   "source": [
    "## Convert publication date to a more analizable string \n",
    "1. Created one columns with the conversion to datetime string (YYYY, MM, DD, T, S) \n",
    "2. Create two new columns: one for just year and one for just month. "
   ]
  },
  {
   "cell_type": "code",
   "execution_count": 8,
   "metadata": {},
   "outputs": [],
   "source": [
    "def convert_date(date_string): \n",
    "    date = datetime.strptime(date_string, \"%a, %d %b %Y %H:%M:%S %z\") \n",
    "    return date"
   ]
  },
  {
   "cell_type": "markdown",
   "metadata": {},
   "source": [
    "## Function for looping through each episode to find geopolitical locations "
   ]
  },
  {
   "cell_type": "code",
   "execution_count": 9,
   "metadata": {},
   "outputs": [],
   "source": [
    "# See the \"Spacy_Practice\" notebook to see process for extracting named entities. \n",
    "# Looping through each episode description to extract countries, states, and cities. \n",
    "def spacy_gpe(texts):\n",
    "    doc = nlp(texts)\n",
    "    ep_results = []\n",
    "    for ent in doc.ents:\n",
    "        if ent.label_=='GPE' and ent.text=='Deblina': \n",
    "            #It was recognizing a host's name 'Deblina' as a place, so I wrote an exception to this. \n",
    "            continue \n",
    "        elif ent.label_=='GPE':\n",
    "            ep_results.append([ent.text,ent.label_])\n",
    "        \n",
    "    return ep_results"
   ]
  },
  {
   "cell_type": "markdown",
   "metadata": {},
   "source": [
    "## Loop through each episode and cleaning it.\n",
    "1. Put all the episode details into a list and it's a list of dictionaries \n",
    "    *  Remove information from descriptions that is impertinent and put it in a new column called 'description_clean' \n",
    "    *  Appended the label of 'type' of episode\n",
    "    *  find named geopolitical named entities and append\n",
    "    "
   ]
  },
  {
   "cell_type": "code",
   "execution_count": 63,
   "metadata": {},
   "outputs": [],
   "source": [
    "#Create a list of all podcast episodes and put the following into the list: \n",
    "podcast_episodes = []\n",
    "\n",
    "# Loopings through each episode on the RSS feed to extract the following information. \n",
    "for episode in episodes:\n",
    "    \n",
    "    #Create a dictionary to put the lists into. \n",
    "    podcast_episode = {}\n",
    "    podcast_episode['title'] = episode.title.text \n",
    "    podcast_episode['description'] = episode.description.text\n",
    "    \n",
    "    #Clean the description removing information not pertinent to the analysis. \n",
    "    podcast_episode['description_clean'] = episode.description.text.strip('\\n').replace(\"Learn more about your ad-choices at https://www.iheartpodcastnetwork.com\",\"\").replace(\"See omnystudio.com/listener for privacy information.\",\"\").strip()\n",
    "    podcast_episode['pubDate'] = episode.pubDate.text \n",
    "    podcast_episode['pubDate_converted'] = str(convert_date(podcast_episode['pubDate'])) \n",
    "    podcast_episode['pubDate_year'] = str(convert_date(podcast_episode['pubDate']).year)\n",
    "    podcast_episode['pubDate_month'] = str(convert_date(podcast_episode['pubDate']).month)\n",
    "    podcast_episode['duration'] = episode.duration.text\n",
    "    podcast_episode['duration_minutes'] = calculate_duration(podcast_episode['duration'])\n",
    "    podcast_episode['type'] = get_special_type(podcast_episode['title'],special_type)\n",
    "    \n",
    "    #Named entity recognition extraction of countries, states, and cities. \n",
    "    podcast_episode['title_gpe_mentioned'] = spacy_gpe(podcast_episode['title'])\n",
    "    podcast_episode['description_gpe_mentioned'] = spacy_gpe(podcast_episode['description_clean'])\n",
    "    \n",
    "    \n",
    "    #Append all information to the greater list before the loop. \n",
    "    podcast_episodes.append(podcast_episode)"
   ]
  },
  {
   "cell_type": "code",
   "execution_count": 64,
   "metadata": {
    "collapsed": true,
    "jupyter": {
     "outputs_hidden": true
    }
   },
   "outputs": [
    {
     "data": {
      "text/plain": [
       "[{'title': 'Women’s March on Pretoria, 1956',\n",
       "  'description': 'This 1956 march was a protest against pass laws that were part of South Africa’s system of apartheid – and specifically the requirement that women carry passes. The protest was simultaneously part of the anti-apartheid movement in South Africa, and the movement for women’s rights.\\xa0\\n\\nResearch:\\n\"Apartheid.\" Gale World History Online Collection, Gale, 2021. Gale In Context: World History, link.gale.com/apps/doc/NUBLZL400705235/WHIC?u=mlin_n_melpub&sid=bookmark-WHIC&xid=a66fcd94\\nInternational Women’s Day. “National Women\\'s Day in South Africa is a powerful day for equal rights.” https://www.internationalwomensday.com/Missions/15556/National-Women-s-Day-in-South-Africa-is-a-powerful-day-for-equal-rights\\nAkpan, Idara . “The 1956 Women’s March in Pretoria.” South African History Online. https://www.sahistory.org.za/article/1956-womens-march-pretoria\\nSouth African History Online. “The 1956 Women’s March, Pretoria, 9 August.” https://www.sahistory.org.za/article/1956-womens-march-pretoria-9-august\\nPan Africanism Today Secretariat. “The lessons of South Africa’s 1956 Women’s March resonate to this day.” 8/9/2020. https://peoplesdispatch.org/2020/08/09/the-lessons-of-south-africas-1956-womens-march-resonate-to-this-day/\\nOgola, Esther. “South Africa: The icons behind the 1956 women’s march.” BBC. https://www.bbc.com/news/av/world-africa-55106942\\nTill, Christopher. “Our Triumphs and Our Tears: Women’s Struggles in 20th Century South Africa.” Apartheid Museum. https://www.apartheidmuseum.org/uploads/files/Our-Triumphs-and-Our-Tears.pdf\\nLenser, Amber Michelle, \"The South African Women\\'s Movement: The Roles of Feminism and Multiracial Cooperation in the Struggle for Women\\'s Rights\" (2019). Theses and Dissertations. 3397. https://scholarworks.uark.edu/etd/3397\\nSouth African History Online. “Women’s Charter.” https://www.sahistory.org.za/article/womens-charter\\n\\nSee omnystudio.com/listener for privacy information.',\n",
       "  'description_clean': 'This 1956 march was a protest against pass laws that were part of South Africa’s system of apartheid – and specifically the requirement that women carry passes. The protest was simultaneously part of the anti-apartheid movement in South Africa, and the movement for women’s rights.\\xa0\\n\\nResearch:\\n\"Apartheid.\" Gale World History Online Collection, Gale, 2021. Gale In Context: World History, link.gale.com/apps/doc/NUBLZL400705235/WHIC?u=mlin_n_melpub&sid=bookmark-WHIC&xid=a66fcd94\\nInternational Women’s Day. “National Women\\'s Day in South Africa is a powerful day for equal rights.” https://www.internationalwomensday.com/Missions/15556/National-Women-s-Day-in-South-Africa-is-a-powerful-day-for-equal-rights\\nAkpan, Idara . “The 1956 Women’s March in Pretoria.” South African History Online. https://www.sahistory.org.za/article/1956-womens-march-pretoria\\nSouth African History Online. “The 1956 Women’s March, Pretoria, 9 August.” https://www.sahistory.org.za/article/1956-womens-march-pretoria-9-august\\nPan Africanism Today Secretariat. “The lessons of South Africa’s 1956 Women’s March resonate to this day.” 8/9/2020. https://peoplesdispatch.org/2020/08/09/the-lessons-of-south-africas-1956-womens-march-resonate-to-this-day/\\nOgola, Esther. “South Africa: The icons behind the 1956 women’s march.” BBC. https://www.bbc.com/news/av/world-africa-55106942\\nTill, Christopher. “Our Triumphs and Our Tears: Women’s Struggles in 20th Century South Africa.” Apartheid Museum. https://www.apartheidmuseum.org/uploads/files/Our-Triumphs-and-Our-Tears.pdf\\nLenser, Amber Michelle, \"The South African Women\\'s Movement: The Roles of Feminism and Multiracial Cooperation in the Struggle for Women\\'s Rights\" (2019). Theses and Dissertations. 3397. https://scholarworks.uark.edu/etd/3397\\nSouth African History Online. “Women’s Charter.” https://www.sahistory.org.za/article/womens-charter',\n",
       "  'pubDate': 'Wed, 30 Mar 2022 12:58:56 +0000',\n",
       "  'pubDate_converted': '2022-03-30 12:58:56+00:00',\n",
       "  'pubDate_year': '2022',\n",
       "  'pubDate_month': '3',\n",
       "  'duration': '2014',\n",
       "  'duration_minutes': 34,\n",
       "  'type': 'Regular',\n",
       "  'title_gpe_mentioned': [['Pretoria', 'GPE']],\n",
       "  'description_gpe_mentioned': [['South Africa’s', 'GPE'],\n",
       "   ['South Africa', 'GPE'],\n",
       "   ['South Africa', 'GPE'],\n",
       "   ['Akpan', 'GPE'],\n",
       "   ['Idara', 'GPE'],\n",
       "   ['Pretoria', 'GPE'],\n",
       "   ['Pretoria', 'GPE'],\n",
       "   ['South Africa’s', 'GPE'],\n",
       "   ['South Africa', 'GPE'],\n",
       "   ['South Africa', 'GPE']]},\n",
       " {'title': 'Thomas Hardy, Emma Gifford and Florence Dugdale',\n",
       "  'description': \"Once you know about Hardy’s life, it's natural to see parallels to the events of his life in his writing. Two women were deeply important to his life and work: his first wife Emma Gifford, and his second wife Florence Dugdale.\\n\\nResearch:\\n“Max Gate.” United Kingdom National Trust. https://www.nationaltrust.org.uk/max-gate\\nMorris, Steven.”Discovery of letters shines light on Thomas Hardy's second marriage.” The Guardian. April 1, 2020. https://www.theguardian.com/books/2020/apr/02/discovery-of-letters-shines-light-on-thomas-hardys-second-marriage\\nTHOMAS, JANE. “IN DEFENCE OF EMMA HARDY.”\\xa0The Hardy Society Journal, vol. 9, no. 2, Thomas Hardy Society, 2013, pp. 39–59, https://www.jstor.org/stable/48563706\\nJohnson, Ben. “Thomas Hardy.” Historic UK. https://www.historic-uk.com/CultureUK/Thomas-Hardy/\\nFincham, Tony. “Life of Thomas Hardy.” Hardy Society. Feb. 3, 2019. https://www.hardysociety.org/life/\\nRichardson, Angelique. “Life behind the gates.”\\xa0 Times Literary Supplement.\\xa0 April 3, 2020. https://www.the-tls.co.uk/articles/newly-discovered-letters-thomas-hardy-wife-florence/\\nTomalin, Claire. “Thomas Hardy.” Penguin. 2007.\\nHardy, Thomas, “Wessex Poems and Other Verses.” Macmillan. 1919. https://www.gutenberg.org/files/3167/3167-h/3167-h.htm\\nAtkinson, Tim. “An old flame that burned bright – An Irishman’s Diary on Thomas Hardy and Emma Gifford.” Irish Times. March 2, 2020. https://www.irishtimes.com/opinion/an-old-flame-that-burned-bright-an-irishman-s-diary-on-thomas-hardy-and-emma-gifford-1.4189326\\nNorman, Andrew. “Thomas Hardy: Behind the Mask.” The Historic Press. 2011.\\n“Thomas Hardy.” Poetry Foundation. https://www.poetryfoundation.org/poets/thomas-hardy\\n\\nSee omnystudio.com/listener for privacy information.\",\n",
       "  'description_clean': \"Once you know about Hardy’s life, it's natural to see parallels to the events of his life in his writing. Two women were deeply important to his life and work: his first wife Emma Gifford, and his second wife Florence Dugdale.\\n\\nResearch:\\n“Max Gate.” United Kingdom National Trust. https://www.nationaltrust.org.uk/max-gate\\nMorris, Steven.”Discovery of letters shines light on Thomas Hardy's second marriage.” The Guardian. April 1, 2020. https://www.theguardian.com/books/2020/apr/02/discovery-of-letters-shines-light-on-thomas-hardys-second-marriage\\nTHOMAS, JANE. “IN DEFENCE OF EMMA HARDY.”\\xa0The Hardy Society Journal, vol. 9, no. 2, Thomas Hardy Society, 2013, pp. 39–59, https://www.jstor.org/stable/48563706\\nJohnson, Ben. “Thomas Hardy.” Historic UK. https://www.historic-uk.com/CultureUK/Thomas-Hardy/\\nFincham, Tony. “Life of Thomas Hardy.” Hardy Society. Feb. 3, 2019. https://www.hardysociety.org/life/\\nRichardson, Angelique. “Life behind the gates.”\\xa0 Times Literary Supplement.\\xa0 April 3, 2020. https://www.the-tls.co.uk/articles/newly-discovered-letters-thomas-hardy-wife-florence/\\nTomalin, Claire. “Thomas Hardy.” Penguin. 2007.\\nHardy, Thomas, “Wessex Poems and Other Verses.” Macmillan. 1919. https://www.gutenberg.org/files/3167/3167-h/3167-h.htm\\nAtkinson, Tim. “An old flame that burned bright – An Irishman’s Diary on Thomas Hardy and Emma Gifford.” Irish Times. March 2, 2020. https://www.irishtimes.com/opinion/an-old-flame-that-burned-bright-an-irishman-s-diary-on-thomas-hardy-and-emma-gifford-1.4189326\\nNorman, Andrew. “Thomas Hardy: Behind the Mask.” The Historic Press. 2011.\\n“Thomas Hardy.” Poetry Foundation. https://www.poetryfoundation.org/poets/thomas-hardy\",\n",
       "  'pubDate': 'Mon, 28 Mar 2022 13:03:00 +0000',\n",
       "  'pubDate_converted': '2022-03-28 13:03:00+00:00',\n",
       "  'pubDate_year': '2022',\n",
       "  'pubDate_month': '3',\n",
       "  'duration': '2311',\n",
       "  'duration_minutes': 39,\n",
       "  'type': 'Regular',\n",
       "  'title_gpe_mentioned': [],\n",
       "  'description_gpe_mentioned': [['Angelique', 'GPE']]},\n",
       " {'title': 'SYMHC Classics: 6888th Central Postal Directory Battalion',\n",
       "  'description': 'This 2019 episode covers the 6888th Central Postal Directory Battalion, which was part of the Women’s Army Corps during World War II. The 6888th was the only battalion of black women from the U.S. to serve in Europe during World War II.\\n\\nSee omnystudio.com/listener for privacy information.',\n",
       "  'description_clean': 'This 2019 episode covers the 6888th Central Postal Directory Battalion, which was part of the Women’s Army Corps during World War II. The 6888th was the only battalion of black women from the U.S. to serve in Europe during World War II.',\n",
       "  'pubDate': 'Sat, 26 Mar 2022 13:00:00 +0000',\n",
       "  'pubDate_converted': '2022-03-26 13:00:00+00:00',\n",
       "  'pubDate_year': '2022',\n",
       "  'pubDate_month': '3',\n",
       "  'duration': '2040',\n",
       "  'duration_minutes': 34,\n",
       "  'type': 'SYMHC Classics:',\n",
       "  'title_gpe_mentioned': [],\n",
       "  'description_gpe_mentioned': [['U.S.', 'GPE']]}]"
      ]
     },
     "execution_count": 64,
     "metadata": {},
     "output_type": "execute_result"
    }
   ],
   "source": [
    "podcast_episodes[:3]"
   ]
  },
  {
   "cell_type": "markdown",
   "metadata": {},
   "source": [
    "## Export data to json file "
   ]
  },
  {
   "cell_type": "code",
   "execution_count": 65,
   "metadata": {},
   "outputs": [],
   "source": [
    "import json\n",
    "\n",
    "with open(\"rssdump.json\", 'w') as outfile:\n",
    "    json.dump(podcast_episodes, outfile, indent=4)\n",
    "    #indent adds white space to make it easier to read "
   ]
  },
  {
   "cell_type": "code",
   "execution_count": 66,
   "metadata": {},
   "outputs": [],
   "source": [
    "import pandas as pd\n",
    "df = pd.DataFrame(podcast_episodes, columns=['title','description_clean','pubDate_year','pubDate_month','duration_minutes','type', 'title_gpe_mentioned', 'description_gpe_mentioned'])"
   ]
  },
  {
   "cell_type": "code",
   "execution_count": 67,
   "metadata": {},
   "outputs": [
    {
     "data": {
      "text/html": [
       "<div>\n",
       "<style scoped>\n",
       "    .dataframe tbody tr th:only-of-type {\n",
       "        vertical-align: middle;\n",
       "    }\n",
       "\n",
       "    .dataframe tbody tr th {\n",
       "        vertical-align: top;\n",
       "    }\n",
       "\n",
       "    .dataframe thead th {\n",
       "        text-align: right;\n",
       "    }\n",
       "</style>\n",
       "<table border=\"1\" class=\"dataframe\">\n",
       "  <thead>\n",
       "    <tr style=\"text-align: right;\">\n",
       "      <th></th>\n",
       "      <th>title</th>\n",
       "      <th>description_clean</th>\n",
       "      <th>pubDate_year</th>\n",
       "      <th>pubDate_month</th>\n",
       "      <th>duration_minutes</th>\n",
       "      <th>type</th>\n",
       "      <th>title_gpe_mentioned</th>\n",
       "      <th>description_gpe_mentioned</th>\n",
       "    </tr>\n",
       "  </thead>\n",
       "  <tbody>\n",
       "    <tr>\n",
       "      <th>0</th>\n",
       "      <td>Women’s March on Pretoria, 1956</td>\n",
       "      <td>This 1956 march was a protest against pass law...</td>\n",
       "      <td>2022</td>\n",
       "      <td>3</td>\n",
       "      <td>34</td>\n",
       "      <td>Regular</td>\n",
       "      <td>[[Pretoria, GPE]]</td>\n",
       "      <td>[[South Africa’s, GPE], [South Africa, GPE], [...</td>\n",
       "    </tr>\n",
       "    <tr>\n",
       "      <th>1</th>\n",
       "      <td>Thomas Hardy, Emma Gifford and Florence Dugdale</td>\n",
       "      <td>Once you know about Hardy’s life, it's natural...</td>\n",
       "      <td>2022</td>\n",
       "      <td>3</td>\n",
       "      <td>39</td>\n",
       "      <td>Regular</td>\n",
       "      <td>[]</td>\n",
       "      <td>[[Angelique, GPE]]</td>\n",
       "    </tr>\n",
       "    <tr>\n",
       "      <th>2</th>\n",
       "      <td>SYMHC Classics: 6888th Central Postal Director...</td>\n",
       "      <td>This 2019 episode covers the 6888th Central Po...</td>\n",
       "      <td>2022</td>\n",
       "      <td>3</td>\n",
       "      <td>34</td>\n",
       "      <td>SYMHC Classics:</td>\n",
       "      <td>[]</td>\n",
       "      <td>[[U.S., GPE]]</td>\n",
       "    </tr>\n",
       "    <tr>\n",
       "      <th>3</th>\n",
       "      <td>Behind the Scenes Minis: Maria and Bruno</td>\n",
       "      <td>Tracy shares how she learned about Maria Gertr...</td>\n",
       "      <td>2022</td>\n",
       "      <td>3</td>\n",
       "      <td>19</td>\n",
       "      <td>Behind the Scenes Minis:</td>\n",
       "      <td>[]</td>\n",
       "      <td>[]</td>\n",
       "    </tr>\n",
       "    <tr>\n",
       "      <th>4</th>\n",
       "      <td>Giordano Bruno</td>\n",
       "      <td>Bruno was a mathematician, philosopher, astron...</td>\n",
       "      <td>2022</td>\n",
       "      <td>3</td>\n",
       "      <td>40</td>\n",
       "      <td>Regular</td>\n",
       "      <td>[]</td>\n",
       "      <td>[[Italy, GPE], [Martinez, GPE]]</td>\n",
       "    </tr>\n",
       "  </tbody>\n",
       "</table>\n",
       "</div>"
      ],
      "text/plain": [
       "                                               title  \\\n",
       "0                    Women’s March on Pretoria, 1956   \n",
       "1    Thomas Hardy, Emma Gifford and Florence Dugdale   \n",
       "2  SYMHC Classics: 6888th Central Postal Director...   \n",
       "3           Behind the Scenes Minis: Maria and Bruno   \n",
       "4                                     Giordano Bruno   \n",
       "\n",
       "                                   description_clean pubDate_year  \\\n",
       "0  This 1956 march was a protest against pass law...         2022   \n",
       "1  Once you know about Hardy’s life, it's natural...         2022   \n",
       "2  This 2019 episode covers the 6888th Central Po...         2022   \n",
       "3  Tracy shares how she learned about Maria Gertr...         2022   \n",
       "4  Bruno was a mathematician, philosopher, astron...         2022   \n",
       "\n",
       "  pubDate_month  duration_minutes                      type  \\\n",
       "0             3                34                   Regular   \n",
       "1             3                39                   Regular   \n",
       "2             3                34           SYMHC Classics:   \n",
       "3             3                19  Behind the Scenes Minis:   \n",
       "4             3                40                   Regular   \n",
       "\n",
       "  title_gpe_mentioned                          description_gpe_mentioned  \n",
       "0   [[Pretoria, GPE]]  [[South Africa’s, GPE], [South Africa, GPE], [...  \n",
       "1                  []                                 [[Angelique, GPE]]  \n",
       "2                  []                                      [[U.S., GPE]]  \n",
       "3                  []                                                 []  \n",
       "4                  []                    [[Italy, GPE], [Martinez, GPE]]  "
      ]
     },
     "execution_count": 67,
     "metadata": {},
     "output_type": "execute_result"
    }
   ],
   "source": [
    "df.head()"
   ]
  },
  {
   "cell_type": "code",
   "execution_count": 68,
   "metadata": {},
   "outputs": [
    {
     "name": "stdout",
     "output_type": "stream",
     "text": [
      "<class 'pandas.core.frame.DataFrame'>\n",
      "RangeIndex: 1833 entries, 0 to 1832\n",
      "Data columns (total 8 columns):\n",
      " #   Column                     Non-Null Count  Dtype \n",
      "---  ------                     --------------  ----- \n",
      " 0   title                      1833 non-null   object\n",
      " 1   description_clean          1833 non-null   object\n",
      " 2   pubDate_year               1833 non-null   object\n",
      " 3   pubDate_month              1833 non-null   object\n",
      " 4   duration_minutes           1833 non-null   int64 \n",
      " 5   type                       1833 non-null   object\n",
      " 6   title_gpe_mentioned        1833 non-null   object\n",
      " 7   description_gpe_mentioned  1833 non-null   object\n",
      "dtypes: int64(1), object(7)\n",
      "memory usage: 114.7+ KB\n"
     ]
    }
   ],
   "source": [
    "df.info()"
   ]
  },
  {
   "cell_type": "markdown",
   "metadata": {},
   "source": [
    "## Export the data into an excel file for easy handcoding of western vs. non-western countries. "
   ]
  },
  {
   "cell_type": "code",
   "execution_count": 70,
   "metadata": {},
   "outputs": [],
   "source": [
    "df.to_excel('SYMIHC_country_data.xlsx')"
   ]
  },
  {
   "cell_type": "markdown",
   "metadata": {},
   "source": [
    "## Additional cleaning/prepping tasks for the future:\n",
    "1. clean descriptions to remove research portion (not on all episodes) \n",
    "2. Include NORP in analysis to greater improve country and region accuracy \n",
    "3. Include pronouns, gender referential inference \n",
    "4. Include time/era "
   ]
  },
  {
   "cell_type": "code",
   "execution_count": null,
   "metadata": {},
   "outputs": [],
   "source": []
  }
 ],
 "metadata": {
  "kernelspec": {
   "display_name": "Python 3",
   "language": "python",
   "name": "python3"
  },
  "language_info": {
   "codemirror_mode": {
    "name": "ipython",
    "version": 3
   },
   "file_extension": ".py",
   "mimetype": "text/x-python",
   "name": "python",
   "nbconvert_exporter": "python",
   "pygments_lexer": "ipython3",
   "version": "3.8.5"
  }
 },
 "nbformat": 4,
 "nbformat_minor": 4
}
