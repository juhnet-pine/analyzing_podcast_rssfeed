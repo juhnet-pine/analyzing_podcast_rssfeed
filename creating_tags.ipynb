{
 "cells": [
  {
   "cell_type": "code",
   "execution_count": 55,
   "metadata": {},
   "outputs": [],
   "source": [
    "\n",
    "temp = {'title1':'SYMHC Classics:The Tussaud Test of Popularity', \n",
    "        'title2':'Julio Tello, Peru’s Archaeological Trail Blazer',\n",
    "        'title3':'SYMHC Classics: Tunguska Event',\n",
    "        'title4':'SYMHC Classics: Hernandez v. Texas',\n",
    "        'title5':'Grand Central Terminal',\n",
    "        'title6':'Behind the Scenes Minis: Crowley and Cagliostro',\n",
    "        'title7':'Behind the Scenes Minis: Tod Browning',\n",
    "        'title8':'Wilfrid Voynich',\n",
    "        'title9':'Behind the Scenes Minis: Colchester and Gin',\n",
    "        'title10':'Unearthed! in July 2021, Part 1',\n",
    "        'title11':'The Demon Core and Other Criticality Accidents',\n",
    "        'title12':'Unearthed! Spring 2021, Part 2',\n",
    "        'title13':'Unearthed! Year-end 2020, Part 2',\n",
    "        'title14':'Interview: Dr. Rachel Lance and the H.L. Hunley',\n",
    "        'title15':'Interviews: Atlanta History Center and Covid-19'}\n"
   ]
  },
  {
   "cell_type": "code",
   "execution_count": null,
   "metadata": {},
   "outputs": [],
   "source": [
    "# How to combine 'labels' into a columns? I want to create labels or tags for each episode using the title.\n",
    "# for example, putting a label next to each episode in a new list titled 'episode type'. \n",
    "# I want to know if the episode is a Behind the Scenes, Classics, Unearthed, Interview, or Normal Episode. "
   ]
  },
  {
   "cell_type": "code",
   "execution_count": 56,
   "metadata": {},
   "outputs": [],
   "source": [
    "episode_types = []\n",
    "search_classics = 'SYMHC Classics:'\n",
    "search_interviews = 'Interview'\n",
    "search_bts = 'Behind the Scenes Minis:'\n",
    "search_unearthed = 'Unearthed!'\n",
    "\n",
    "# you can collect them all like this in separate groups\n",
    "episodes = {search_classics: [], search_interviews: [], search_bts: [], search_unearthed: []}\n",
    "# alternatively....you can just add the type\n",
    "special_types = [search_classics, search_interviews, search_bts, search_unearthed]\n",
    "\n",
    "episode_details = []\n",
    "\n",
    "def check_if_special_type(title, types):\n",
    "  special_type = \"Regular\"\n",
    "  for t in types:\n",
    "    if title.startswith(t):\n",
    "      special_type = t\n",
    "  return special_type # return the result, which will be true of false."
   ]
  },
  {
   "cell_type": "code",
   "execution_count": 58,
   "metadata": {},
   "outputs": [
    {
     "name": "stdout",
     "output_type": "stream",
     "text": [
      "[{'title': 'SYMHC Classics:The Tussaud Test of Popularity', 'type': 'SYMHC Classics:'}, {'title': 'Julio Tello, Peru’s Archaeological Trail Blazer', 'type': 'Regular'}, {'title': 'SYMHC Classics: Tunguska Event', 'type': 'SYMHC Classics:'}, {'title': 'SYMHC Classics: Hernandez v. Texas', 'type': 'SYMHC Classics:'}, {'title': 'Grand Central Terminal', 'type': 'Regular'}, {'title': 'Behind the Scenes Minis: Crowley and Cagliostro', 'type': 'Behind the Scenes Minis:'}, {'title': 'Behind the Scenes Minis: Tod Browning', 'type': 'Behind the Scenes Minis:'}, {'title': 'Wilfrid Voynich', 'type': 'Regular'}, {'title': 'Behind the Scenes Minis: Colchester and Gin', 'type': 'Behind the Scenes Minis:'}, {'title': 'Unearthed! in July 2021, Part 1', 'type': 'Unearthed!'}, {'title': 'The Demon Core and Other Criticality Accidents', 'type': 'Regular'}, {'title': 'Unearthed! Spring 2021, Part 2', 'type': 'Unearthed!'}, {'title': 'Unearthed! Year-end 2020, Part 2', 'type': 'Unearthed!'}, {'title': 'Interview: Dr. Rachel Lance and the H.L. Hunley', 'type': 'Interview'}, {'title': 'Interviews: Atlanta History Center and Covid-19', 'type': 'Interview'}, {'title': 'SYMHC Classics:The Tussaud Test of Popularity', 'type': 'SYMHC Classics:'}, {'title': 'Julio Tello, Peru’s Archaeological Trail Blazer', 'type': 'Regular'}, {'title': 'SYMHC Classics: Tunguska Event', 'type': 'SYMHC Classics:'}, {'title': 'SYMHC Classics: Hernandez v. Texas', 'type': 'SYMHC Classics:'}, {'title': 'Grand Central Terminal', 'type': 'Regular'}, {'title': 'Behind the Scenes Minis: Crowley and Cagliostro', 'type': 'Behind the Scenes Minis:'}, {'title': 'Behind the Scenes Minis: Tod Browning', 'type': 'Behind the Scenes Minis:'}, {'title': 'Wilfrid Voynich', 'type': 'Regular'}, {'title': 'Behind the Scenes Minis: Colchester and Gin', 'type': 'Behind the Scenes Minis:'}, {'title': 'Unearthed! in July 2021, Part 1', 'type': 'Unearthed!'}, {'title': 'The Demon Core and Other Criticality Accidents', 'type': 'Regular'}, {'title': 'Unearthed! Spring 2021, Part 2', 'type': 'Unearthed!'}, {'title': 'Unearthed! Year-end 2020, Part 2', 'type': 'Unearthed!'}, {'title': 'Interview: Dr. Rachel Lance and the H.L. Hunley', 'type': 'Interview'}, {'title': 'Interviews: Atlanta History Center and Covid-19', 'type': 'Interview'}]\n"
     ]
    }
   ],
   "source": [
    "# Does not require the function \n",
    "#for example_title in temp.values():\n",
    "  #ep = {'title': example_title, 'type': 'Regular'} # setting regular as the default value\n",
    "  #for search_type in episodes.keys():\n",
    "    #if search_type in example_title:\n",
    "     #ep['type'] = search_type # if another type is found, overwrite.\n",
    "  #episode_details.append(ep) # add the ep info to the list of all\n",
    "\n",
    "  # or...\n",
    "\n",
    "for example_title in temp.values():\n",
    "  ep = {'title': example_title, 'type': check_if_special_type(example_title, special_types)}\n",
    "  episode_details.append(ep)\n",
    "print(episode_details)"
   ]
  },
  {
   "cell_type": "code",
   "execution_count": 59,
   "metadata": {},
   "outputs": [
    {
     "data": {
      "text/plain": [
       "[{'title': 'SYMHC Classics:The Tussaud Test of Popularity',\n",
       "  'type': 'SYMHC Classics:'},\n",
       " {'title': 'Julio Tello, Peru’s Archaeological Trail Blazer',\n",
       "  'type': 'Regular'},\n",
       " {'title': 'SYMHC Classics: Tunguska Event', 'type': 'SYMHC Classics:'},\n",
       " {'title': 'SYMHC Classics: Hernandez v. Texas', 'type': 'SYMHC Classics:'},\n",
       " {'title': 'Grand Central Terminal', 'type': 'Regular'},\n",
       " {'title': 'Behind the Scenes Minis: Crowley and Cagliostro',\n",
       "  'type': 'Behind the Scenes Minis:'},\n",
       " {'title': 'Behind the Scenes Minis: Tod Browning',\n",
       "  'type': 'Behind the Scenes Minis:'},\n",
       " {'title': 'Wilfrid Voynich', 'type': 'Regular'},\n",
       " {'title': 'Behind the Scenes Minis: Colchester and Gin',\n",
       "  'type': 'Behind the Scenes Minis:'},\n",
       " {'title': 'Unearthed! in July 2021, Part 1', 'type': 'Unearthed!'},\n",
       " {'title': 'The Demon Core and Other Criticality Accidents',\n",
       "  'type': 'Regular'},\n",
       " {'title': 'Unearthed! Spring 2021, Part 2', 'type': 'Unearthed!'},\n",
       " {'title': 'Unearthed! Year-end 2020, Part 2', 'type': 'Unearthed!'},\n",
       " {'title': 'Interview: Dr. Rachel Lance and the H.L. Hunley',\n",
       "  'type': 'Interview'},\n",
       " {'title': 'Interviews: Atlanta History Center and Covid-19',\n",
       "  'type': 'Interview'},\n",
       " {'title': 'SYMHC Classics:The Tussaud Test of Popularity',\n",
       "  'type': 'SYMHC Classics:'},\n",
       " {'title': 'Julio Tello, Peru’s Archaeological Trail Blazer',\n",
       "  'type': 'Regular'},\n",
       " {'title': 'SYMHC Classics: Tunguska Event', 'type': 'SYMHC Classics:'},\n",
       " {'title': 'SYMHC Classics: Hernandez v. Texas', 'type': 'SYMHC Classics:'},\n",
       " {'title': 'Grand Central Terminal', 'type': 'Regular'},\n",
       " {'title': 'Behind the Scenes Minis: Crowley and Cagliostro',\n",
       "  'type': 'Behind the Scenes Minis:'},\n",
       " {'title': 'Behind the Scenes Minis: Tod Browning',\n",
       "  'type': 'Behind the Scenes Minis:'},\n",
       " {'title': 'Wilfrid Voynich', 'type': 'Regular'},\n",
       " {'title': 'Behind the Scenes Minis: Colchester and Gin',\n",
       "  'type': 'Behind the Scenes Minis:'},\n",
       " {'title': 'Unearthed! in July 2021, Part 1', 'type': 'Unearthed!'},\n",
       " {'title': 'The Demon Core and Other Criticality Accidents',\n",
       "  'type': 'Regular'},\n",
       " {'title': 'Unearthed! Spring 2021, Part 2', 'type': 'Unearthed!'},\n",
       " {'title': 'Unearthed! Year-end 2020, Part 2', 'type': 'Unearthed!'},\n",
       " {'title': 'Interview: Dr. Rachel Lance and the H.L. Hunley',\n",
       "  'type': 'Interview'},\n",
       " {'title': 'Interviews: Atlanta History Center and Covid-19',\n",
       "  'type': 'Interview'}]"
      ]
     },
     "execution_count": 59,
     "metadata": {},
     "output_type": "execute_result"
    }
   ],
   "source": [
    "episode_details"
   ]
  },
  {
   "cell_type": "code",
   "execution_count": null,
   "metadata": {},
   "outputs": [],
   "source": []
  },
  {
   "cell_type": "code",
   "execution_count": 54,
   "metadata": {},
   "outputs": [
    {
     "name": "stdout",
     "output_type": "stream",
     "text": [
      "Classic\n",
      "Regular\n",
      "Classic\n",
      "Classic\n",
      "Regular\n",
      "BTS\n",
      "BTS\n",
      "Regular\n",
      "BTS\n",
      "Unearthed\n",
      "Regular\n",
      "Unearthed\n",
      "Unearthed\n",
      "Interview\n",
      "Interview\n",
      "['SYMHC Classics:The Tussaud Test of Popularity', 'Julio Tello, Peru’s Archaeological Trail Blazer', 'SYMHC Classics: Tunguska Event', 'SYMHC Classics: Hernandez v. Texas', 'Grand Central Terminal', 'Behind the Scenes Minis: Crowley and Cagliostro', 'Behind the Scenes Minis: Tod Browning', 'Wilfrid Voynich', 'Behind the Scenes Minis: Colchester and Gin', 'Unearthed! in July 2021, Part 1', 'The Demon Core and Other Criticality Accidents', 'Unearthed! Spring 2021, Part 2', 'Unearthed! Year-end 2020, Part 2', 'Interview: Dr. Rachel Lance and the H.L. Hunley', 'Interviews: Atlanta History Center and Covid-19']\n"
     ]
    }
   ],
   "source": [
    "#def episode_tags()\n",
    "episode_type = []\n",
    "search_classics = 'SYMHC Classics:'\n",
    "search_interviews = 'Interview'\n",
    "search_bts = 'Behind the Scenes Minis:'\n",
    "search_unearthed = 'Unearthed!'\n",
    "for value in temp.values():\n",
    "    if search_classics in value:\n",
    "        print('Classic')\n",
    "    elif search_interviews in value:\n",
    "        print('Interview')\n",
    "    elif search_bts in value:\n",
    "        print('BTS')\n",
    "    elif search_unearthed in value:\n",
    "        print('Unearthed')\n",
    "    else:\n",
    "        print('Regular')\n",
    "    episode_type.append(value)\n",
    "print(episode_type)\n",
    "#establish a base case. The type is regular. Loop through different serach values, reset the value of type to be that term. "
   ]
  },
  {
   "cell_type": "code",
   "execution_count": 43,
   "metadata": {},
   "outputs": [
    {
     "name": "stdout",
     "output_type": "stream",
     "text": [
      "['SYMHC Classics:The Tussaud Test of Popularity', 'SYMHC Classics: Tunguska Event', 'SYMHC Classics: Hernandez v. Texas']\n"
     ]
    }
   ],
   "source": [
    "# def classics_tag():\n",
    "classics = []\n",
    "search_classics = 'SYMHC Classics:'\n",
    "for value in temp.values():\n",
    "    if search_classics in value:\n",
    "        classics.append(value)\n",
    "print(classics)"
   ]
  },
  {
   "cell_type": "code",
   "execution_count": 44,
   "metadata": {},
   "outputs": [
    {
     "name": "stdout",
     "output_type": "stream",
     "text": [
      "['Interview: Dr. Rachel Lance and the H.L. Hunley', 'Interviews: Atlanta History Center and Covid-19']\n"
     ]
    }
   ],
   "source": [
    "# def interview(): will need to add an interview tag too. \n",
    "#how to search for interview: AND interviews: \n",
    "interviews = []\n",
    "search_interviews = 'Interview'\n",
    "for value in temp.values():\n",
    "    if search_interviews in value:\n",
    "        interviews.append(value)\n",
    "print(interviews)"
   ]
  },
  {
   "cell_type": "code",
   "execution_count": 45,
   "metadata": {},
   "outputs": [
    {
     "name": "stdout",
     "output_type": "stream",
     "text": [
      "['Behind the Scenes Minis: Crowley and Cagliostro', 'Behind the Scenes Minis: Tod Browning', 'Behind the Scenes Minis: Colchester and Gin']\n"
     ]
    }
   ],
   "source": [
    "# def behindthescenes_tag():\n",
    "behindthescenes = []\n",
    "search_bts = 'Behind the Scenes Minis:'\n",
    "for value in temp.values():\n",
    "    if search_bts in value:\n",
    "        behindthescenes.append(value)\n",
    "print(behindthescenes)    "
   ]
  },
  {
   "cell_type": "code",
   "execution_count": 46,
   "metadata": {},
   "outputs": [
    {
     "name": "stdout",
     "output_type": "stream",
     "text": [
      "['Unearthed! in July 2021, Part 1', 'Unearthed! Spring 2021, Part 2', 'Unearthed! Year-end 2020, Part 2']\n"
     ]
    }
   ],
   "source": [
    "# def unearthed_tag():\n",
    "unearthed = []\n",
    "search_unearthed = 'Unearthed!'\n",
    "for value in temp.values():\n",
    "    if search_unearthed in value:\n",
    "        unearthed.append(value)\n",
    "print(unearthed)"
   ]
  },
  {
   "cell_type": "code",
   "execution_count": null,
   "metadata": {},
   "outputs": [],
   "source": []
  }
 ],
 "metadata": {
  "kernelspec": {
   "display_name": "Python 3",
   "language": "python",
   "name": "python3"
  },
  "language_info": {
   "codemirror_mode": {
    "name": "ipython",
    "version": 3
   },
   "file_extension": ".py",
   "mimetype": "text/x-python",
   "name": "python",
   "nbconvert_exporter": "python",
   "pygments_lexer": "ipython3",
   "version": "3.8.5"
  }
 },
 "nbformat": 4,
 "nbformat_minor": 4
}
